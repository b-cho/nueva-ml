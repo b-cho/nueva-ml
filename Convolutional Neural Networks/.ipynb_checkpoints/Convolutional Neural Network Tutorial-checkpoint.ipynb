{
 "cells": [
  {
   "cell_type": "markdown",
   "metadata": {},
   "source": [
    "## Instructions\n",
    "0. If you haven't already, follow [the setup instructions here](https://jennselby.github.io/MachineLearningCourseNotes/#setting-up-python3) to get all necessary software installed.\n",
    "0. Read through the code in the following sections:\n",
    "    * [First Model](#First-Model)\n",
    "    * [Create Images](#Create-Images)\n",
    "    * [Run Images Through Model](#Run-Images-Through-Model)\n",
    "0. Answer the [Model 1 Questions](#Model-1-Questions)\n",
    "0. Read through the code for the [Second Model](#Second-Model)\n",
    "0. Complete [Exercise #1](#Exercise-#1)\n",
    "0. Optionally, complete [Exercise #2](#Exercise-#2)"
   ]
  },
  {
   "cell_type": "markdown",
   "metadata": {},
   "source": [
    "First, we'll want to import the keras modules we'll be using for our neural network and the numpy and matplotlib modules that we'll be using for displaying our test images."
   ]
  },
  {
   "cell_type": "code",
   "execution_count": 1,
   "metadata": {},
   "outputs": [],
   "source": [
    "from keras.models import Sequential\n",
    "from keras.layers import Conv2D\n",
    "import numpy as np\n",
    "from matplotlib.pyplot import imshow\n",
    "# tell matplotlib to display images within this notebook\n",
    "%matplotlib inline "
   ]
  },
  {
   "cell_type": "markdown",
   "metadata": {},
   "source": [
    "## First Model\n",
    "\n",
    "Next, let's set up the structure of our model. We'll start with a really simple model, with just one convolutional layer that has just one filter. We are going to be using 9x9-pixel grayscale images, so we set the input shape accordingly. If we were using color images with red-green-blue channels, the last dimension would be size three (one for each color) instead of one."
   ]
  },
  {
   "cell_type": "code",
   "execution_count": 2,
   "metadata": {},
   "outputs": [],
   "source": [
    "kernel_size = 3\n",
    "image_size = 9"
   ]
  },
  {
   "cell_type": "code",
   "execution_count": 3,
   "metadata": {},
   "outputs": [],
   "source": [
    "model0 = Sequential()\n",
    "model0.add(Conv2D(filters=1,\n",
    "                  kernel_size=kernel_size,\n",
    "                  strides=1,\n",
    "                  input_shape=(image_size, image_size, 1)))"
   ]
  },
  {
   "cell_type": "markdown",
   "metadata": {},
   "source": [
    "Normally at this point, we would compile and train (aka fit) our model, but instead we're going to set the weights manually and then see the output we get on some test images.\n",
    "\n",
    "First, let's take a look at what the randomly generated weights look like, to understand the format that we'll need to use to set the new weights. By changing the parameters of the model above and looking at how it affects the weight structure, we can understand what each weight is connected to (try it!)."
   ]
  },
  {
   "cell_type": "code",
   "execution_count": 4,
   "metadata": {},
   "outputs": [
    {
     "data": {
      "text/plain": [
       "[array([[[[-0.44615477]],\n",
       " \n",
       "         [[ 0.3102712 ]],\n",
       " \n",
       "         [[ 0.2783305 ]]],\n",
       " \n",
       " \n",
       "        [[[-0.4075979 ]],\n",
       " \n",
       "         [[-0.12848291]],\n",
       " \n",
       "         [[-0.00170439]]],\n",
       " \n",
       " \n",
       "        [[[ 0.31020707]],\n",
       " \n",
       "         [[ 0.09822023]],\n",
       " \n",
       "         [[ 0.26112467]]]], dtype=float32),\n",
       " array([0.], dtype=float32)]"
      ]
     },
     "execution_count": 4,
     "metadata": {},
     "output_type": "execute_result"
    }
   ],
   "source": [
    "weights = model0.get_weights()\n",
    "weights"
   ]
  },
  {
   "cell_type": "markdown",
   "metadata": {},
   "source": [
    "Now, we change the weights so that the filter will capture a certain pattern. We'll explore more about what this means below, but feel free to start generating some guesses."
   ]
  },
  {
   "cell_type": "code",
   "execution_count": 5,
   "metadata": {},
   "outputs": [
    {
     "data": {
      "text/plain": [
       "[array([[[[ 1.]],\n",
       " \n",
       "         [[ 1.]],\n",
       " \n",
       "         [[ 1.]]],\n",
       " \n",
       " \n",
       "        [[[-1.]],\n",
       " \n",
       "         [[-1.]],\n",
       " \n",
       "         [[-1.]]],\n",
       " \n",
       " \n",
       "        [[[-1.]],\n",
       " \n",
       "         [[-1.]],\n",
       " \n",
       "         [[-1.]]]], dtype=float32),\n",
       " array([0.], dtype=float32)]"
      ]
     },
     "execution_count": 5,
     "metadata": {},
     "output_type": "execute_result"
    }
   ],
   "source": [
    "layer_num = 0\n",
    "filter_num = 0\n",
    "y = 0\n",
    "for x in range(kernel_size):\n",
    "    weights[layer_num][y][x][0][filter_num] = 1\n",
    "for y in range(1,kernel_size):\n",
    "    for x in range(kernel_size):\n",
    "        weights[layer_num][y][x][0][filter_num] = -1\n",
    "weights"
   ]
  },
  {
   "cell_type": "markdown",
   "metadata": {},
   "source": [
    "And save those weights back into the model."
   ]
  },
  {
   "cell_type": "code",
   "execution_count": 6,
   "metadata": {},
   "outputs": [],
   "source": [
    "model0.set_weights(weights)"
   ]
  },
  {
   "cell_type": "markdown",
   "metadata": {},
   "source": [
    "## Create Images\n",
    "\n",
    "Now, let's create some 9x9 images that we will run through our model."
   ]
  },
  {
   "cell_type": "code",
   "execution_count": 7,
   "metadata": {},
   "outputs": [
    {
     "data": {
      "text/plain": [
       "<matplotlib.image.AxesImage at 0x141888ca0>"
      ]
     },
     "execution_count": 7,
     "metadata": {},
     "output_type": "execute_result"
    },
    {
     "data": {
      "image/png": "[encoded data removed]",
      "text/plain": [
       "<Figure size 432x288 with 1 Axes>"
      ]
     },
     "metadata": {
      "needs_background": "light"
     },
     "output_type": "display_data"
    }
   ],
   "source": [
    "image0 = np.array([\n",
    "    [128, 0, 128, 255, 128, 0, 128, 255, 128],\n",
    "    [128, 0, 128, 255, 128, 0, 128, 255, 128],\n",
    "    [128, 0, 128, 255, 128, 0, 128, 255, 128],\n",
    "    [128, 0, 128, 255, 128, 0, 128, 255, 128],\n",
    "    [128, 0, 128, 255, 128, 0, 128, 255, 128],\n",
    "    [128, 0, 128, 255, 128, 0, 128, 255, 128],\n",
    "    [128, 0, 128, 255, 128, 0, 128, 255, 128],\n",
    "    [128, 0, 128, 255, 128, 0, 128, 255, 128],\n",
    "    [128, 0, 128, 255, 128, 0, 128, 255, 128],\n",
    "], dtype=np.uint8)\n",
    "imshow(image0, cmap='gray')"
   ]
  },
  {
   "cell_type": "code",
   "execution_count": 8,
   "metadata": {},
   "outputs": [
    {
     "data": {
      "text/plain": [
       "<matplotlib.image.AxesImage at 0x14196f580>"
      ]
     },
     "execution_count": 8,
     "metadata": {},
     "output_type": "execute_result"
    },
    {
     "data": {
      "image/png": "[encoded data removed]",
      "text/plain": [
       "<Figure size 432x288 with 1 Axes>"
      ]
     },
     "metadata": {
      "needs_background": "light"
     },
     "output_type": "display_data"
    }
   ],
   "source": [
    "image1 = np.array([\n",
    "    [128, 128, 128, 128, 128, 128, 128, 128, 128],\n",
    "    [0, 0, 0, 0, 0, 0, 0, 0, 0],\n",
    "    [128, 128, 128, 128, 128, 128, 128, 128, 128],\n",
    "    [255, 255, 255, 255, 255, 255, 255, 255, 255],\n",
    "    [128, 128, 128, 128, 128, 128, 128, 128, 128],\n",
    "    [0, 0, 0, 0, 0, 0, 0, 0, 0],\n",
    "    [128, 128, 128, 128, 128, 128, 128, 128, 128],\n",
    "    [255, 255, 255, 255, 255, 255, 255, 255, 255],\n",
    "    [128, 128, 128, 128, 128, 128, 128, 128, 128],\n",
    "], dtype=np.uint8)\n",
    "imshow(image1, cmap='gray')"
   ]
  },
  {
   "cell_type": "markdown",
   "metadata": {},
   "source": [
    "## Run Images Through Model\n",
    "\n",
    "The images need to be in a slightly different format for Keras than they do for the imshow command. Right now, they are 9x9 arrays, and we need them to be 9x9x1 -- three dimensional instead of two."
   ]
  },
  {
   "cell_type": "code",
   "execution_count": 9,
   "metadata": {},
   "outputs": [],
   "source": [
    "images = []\n",
    "for image in [image0, image1]: # You may find it easier to take one of these out, to look at them one at a time\n",
    "    images.append(np.resize(image, (image_size, image_size, 1)))"
   ]
  },
  {
   "cell_type": "markdown",
   "metadata": {},
   "source": [
    "And now we give these images to our model and take a look at what the filter has found. "
   ]
  },
  {
   "cell_type": "code",
   "execution_count": 10,
   "metadata": {},
   "outputs": [
    {
     "data": {
      "text/plain": [
       "array([[[[ -256.],\n",
       "         [ -383.],\n",
       "         [ -511.],\n",
       "         [ -383.],\n",
       "         [ -256.],\n",
       "         [ -383.],\n",
       "         [ -511.]],\n",
       "\n",
       "        [[ -256.],\n",
       "         [ -383.],\n",
       "         [ -511.],\n",
       "         [ -383.],\n",
       "         [ -256.],\n",
       "         [ -383.],\n",
       "         [ -511.]],\n",
       "\n",
       "        [[ -256.],\n",
       "         [ -383.],\n",
       "         [ -511.],\n",
       "         [ -383.],\n",
       "         [ -256.],\n",
       "         [ -383.],\n",
       "         [ -511.]],\n",
       "\n",
       "        [[ -256.],\n",
       "         [ -383.],\n",
       "         [ -511.],\n",
       "         [ -383.],\n",
       "         [ -256.],\n",
       "         [ -383.],\n",
       "         [ -511.]],\n",
       "\n",
       "        [[ -256.],\n",
       "         [ -383.],\n",
       "         [ -511.],\n",
       "         [ -383.],\n",
       "         [ -256.],\n",
       "         [ -383.],\n",
       "         [ -511.]],\n",
       "\n",
       "        [[ -256.],\n",
       "         [ -383.],\n",
       "         [ -511.],\n",
       "         [ -383.],\n",
       "         [ -256.],\n",
       "         [ -383.],\n",
       "         [ -511.]],\n",
       "\n",
       "        [[ -256.],\n",
       "         [ -383.],\n",
       "         [ -511.],\n",
       "         [ -383.],\n",
       "         [ -256.],\n",
       "         [ -383.],\n",
       "         [ -511.]]],\n",
       "\n",
       "\n",
       "       [[[    0.],\n",
       "         [    0.],\n",
       "         [    0.],\n",
       "         [    0.],\n",
       "         [    0.],\n",
       "         [    0.],\n",
       "         [    0.]],\n",
       "\n",
       "        [[-1149.],\n",
       "         [-1149.],\n",
       "         [-1149.],\n",
       "         [-1149.],\n",
       "         [-1149.],\n",
       "         [-1149.],\n",
       "         [-1149.]],\n",
       "\n",
       "        [[ -765.],\n",
       "         [ -765.],\n",
       "         [ -765.],\n",
       "         [ -765.],\n",
       "         [ -765.],\n",
       "         [ -765.],\n",
       "         [ -765.]],\n",
       "\n",
       "        [[  381.],\n",
       "         [  381.],\n",
       "         [  381.],\n",
       "         [  381.],\n",
       "         [  381.],\n",
       "         [  381.],\n",
       "         [  381.]],\n",
       "\n",
       "        [[    0.],\n",
       "         [    0.],\n",
       "         [    0.],\n",
       "         [    0.],\n",
       "         [    0.],\n",
       "         [    0.],\n",
       "         [    0.]],\n",
       "\n",
       "        [[-1149.],\n",
       "         [-1149.],\n",
       "         [-1149.],\n",
       "         [-1149.],\n",
       "         [-1149.],\n",
       "         [-1149.],\n",
       "         [-1149.]],\n",
       "\n",
       "        [[ -765.],\n",
       "         [ -765.],\n",
       "         [ -765.],\n",
       "         [ -765.],\n",
       "         [ -765.],\n",
       "         [ -765.],\n",
       "         [ -765.]]]], dtype=float32)"
      ]
     },
     "execution_count": 10,
     "metadata": {},
     "output_type": "execute_result"
    }
   ],
   "source": [
    "model0.predict(np.array(images))"
   ]
  },
  {
   "cell_type": "markdown",
   "metadata": {},
   "source": [
    "## Model 1 Questions\n",
    "\n",
    "### Answer these before going on to the second model!\n",
    "\n",
    "1. There are a lot of numbers in the output above: 2 arrays of 7 arrays of 7 arrays of a single element. Why are they in groups of seven?\n",
    "\n",
    "Note that the original image is 9x9 and the kernel size is 3x3. Convolving the filter corresponding to the above kernel produces a 7x7 output, with each value as the dot product of the 3x3 filter and 3x3 subsections of the original image.\n",
    "\n",
    "2. When we created the model, we asked it to have one filter. In which image do we get the highest absolute values in the filter outputs? How does this relate to the pattern of weights that was set?\n",
    "\n",
    "We obtain the highest absolute values in the **second** image. This is because the 3x3 filter was set to be\n",
    "$$F=\\begin{pmatrix}\n",
    "1 & 1 & 1 \\\\\n",
    "-1 & -1 & -1 \\\\\n",
    "-1 & -1 & -1\n",
    "\\end{pmatrix},$$\n",
    "so the absolute value of the sum of the elements of the elementwise product (denoted $\\otimes$ below) of the filter with 3x3 regions of the second image is higher because of its *horizontally*-striped pattern, which allows large negative values to accumulate. For example, letting\n",
    "$$H = \\begin{pmatrix}\n",
    "0 & 0 & 0 \\\\\n",
    "128 & 128 & 128 \\\\\n",
    "255 & 255 & 255\n",
    "\\end{pmatrix}$$ be a 3x3 subsection of the second image, we see that \n",
    "$$ F\\otimes H = \\mathbf{e}\\begin{pmatrix}\n",
    "1\\cdot 0 & 1\\cdot 0 & 1\\cdot 0 \\\\\n",
    "-1\\cdot 128 & -1\\cdot 128 & -1\\cdot 128 \\\\\n",
    "-1\\cdot 255 & -1\\cdot 255 & -1\\cdot 255\n",
    "\\end{pmatrix}\\mathbf{e}^T = -1149,$$\n",
    "where $\\mathbf{e}=(1\\ 1\\ 1)$."
   ]
  },
  {
   "cell_type": "markdown",
   "metadata": {},
   "source": [
    "## Second Model\n",
    "\n",
    "Let's move to a slightly more complex model. Now, there are two convolutional layers, the first with two filters and the second with one filter. One other difference is that we're going to be taking strides so that we only examine each pixel once, instead of looking at overlapping groups. This makes it a little simpler to understand the manual weights."
   ]
  },
  {
   "cell_type": "code",
   "execution_count": 86,
   "metadata": {},
   "outputs": [
    {
     "name": "stdout",
     "output_type": "stream",
     "text": [
      "Model: \"sequential_7\"\n",
      "_________________________________________________________________\n",
      "Layer (type)                 Output Shape              Param #   \n",
      "=================================================================\n",
      "conv2d_13 (Conv2D)           (None, 3, 3, 2)           20        \n",
      "_________________________________________________________________\n",
      "conv2d_14 (Conv2D)           (None, 1, 1, 1)           19        \n",
      "=================================================================\n",
      "Total params: 39\n",
      "Trainable params: 39\n",
      "Non-trainable params: 0\n",
      "_________________________________________________________________\n"
     ]
    }
   ],
   "source": [
    "model1 = Sequential()\n",
    "model1.add(Conv2D(filters=2,\n",
    "                  kernel_size=kernel_size,\n",
    "                  strides=(3,3),\n",
    "                  input_shape=(image_size, image_size, 1)))\n",
    "model1.add(Conv2D(filters=1, kernel_size=kernel_size))\n",
    "model1.summary()"
   ]
  },
  {
   "cell_type": "markdown",
   "metadata": {},
   "source": [
    "With a different model structure, we will have a different number of weights to fit."
   ]
  },
  {
   "cell_type": "code",
   "execution_count": 12,
   "metadata": {},
   "outputs": [
    {
     "data": {
      "text/plain": [
       "[array([[[[-0.07990974,  0.0486131 ]],\n",
       " \n",
       "         [[ 0.05150864, -0.24700448]],\n",
       " \n",
       "         [[-0.21656972, -0.11074853]]],\n",
       " \n",
       " \n",
       "        [[[-0.06669676,  0.3170111 ]],\n",
       " \n",
       "         [[-0.05613759,  0.17230967]],\n",
       " \n",
       "         [[ 0.16172376,  0.27662435]]],\n",
       " \n",
       " \n",
       "        [[[ 0.17939124, -0.33212662]],\n",
       " \n",
       "         [[-0.32962996, -0.0513379 ]],\n",
       " \n",
       "         [[ 0.19489679,  0.40333375]]]], dtype=float32),\n",
       " array([0., 0.], dtype=float32),\n",
       " array([[[[-0.3057518 ],\n",
       "          [-0.22627294]],\n",
       " \n",
       "         [[-0.4550131 ],\n",
       "          [ 0.24501953]],\n",
       " \n",
       "         [[ 0.2998791 ],\n",
       "          [-0.13483989]]],\n",
       " \n",
       " \n",
       "        [[[-0.1382193 ],\n",
       "          [-0.1200068 ]],\n",
       " \n",
       "         [[ 0.03080449],\n",
       "          [-0.12070668]],\n",
       " \n",
       "         [[-0.20504117],\n",
       "          [-0.14969954]]],\n",
       " \n",
       " \n",
       "        [[[ 0.31260642],\n",
       "          [ 0.13076827]],\n",
       " \n",
       "         [[ 0.3702822 ],\n",
       "          [ 0.3894088 ]],\n",
       " \n",
       "         [[-0.09165737],\n",
       "          [ 0.46646526]]]], dtype=float32),\n",
       " array([0.], dtype=float32)]"
      ]
     },
     "execution_count": 12,
     "metadata": {},
     "output_type": "execute_result"
    }
   ],
   "source": [
    "weights = model1.get_weights()\n",
    "weights"
   ]
  },
  {
   "cell_type": "markdown",
   "metadata": {},
   "source": [
    "As before, we manually set the weights to match some specific patterns."
   ]
  },
  {
   "cell_type": "code",
   "execution_count": 13,
   "metadata": {},
   "outputs": [],
   "source": [
    "layer_num = 0\n",
    "filter_num = 0 # BRANDON: This filter searches for high values along the main diagonal, i.e., a backslash.\n",
    "for y in range(kernel_size):\n",
    "    for x in range(kernel_size):\n",
    "        if y == x:\n",
    "            weights[layer_num][y][x][0][filter_num] = 1\n",
    "        else:\n",
    "            weights[layer_num][y][x][0][filter_num] = -1\n",
    "\n",
    "filter_num = 1 # BRANDON: This filter searches for high values along the anti diagonal, i.e., a forward slash.\n",
    "for y in range(kernel_size):\n",
    "    for x in range(kernel_size):\n",
    "        if kernel_size - 1 - y == x:\n",
    "            weights[layer_num][y][x][0][filter_num] = 1\n",
    "        else:\n",
    "            weights[layer_num][y][x][0][filter_num] = -1\n",
    "            \n",
    "# BRANDON: Combined, both of these search for a 3-by-3 X-shaped pattern."
   ]
  },
  {
   "cell_type": "code",
   "execution_count": 83,
   "metadata": {},
   "outputs": [
    {
     "data": {
      "text/plain": [
       "(5, 5, 2, 1)"
      ]
     },
     "execution_count": 83,
     "metadata": {},
     "output_type": "execute_result"
    }
   ],
   "source": [
    "# layer 1 is for setting the biases of the first layer.\n",
    "# They are zero by default, so leave them that way and\n",
    "# move on to layer 2, which contains the weights for the\n",
    "# filters of the second layer.\n",
    "layer_num = 2\n",
    "filter_num = 0\n",
    "for y in range(kernel_size):\n",
    "    for x in range(kernel_size):\n",
    "        input_filter_num = 0\n",
    "        if y == x:\n",
    "            weights[layer_num][y][x][input_filter_num][filter_num] = 1\n",
    "        else:\n",
    "            weights[layer_num][y][x][input_filter_num][filter_num] = -0.25\n",
    "        input_filter_num = 1\n",
    "        if kernel_size - 1 - y == x:\n",
    "            weights[layer_num][y][x][input_filter_num][filter_num] = 1\n",
    "        else:\n",
    "            weights[layer_num][y][x][input_filter_num][filter_num] = -0.25\n",
    "\n",
    "# BRANDON: This combines the previous filters to create a filter that searches for X-like patterns."
   ]
  },
  {
   "cell_type": "markdown",
   "metadata": {},
   "source": [
    "And save the weights back into the model."
   ]
  },
  {
   "cell_type": "code",
   "execution_count": 15,
   "metadata": {},
   "outputs": [],
   "source": [
    "model1.set_weights(weights)"
   ]
  },
  {
   "cell_type": "markdown",
   "metadata": {},
   "source": [
    "Again, run our test images through the model to see what the filters output."
   ]
  },
  {
   "cell_type": "code",
   "execution_count": 16,
   "metadata": {},
   "outputs": [],
   "source": [
    "def predict_images(model, images):\n",
    "    resized_images = []\n",
    "    for image in images:\n",
    "        resized_images.append(np.resize(image, (image_size, image_size, 1)))\n",
    "    return model.predict(np.array(resized_images))"
   ]
  },
  {
   "cell_type": "code",
   "execution_count": 17,
   "metadata": {},
   "outputs": [
    {
     "data": {
      "text/plain": [
       "array([[[[-1150.]]],\n",
       "\n",
       "\n",
       "       [[[-1150.]]]], dtype=float32)"
      ]
     },
     "execution_count": 17,
     "metadata": {},
     "output_type": "execute_result"
    }
   ],
   "source": [
    "predict_images(model1, [image0, image1])"
   ]
  },
  {
   "cell_type": "markdown",
   "metadata": {},
   "source": [
    "## Exercise #1\n",
    "\n",
    "Note above that neither image0 nor image1 gets a positive output. Create some images that do get positive ouputs from this model. The code below might help you get started."
   ]
  },
  {
   "cell_type": "code",
   "execution_count": 18,
   "metadata": {},
   "outputs": [
    {
     "data": {
      "text/plain": [
       "<matplotlib.image.AxesImage at 0x141af3c40>"
      ]
     },
     "execution_count": 18,
     "metadata": {},
     "output_type": "execute_result"
    },
    {
     "data": {
      "image/png": "[encoded data removed]",
      "text/plain": [
       "<Figure size 432x288 with 1 Axes>"
      ]
     },
     "metadata": {
      "needs_background": "light"
     },
     "output_type": "display_data"
    }
   ],
   "source": [
    "image_black = np.array([\n",
    "    [0, 0, 0, 0, 0, 0, 0, 0, 0],\n",
    "    [0, 0, 0, 0, 0, 0, 0, 0, 0],\n",
    "    [0, 0, 0, 0, 0, 0, 0, 0, 0],\n",
    "    [0, 0, 0, 0, 0, 0, 0, 0, 0],\n",
    "    [0, 0, 0, 0, 0, 0, 0, 0, 0],\n",
    "    [0, 0, 0, 0, 0, 0, 0, 0, 0],\n",
    "    [0, 0, 0, 0, 0, 0, 0, 0, 0],\n",
    "    [0, 0, 0, 0, 0, 0, 0, 0, 0],\n",
    "    [0, 0, 0, 0, 0, 0, 0, 0, 0],\n",
    "], dtype=np.uint8)\n",
    "imshow(image_black, cmap='gray', vmin=0, vmax=255)"
   ]
  },
  {
   "cell_type": "code",
   "execution_count": 19,
   "metadata": {},
   "outputs": [
    {
     "data": {
      "text/plain": [
       "<matplotlib.image.AxesImage at 0x142083e50>"
      ]
     },
     "execution_count": 19,
     "metadata": {},
     "output_type": "execute_result"
    },
    {
     "data": {
      "image/png": "[encoded data removed]",
      "text/plain": [
       "<Figure size 432x288 with 1 Axes>"
      ]
     },
     "metadata": {
      "needs_background": "light"
     },
     "output_type": "display_data"
    }
   ],
   "source": [
    "image_white = np.array([\n",
    "    [255, 255, 255, 255, 255, 255, 255, 255, 255],\n",
    "    [255, 255, 255, 255, 255, 255, 255, 255, 255],\n",
    "    [255, 255, 255, 255, 255, 255, 255, 255, 255],\n",
    "    [255, 255, 255, 255, 255, 255, 255, 255, 255],\n",
    "    [255, 255, 255, 255, 255, 255, 255, 255, 255],\n",
    "    [255, 255, 255, 255, 255, 255, 255, 255, 255],\n",
    "    [255, 255, 255, 255, 255, 255, 255, 255, 255],\n",
    "    [255, 255, 255, 255, 255, 255, 255, 255, 255],\n",
    "    [255, 255, 255, 255, 255, 255, 255, 255, 255],\n",
    "], dtype=np.uint8)\n",
    "imshow(image_white, cmap='gray', vmin=0, vmax=255)"
   ]
  },
  {
   "cell_type": "code",
   "execution_count": 20,
   "metadata": {},
   "outputs": [
    {
     "data": {
      "text/plain": [
       "array([[[[    0.]]],\n",
       "\n",
       "\n",
       "       [[[-2295.]]]], dtype=float32)"
      ]
     },
     "execution_count": 20,
     "metadata": {},
     "output_type": "execute_result"
    }
   ],
   "source": [
    "predict_images(model1, [image_black, image_white])"
   ]
  },
  {
   "cell_type": "code",
   "execution_count": 21,
   "metadata": {},
   "outputs": [
    {
     "data": {
      "text/plain": [
       "<matplotlib.image.AxesImage at 0x1421008e0>"
      ]
     },
     "execution_count": 21,
     "metadata": {},
     "output_type": "execute_result"
    },
    {
     "data": {
      "image/png": "[encoded data removed]",
      "text/plain": [
       "<Figure size 432x288 with 1 Axes>"
      ]
     },
     "metadata": {
      "needs_background": "light"
     },
     "output_type": "display_data"
    }
   ],
   "source": [
    "positive_image_1 = np.array([\n",
    "    [255, 0, 255, 0, 255, 0, 255, 0, 255],\n",
    "    [0, 255, 0, 255, 0, 255, 0, 255, 0],\n",
    "    [255, 0, 255, 0, 255, 0, 255, 0, 255],\n",
    "    [0, 255, 0, 255, 0, 255, 0, 255, 0],\n",
    "    [255, 0, 255, 0, 255, 0, 255, 0, 255],\n",
    "    [0, 255, 0, 255, 0, 255, 0, 255, 0],\n",
    "    [255, 0, 255, 0, 255, 0, 255, 0, 255],\n",
    "    [0, 255, 0, 255, 0, 255, 0, 255, 0],\n",
    "    [255, 0, 255, 0, 255, 0, 255, 0, 255],\n",
    "], dtype=np.uint8)\n",
    "imshow(positive_image_1, cmap='gray', vmin=0, vmax=255)"
   ]
  },
  {
   "cell_type": "code",
   "execution_count": 81,
   "metadata": {},
   "outputs": [
    {
     "data": {
      "text/plain": [
       "<matplotlib.image.AxesImage at 0x142d081c0>"
      ]
     },
     "execution_count": 81,
     "metadata": {},
     "output_type": "execute_result"
    },
    {
     "data": {
      "image/png": "[encoded data removed]",
      "text/plain": [
       "<Figure size 432x288 with 1 Axes>"
      ]
     },
     "metadata": {
      "needs_background": "light"
     },
     "output_type": "display_data"
    }
   ],
   "source": [
    "positive_image_2 = np.array([\n",
    "    [255, 0, 255, 0, 0, 0, 0, 0, 0],\n",
    "    [0, 255, 0, 0, 0, 0, 0, 0, 0],\n",
    "    [255, 0, 255, 0, 0, 0, 0, 0, 0],\n",
    "    [0, 0, 0, 0, 0, 0, 0, 0, 0],\n",
    "    [0, 0, 0, 0, 0, 0, 0, 0, 0],\n",
    "    [0, 0, 0, 0, 0, 0, 0, 0, 0],\n",
    "    [0, 0, 0, 0, 0, 0, 0, 0, 0],\n",
    "    [0, 0, 0, 0, 0, 0, 0, 0, 0],\n",
    "    [0, 0, 0, 0, 0, 0, 0, 0, 0],\n",
    "], dtype=np.uint8)\n",
    "imshow(positive_image_2, cmap='gray', vmin=0, vmax=255)"
   ]
  },
  {
   "cell_type": "code",
   "execution_count": 82,
   "metadata": {},
   "outputs": [
    {
     "data": {
      "text/plain": [
       "array([[[[3315.  ]]],\n",
       "\n",
       "\n",
       "       [[[ 191.25]]]], dtype=float32)"
      ]
     },
     "execution_count": 82,
     "metadata": {},
     "output_type": "execute_result"
    }
   ],
   "source": [
    "predict_images(model1, [positive_image_1, positive_image_2])"
   ]
  },
  {
   "cell_type": "markdown",
   "metadata": {},
   "source": [
    "## Exercise #2\n",
    "\n",
    "### Optional\n",
    "\n",
    "Add additional filters to the model or create a new model with your own filters. Create images that get positive weights for different patterns of filters."
   ]
  },
  {
   "cell_type": "markdown",
   "metadata": {},
   "source": [
    "Building a model that searches for the following pattern:\n",
    "$$\\begin{bmatrix}\n",
    "0 & 1 & 1 & 1 & 1 \\\\\n",
    "1 & 0 & 1 & 0 & 1 \\\\\n",
    "1 & 1 & 0 & 1 & 1 \\\\\n",
    "1 & 0 & 1 & 0 & 1 \\\\\n",
    "1 & 1 & 1 & 1 & 0\n",
    "\\end{bmatrix}$$"
   ]
  },
  {
   "cell_type": "code",
   "execution_count": 87,
   "metadata": {},
   "outputs": [],
   "source": [
    "custom_model = Sequential()\n",
    "custom_model.add(Conv2D(filters=2,\n",
    "                  kernel_size=5, # kernel_size=5\n",
    "                  strides=(5, 5),\n",
    "                  input_shape=(25, 25, 1)))\n",
    "custom_model.add(Conv2D(filters=1, kernel_size=5))\n",
    "\n",
    "custom_pattern = np.array([\n",
    "    [0, 255, 255, 255, 255],\n",
    "    [255, 0, 255, 0, 255],\n",
    "    [255, 255, 0, 255, 255],\n",
    "    [255, 0, 255, 0, 255],\n",
    "    [255, 255, 255, 255, 0],\n",
    "], dtype=np.uint8)"
   ]
  },
  {
   "cell_type": "code",
   "execution_count": 88,
   "metadata": {},
   "outputs": [
    {
     "data": {
      "text/plain": [
       "[array([[[[ 0.14923787, -0.01894605]],\n",
       " \n",
       "         [[ 0.05108514, -0.00839958]],\n",
       " \n",
       "         [[ 0.2357404 , -0.03931451]],\n",
       " \n",
       "         [[ 0.00500327, -0.11979355]],\n",
       " \n",
       "         [[-0.0790749 ,  0.21896407]]],\n",
       " \n",
       " \n",
       "        [[[ 0.24282262,  0.05972648]],\n",
       " \n",
       "         [[-0.01823941,  0.06329629]],\n",
       " \n",
       "         [[-0.23789436,  0.09711686]],\n",
       " \n",
       "         [[-0.08210659,  0.05310699]],\n",
       " \n",
       "         [[-0.11122277, -0.17466193]]],\n",
       " \n",
       " \n",
       "        [[[ 0.00962439, -0.2555678 ]],\n",
       " \n",
       "         [[-0.19162945, -0.19677785]],\n",
       " \n",
       "         [[-0.06405559, -0.16927531]],\n",
       " \n",
       "         [[ 0.04066247,  0.08285815]],\n",
       " \n",
       "         [[ 0.14442423, -0.02563608]]],\n",
       " \n",
       " \n",
       "        [[[-0.2359966 , -0.16701773]],\n",
       " \n",
       "         [[-0.02167165,  0.17102227]],\n",
       " \n",
       "         [[ 0.02850252,  0.09771502]],\n",
       " \n",
       "         [[-0.15074   , -0.22743985]],\n",
       " \n",
       "         [[ 0.2210963 , -0.20957154]]],\n",
       " \n",
       " \n",
       "        [[[-0.14428337,  0.19125262]],\n",
       " \n",
       "         [[-0.05076902,  0.19323772]],\n",
       " \n",
       "         [[ 0.21652171,  0.20482108]],\n",
       " \n",
       "         [[-0.06527205, -0.19895378]],\n",
       " \n",
       "         [[ 0.27092907,  0.12977374]]]], dtype=float32),\n",
       " array([0., 0.], dtype=float32),\n",
       " array([[[[ 0.09759375],\n",
       "          [ 0.23893401]],\n",
       " \n",
       "         [[-0.12135164],\n",
       "          [-0.28010634]],\n",
       " \n",
       "         [[ 0.13075638],\n",
       "          [-0.2434485 ]],\n",
       " \n",
       "         [[-0.05401352],\n",
       "          [-0.1796698 ]],\n",
       " \n",
       "         [[-0.05079964],\n",
       "          [ 0.19216383]]],\n",
       " \n",
       " \n",
       "        [[[ 0.12989321],\n",
       "          [-0.23310263]],\n",
       " \n",
       "         [[-0.18657723],\n",
       "          [ 0.00809631]],\n",
       " \n",
       "         [[ 0.16886544],\n",
       "          [-0.06426443]],\n",
       " \n",
       "         [[-0.24422367],\n",
       "          [-0.22607908]],\n",
       " \n",
       "         [[ 0.25392756],\n",
       "          [ 0.00386375]]],\n",
       " \n",
       " \n",
       "        [[[-0.20134076],\n",
       "          [-0.14516677]],\n",
       " \n",
       "         [[-0.2655433 ],\n",
       "          [ 0.19491076]],\n",
       " \n",
       "         [[-0.21366072],\n",
       "          [-0.1474671 ]],\n",
       " \n",
       "         [[-0.07459447],\n",
       "          [-0.2745907 ]],\n",
       " \n",
       "         [[ 0.2461274 ],\n",
       "          [-0.14515644]]],\n",
       " \n",
       " \n",
       "        [[[-0.13667576],\n",
       "          [ 0.14824423]],\n",
       " \n",
       "         [[ 0.07087746],\n",
       "          [-0.07313193]],\n",
       " \n",
       "         [[-0.0721809 ],\n",
       "          [ 0.00379166]],\n",
       " \n",
       "         [[ 0.08467942],\n",
       "          [ 0.24733904]],\n",
       " \n",
       "         [[ 0.21858224],\n",
       "          [ 0.03093153]]],\n",
       " \n",
       " \n",
       "        [[[ 0.22291508],\n",
       "          [-0.12362804]],\n",
       " \n",
       "         [[-0.16429928],\n",
       "          [ 0.12819204]],\n",
       " \n",
       "         [[ 0.16764575],\n",
       "          [-0.11010794]],\n",
       " \n",
       "         [[ 0.15327165],\n",
       "          [ 0.07675663]],\n",
       " \n",
       "         [[ 0.20261887],\n",
       "          [ 0.06723467]]]], dtype=float32),\n",
       " array([0.], dtype=float32)]"
      ]
     },
     "execution_count": 88,
     "metadata": {},
     "output_type": "execute_result"
    }
   ],
   "source": [
    "weights = custom_model.get_weights()\n",
    "weights # These are random initially but are set below."
   ]
  },
  {
   "cell_type": "code",
   "execution_count": 89,
   "metadata": {},
   "outputs": [],
   "source": [
    "# Manually set filter weight matrices using numpy indices.\n",
    "\n",
    "layer_num = 0\n",
    "filter_num = 0\n",
    "weights[layer_num][:, :, 0, filter_num] = np.array([\n",
    "    [-1, -1, -1, -1, -1],\n",
    "    [1, -1, -1, -1, -1],\n",
    "    [1, 1, -1, -1, -1],\n",
    "    [1, -1, 1, -1, -1],\n",
    "    [1, 1, 1, 1, -1]\n",
    "])\n",
    "\n",
    "filter_num = 1\n",
    "weights[layer_num][:, :, 0, filter_num] = np.array([\n",
    "    [-1, 1, 1, 1, 1],\n",
    "    [-1, -1, 1, -1, 1],\n",
    "    [-1, -1, -1, 1, 1],\n",
    "    [-1, -1, -1, -1, 1],\n",
    "    [-1, -1, -1, -1, -1]\n",
    "])\n",
    "\n",
    "layer_num = 2\n",
    "filter_num = 0\n",
    "\n",
    "weights[layer_num][:, :, 0, filter_num] = np.array([\n",
    "    [-0.25, 1, 1, 1, 1],\n",
    "    [1, -0.25, 1, -0.25, 1],\n",
    "    [1, 1, -0.25, 1, 1],\n",
    "    [1, -0.25, 1, -0.25, 1],\n",
    "    [1, 1, 1, 1, -0.25]\n",
    "])\n",
    "\n",
    "weights[layer_num][:, :, 1, filter_num] = np.array([\n",
    "    [-0.25, 1, 1, 1, 1],\n",
    "    [1, -0.25, 1, -0.25, 1],\n",
    "    [1, 1, -0.25, 1, 1],\n",
    "    [1, -0.25, 1, -0.25, 1],\n",
    "    [1, 1, 1, 1, -0.25]\n",
    "])"
   ]
  },
  {
   "cell_type": "code",
   "execution_count": 96,
   "metadata": {},
   "outputs": [
    {
     "data": {
      "text/plain": [
       "<matplotlib.image.AxesImage at 0x142e890a0>"
      ]
     },
     "execution_count": 96,
     "metadata": {},
     "output_type": "execute_result"
    },
    {
     "data": {
      "image/png": "[encoded data removed]",
      "text/plain": [
       "<Figure size 432x288 with 1 Axes>"
      ]
     },
     "metadata": {
      "needs_background": "light"
     },
     "output_type": "display_data"
    }
   ],
   "source": [
    "custom_positive_image = np.zeros((25,25))\n",
    "custom_positive_image[:5,5:] = np.tile(custom_pattern, 4)\n",
    "custom_positive_image[20:,5:20] = np.tile(custom_pattern, 3)\n",
    "custom_positive_image[5:,:5] = np.tile(custom_pattern, (4, 1))\n",
    "custom_positive_image[5:20,20:] = np.tile(custom_pattern, (3, 1))\n",
    "custom_positive_image[5:10,10:15] = custom_pattern\n",
    "custom_positive_image[10:15, 5:10] = custom_pattern\n",
    "custom_positive_image[10:15, 15:20] = custom_pattern\n",
    "custom_positive_image[15:20, 10:15] = custom_pattern\n",
    "\n",
    "imshow(custom_positive_image, cmap='gray', vmin=0, vmax=255)"
   ]
  },
  {
   "cell_type": "code",
   "execution_count": 97,
   "metadata": {},
   "outputs": [
    {
     "data": {
      "text/plain": [
       "array([[[[76.20179]]]], dtype=float32)"
      ]
     },
     "execution_count": 97,
     "metadata": {},
     "output_type": "execute_result"
    }
   ],
   "source": [
    "custom_model.predict(custom_positive_image.reshape((1,25,25,1)))"
   ]
  },
  {
   "cell_type": "code",
   "execution_count": null,
   "metadata": {},
   "outputs": [],
   "source": []
  }
 ],
 "metadata": {
  "kernelspec": {
   "display_name": "Python 3",
   "language": "python",
   "name": "python3"
  },
  "language_info": {
   "codemirror_mode": {
    "name": "ipython",
    "version": 3
   },
   "file_extension": ".py",
   "mimetype": "text/x-python",
   "name": "python",
   "nbconvert_exporter": "python",
   "pygments_lexer": "ipython3",
   "version": "3.8.2"
  }
 },
 "nbformat": 4,
 "nbformat_minor": 2
}

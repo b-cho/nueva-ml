{
 "cells": [
  {
   "cell_type": "markdown",
   "metadata": {},
   "source": [
    "# Processing a dataset on commercial nuclear reactors\n",
    "\n",
    "Obtained from https://catalog.data.gov/dataset/us-commercial-nuclear-power-reactors."
   ]
  },
  {
   "cell_type": "code",
   "execution_count": 1,
   "metadata": {},
   "outputs": [],
   "source": [
    "import csv\n",
    "import os\n",
    "import ast\n",
    "import numpy as np\n",
    "import matplotlib.pyplot as plt\n",
    "import random\n",
    "import pandas as pd\n",
    "import IPython\n",
    "from sklearn import linear_model # for training a linear model\n",
    "%matplotlib inline"
   ]
  },
  {
   "cell_type": "markdown",
   "metadata": {},
   "source": [
    "### 1. Importing the data"
   ]
  },
  {
   "cell_type": "markdown",
   "metadata": {},
   "source": [
    "*Note that I manually dropped the first row, which was just a title for the whole document. This allowed me to use the given row names on row 2.*"
   ]
  },
  {
   "cell_type": "code",
   "execution_count": 2,
   "metadata": {},
   "outputs": [
    {
     "data": {
      "text/html": [
       "<div>\n",
       "<style scoped>\n",
       "    .dataframe tbody tr th:only-of-type {\n",
       "        vertical-align: middle;\n",
       "    }\n",
       "\n",
       "    .dataframe tbody tr th {\n",
       "        vertical-align: top;\n",
       "    }\n",
       "\n",
       "    .dataframe thead th {\n",
       "        text-align: right;\n",
       "    }\n",
       "</style>\n",
       "<table border=\"1\" class=\"dataframe\">\n",
       "  <thead>\n",
       "    <tr style=\"text-align: right;\">\n",
       "      <th></th>\n",
       "      <th>Plant Name, Unit Number</th>\n",
       "      <th>NRC Reactor Unit Web Page</th>\n",
       "      <th>Docket  Number</th>\n",
       "      <th>License Number</th>\n",
       "      <th>Location</th>\n",
       "      <th>NRC Region</th>\n",
       "      <th>Licensee</th>\n",
       "      <th>Parent Company Utility Name</th>\n",
       "      <th>Parent Company Website</th>\n",
       "      <th>Parent Company Notes</th>\n",
       "      <th>...</th>\n",
       "      <th>2010 Capacity Factor (Percent)</th>\n",
       "      <th>2009 Capacity Factor (Percent)</th>\n",
       "      <th>2008 Capacity Factor (Percent)</th>\n",
       "      <th>Unnamed: 32</th>\n",
       "      <th>2005 Capacity Factor (Percent)</th>\n",
       "      <th>2004 Capacity Factor (Percent)</th>\n",
       "      <th>2003 Capacity Factor (Percent)</th>\n",
       "      <th>Unnamed: 36</th>\n",
       "      <th>Years of Operation through 12/31/2019</th>\n",
       "      <th>Unnamed: 38</th>\n",
       "    </tr>\n",
       "  </thead>\n",
       "  <tbody>\n",
       "    <tr>\n",
       "      <td>0</td>\n",
       "      <td>Arkansas Nuclear One, Unit 1</td>\n",
       "      <td>ANO 1</td>\n",
       "      <td>05000313</td>\n",
       "      <td>DPR-51</td>\n",
       "      <td>London, AR (6 MI WNW of Russellville,  AR)</td>\n",
       "      <td>4</td>\n",
       "      <td>Entergy Operations, Inc.</td>\n",
       "      <td>Entergy Nuclear Operations, Inc.</td>\n",
       "      <td>www.entergy-nuclear.com</td>\n",
       "      <td>NaN</td>\n",
       "      <td>...</td>\n",
       "      <td>0.90</td>\n",
       "      <td>0.99</td>\n",
       "      <td>0.830000</td>\n",
       "      <td>NaN</td>\n",
       "      <td>0.78</td>\n",
       "      <td>0.92</td>\n",
       "      <td>0.92</td>\n",
       "      <td>NaN</td>\n",
       "      <td>45</td>\n",
       "      <td>NaT</td>\n",
       "    </tr>\n",
       "    <tr>\n",
       "      <td>1</td>\n",
       "      <td>Arkansas Nuclear One, Unit 2</td>\n",
       "      <td>ANO 2</td>\n",
       "      <td>05000368</td>\n",
       "      <td>NPF-6</td>\n",
       "      <td>London, AR (6 MI WNW of Russellville,  AR)</td>\n",
       "      <td>4</td>\n",
       "      <td>Entergy Operations, Inc.</td>\n",
       "      <td>Entergy Nuclear Operations, Inc.</td>\n",
       "      <td>www.entergy-nuclear.com</td>\n",
       "      <td>NaN</td>\n",
       "      <td>...</td>\n",
       "      <td>0.97</td>\n",
       "      <td>0.90</td>\n",
       "      <td>0.911003</td>\n",
       "      <td>NaN</td>\n",
       "      <td>0.91</td>\n",
       "      <td>0.99</td>\n",
       "      <td>0.90</td>\n",
       "      <td>NaN</td>\n",
       "      <td>41</td>\n",
       "      <td>2019-12-31</td>\n",
       "    </tr>\n",
       "    <tr>\n",
       "      <td>2</td>\n",
       "      <td>Beaver Valley Power Station, Unit 1</td>\n",
       "      <td>Beaver Valley 1</td>\n",
       "      <td>05000334</td>\n",
       "      <td>DPR-66</td>\n",
       "      <td>Shippingport, PA(17 MI W of McCandless,  PA)</td>\n",
       "      <td>1</td>\n",
       "      <td>FirstEnergy Nuclear Operating Co.</td>\n",
       "      <td>FirstEnergy Nuclear Operating Company</td>\n",
       "      <td>www.firstenergycorp.com</td>\n",
       "      <td>NaN</td>\n",
       "      <td>...</td>\n",
       "      <td>0.91</td>\n",
       "      <td>0.92</td>\n",
       "      <td>1.014076</td>\n",
       "      <td>NaN</td>\n",
       "      <td>1.01</td>\n",
       "      <td>0.93</td>\n",
       "      <td>0.83</td>\n",
       "      <td>NaN</td>\n",
       "      <td>43</td>\n",
       "      <td>NaT</td>\n",
       "    </tr>\n",
       "    <tr>\n",
       "      <td>3</td>\n",
       "      <td>Beaver Valley Power Station, Unit 2</td>\n",
       "      <td>Beaver Valley 2</td>\n",
       "      <td>05000412</td>\n",
       "      <td>NPF-73</td>\n",
       "      <td>Shippingport, PA (17 MI W of McCandless,  PA)</td>\n",
       "      <td>1</td>\n",
       "      <td>FirstEnergy Nuclear Operating Co.</td>\n",
       "      <td>FirstEnergy Nuclear Operating Company</td>\n",
       "      <td>www.firstenergycorp.com</td>\n",
       "      <td>NaN</td>\n",
       "      <td>...</td>\n",
       "      <td>0.84</td>\n",
       "      <td>0.87</td>\n",
       "      <td>1.030000</td>\n",
       "      <td>NaN</td>\n",
       "      <td>0.93</td>\n",
       "      <td>1.00</td>\n",
       "      <td>0.91</td>\n",
       "      <td>NaN</td>\n",
       "      <td>32</td>\n",
       "      <td>NaT</td>\n",
       "    </tr>\n",
       "    <tr>\n",
       "      <td>4</td>\n",
       "      <td>Braidwood Station, Unit 1</td>\n",
       "      <td>Braidwood 1</td>\n",
       "      <td>05000456</td>\n",
       "      <td>NPF-72</td>\n",
       "      <td>Braceville, IL (20 MI SSW of Joliet,  IL)</td>\n",
       "      <td>3</td>\n",
       "      <td>Exelon Generation Co., LLC</td>\n",
       "      <td>Exelon Corporation, LLC</td>\n",
       "      <td>www.exeloncorp.com</td>\n",
       "      <td>NaN</td>\n",
       "      <td>...</td>\n",
       "      <td>0.89</td>\n",
       "      <td>0.95</td>\n",
       "      <td>1.013985</td>\n",
       "      <td>NaN</td>\n",
       "      <td>1.00</td>\n",
       "      <td>0.95</td>\n",
       "      <td>0.97</td>\n",
       "      <td>NaN</td>\n",
       "      <td>32</td>\n",
       "      <td>NaT</td>\n",
       "    </tr>\n",
       "  </tbody>\n",
       "</table>\n",
       "<p>5 rows × 39 columns</p>\n",
       "</div>"
      ],
      "text/plain": [
       "               Plant Name, Unit Number NRC Reactor Unit Web Page   \\\n",
       "0         Arkansas Nuclear One, Unit 1                      ANO 1   \n",
       "1         Arkansas Nuclear One, Unit 2                      ANO 2   \n",
       "2  Beaver Valley Power Station, Unit 1            Beaver Valley 1   \n",
       "3  Beaver Valley Power Station, Unit 2            Beaver Valley 2   \n",
       "4            Braidwood Station, Unit 1                Braidwood 1   \n",
       "\n",
       "  Docket  Number License Number  \\\n",
       "0       05000313         DPR-51   \n",
       "1       05000368          NPF-6   \n",
       "2       05000334         DPR-66   \n",
       "3       05000412         NPF-73   \n",
       "4       05000456         NPF-72   \n",
       "\n",
       "                                        Location  NRC Region  \\\n",
       "0     London, AR (6 MI WNW of Russellville,  AR)           4   \n",
       "1     London, AR (6 MI WNW of Russellville,  AR)           4   \n",
       "2   Shippingport, PA(17 MI W of McCandless,  PA)           1   \n",
       "3  Shippingport, PA (17 MI W of McCandless,  PA)           1   \n",
       "4      Braceville, IL (20 MI SSW of Joliet,  IL)           3   \n",
       "\n",
       "                            Licensee            Parent Company Utility Name  \\\n",
       "0           Entergy Operations, Inc.       Entergy Nuclear Operations, Inc.   \n",
       "1           Entergy Operations, Inc.       Entergy Nuclear Operations, Inc.   \n",
       "2  FirstEnergy Nuclear Operating Co.  FirstEnergy Nuclear Operating Company   \n",
       "3  FirstEnergy Nuclear Operating Co.  FirstEnergy Nuclear Operating Company   \n",
       "4         Exelon Generation Co., LLC                Exelon Corporation, LLC   \n",
       "\n",
       "    Parent Company Website Parent Company Notes  ...  \\\n",
       "0  www.entergy-nuclear.com                  NaN  ...   \n",
       "1  www.entergy-nuclear.com                  NaN  ...   \n",
       "2  www.firstenergycorp.com                  NaN  ...   \n",
       "3  www.firstenergycorp.com                  NaN  ...   \n",
       "4       www.exeloncorp.com                  NaN  ...   \n",
       "\n",
       "  2010 Capacity Factor (Percent) 2009 Capacity Factor (Percent)  \\\n",
       "0                           0.90                           0.99   \n",
       "1                           0.97                           0.90   \n",
       "2                           0.91                           0.92   \n",
       "3                           0.84                           0.87   \n",
       "4                           0.89                           0.95   \n",
       "\n",
       "  2008 Capacity Factor (Percent) Unnamed: 32 2005 Capacity Factor (Percent)  \\\n",
       "0                       0.830000         NaN                           0.78   \n",
       "1                       0.911003         NaN                           0.91   \n",
       "2                       1.014076         NaN                           1.01   \n",
       "3                       1.030000         NaN                           0.93   \n",
       "4                       1.013985         NaN                           1.00   \n",
       "\n",
       "  2004 Capacity Factor (Percent) 2003 Capacity Factor (Percent) Unnamed: 36  \\\n",
       "0                           0.92                           0.92         NaN   \n",
       "1                           0.99                           0.90         NaN   \n",
       "2                           0.93                           0.83         NaN   \n",
       "3                           1.00                           0.91         NaN   \n",
       "4                           0.95                           0.97         NaN   \n",
       "\n",
       "  Years of Operation through 12/31/2019  Unnamed: 38  \n",
       "0                                    45          NaT  \n",
       "1                                    41   2019-12-31  \n",
       "2                                    43          NaT  \n",
       "3                                    32          NaT  \n",
       "4                                    32          NaT  \n",
       "\n",
       "[5 rows x 39 columns]"
      ]
     },
     "execution_count": 2,
     "metadata": {},
     "output_type": "execute_result"
    }
   ],
   "source": [
    "df = pd.read_excel(\"/Users/bracho/Downloads/reactors-operating.xls\")\n",
    "df.head()"
   ]
  },
  {
   "cell_type": "markdown",
   "metadata": {},
   "source": [
    "### 2. Data processing\n",
    "\n",
    "#### 2.1 Fixing header titles\n",
    "\n",
    "Inside some of the column names, there are new lines and other unused columns. Thus, we can remove unnecessary columns and fix the names to be more computer-friendly. In addition, because there are many unused columns with \"Unnamed\" in their title, we can remove them along with their data."
   ]
  },
  {
   "cell_type": "code",
   "execution_count": 3,
   "metadata": {},
   "outputs": [
    {
     "data": {
      "text/html": [
       "<div>\n",
       "<style scoped>\n",
       "    .dataframe tbody tr th:only-of-type {\n",
       "        vertical-align: middle;\n",
       "    }\n",
       "\n",
       "    .dataframe tbody tr th {\n",
       "        vertical-align: top;\n",
       "    }\n",
       "\n",
       "    .dataframe thead th {\n",
       "        text-align: right;\n",
       "    }\n",
       "</style>\n",
       "<table border=\"1\" class=\"dataframe\">\n",
       "  <thead>\n",
       "    <tr style=\"text-align: right;\">\n",
       "      <th></th>\n",
       "      <th>Plant Name, Unit Number</th>\n",
       "      <th>NRC Reactor Unit Web Page</th>\n",
       "      <th>Docket  Number</th>\n",
       "      <th>License Number</th>\n",
       "      <th>Location</th>\n",
       "      <th>NRC Region</th>\n",
       "      <th>Licensee</th>\n",
       "      <th>Parent Company Utility Name</th>\n",
       "      <th>Parent Company Website</th>\n",
       "      <th>Parent Company Notes</th>\n",
       "      <th>...</th>\n",
       "      <th>2013 Capacity Factor (Percent)</th>\n",
       "      <th>2012 Capacity Factor (Percent)</th>\n",
       "      <th>2011 Capacity Factor (Percent)</th>\n",
       "      <th>2010 Capacity Factor (Percent)</th>\n",
       "      <th>2009 Capacity Factor (Percent)</th>\n",
       "      <th>2008 Capacity Factor (Percent)</th>\n",
       "      <th>2005 Capacity Factor (Percent)</th>\n",
       "      <th>2004 Capacity Factor (Percent)</th>\n",
       "      <th>2003 Capacity Factor (Percent)</th>\n",
       "      <th>Years of Operation through 12/31/2019</th>\n",
       "    </tr>\n",
       "  </thead>\n",
       "  <tbody>\n",
       "    <tr>\n",
       "      <td>0</td>\n",
       "      <td>Arkansas Nuclear One, Unit 1</td>\n",
       "      <td>ANO 1</td>\n",
       "      <td>05000313</td>\n",
       "      <td>DPR-51</td>\n",
       "      <td>London, AR (6 MI WNW of Russellville,  AR)</td>\n",
       "      <td>4</td>\n",
       "      <td>Entergy Operations, Inc.</td>\n",
       "      <td>Entergy Nuclear Operations, Inc.</td>\n",
       "      <td>www.entergy-nuclear.com</td>\n",
       "      <td>NaN</td>\n",
       "      <td>...</td>\n",
       "      <td>0.560015</td>\n",
       "      <td>1.02</td>\n",
       "      <td>0.87</td>\n",
       "      <td>0.90</td>\n",
       "      <td>0.99</td>\n",
       "      <td>0.830000</td>\n",
       "      <td>0.78</td>\n",
       "      <td>0.92</td>\n",
       "      <td>0.92</td>\n",
       "      <td>45</td>\n",
       "    </tr>\n",
       "    <tr>\n",
       "      <td>1</td>\n",
       "      <td>Arkansas Nuclear One, Unit 2</td>\n",
       "      <td>ANO 2</td>\n",
       "      <td>05000368</td>\n",
       "      <td>NPF-6</td>\n",
       "      <td>London, AR (6 MI WNW of Russellville,  AR)</td>\n",
       "      <td>4</td>\n",
       "      <td>Entergy Operations, Inc.</td>\n",
       "      <td>Entergy Nuclear Operations, Inc.</td>\n",
       "      <td>www.entergy-nuclear.com</td>\n",
       "      <td>NaN</td>\n",
       "      <td>...</td>\n",
       "      <td>0.909777</td>\n",
       "      <td>0.93</td>\n",
       "      <td>0.90</td>\n",
       "      <td>0.97</td>\n",
       "      <td>0.90</td>\n",
       "      <td>0.911003</td>\n",
       "      <td>0.91</td>\n",
       "      <td>0.99</td>\n",
       "      <td>0.90</td>\n",
       "      <td>41</td>\n",
       "    </tr>\n",
       "    <tr>\n",
       "      <td>2</td>\n",
       "      <td>Beaver Valley Power Station, Unit 1</td>\n",
       "      <td>Beaver Valley 1</td>\n",
       "      <td>05000334</td>\n",
       "      <td>DPR-66</td>\n",
       "      <td>Shippingport, PA(17 MI W of McCandless,  PA)</td>\n",
       "      <td>1</td>\n",
       "      <td>FirstEnergy Nuclear Operating Co.</td>\n",
       "      <td>FirstEnergy Nuclear Operating Company</td>\n",
       "      <td>www.firstenergycorp.com</td>\n",
       "      <td>NaN</td>\n",
       "      <td>...</td>\n",
       "      <td>0.860891</td>\n",
       "      <td>0.92</td>\n",
       "      <td>1.01</td>\n",
       "      <td>0.91</td>\n",
       "      <td>0.92</td>\n",
       "      <td>1.014076</td>\n",
       "      <td>1.01</td>\n",
       "      <td>0.93</td>\n",
       "      <td>0.83</td>\n",
       "      <td>43</td>\n",
       "    </tr>\n",
       "    <tr>\n",
       "      <td>3</td>\n",
       "      <td>Beaver Valley Power Station, Unit 2</td>\n",
       "      <td>Beaver Valley 2</td>\n",
       "      <td>05000412</td>\n",
       "      <td>NPF-73</td>\n",
       "      <td>Shippingport, PA (17 MI W of McCandless,  PA)</td>\n",
       "      <td>1</td>\n",
       "      <td>FirstEnergy Nuclear Operating Co.</td>\n",
       "      <td>FirstEnergy Nuclear Operating Company</td>\n",
       "      <td>www.firstenergycorp.com</td>\n",
       "      <td>NaN</td>\n",
       "      <td>...</td>\n",
       "      <td>0.966991</td>\n",
       "      <td>0.91</td>\n",
       "      <td>1.02</td>\n",
       "      <td>0.84</td>\n",
       "      <td>0.87</td>\n",
       "      <td>1.030000</td>\n",
       "      <td>0.93</td>\n",
       "      <td>1.00</td>\n",
       "      <td>0.91</td>\n",
       "      <td>32</td>\n",
       "    </tr>\n",
       "    <tr>\n",
       "      <td>4</td>\n",
       "      <td>Braidwood Station, Unit 1</td>\n",
       "      <td>Braidwood 1</td>\n",
       "      <td>05000456</td>\n",
       "      <td>NPF-72</td>\n",
       "      <td>Braceville, IL (20 MI SSW of Joliet,  IL)</td>\n",
       "      <td>3</td>\n",
       "      <td>Exelon Generation Co., LLC</td>\n",
       "      <td>Exelon Corporation, LLC</td>\n",
       "      <td>www.exeloncorp.com</td>\n",
       "      <td>NaN</td>\n",
       "      <td>...</td>\n",
       "      <td>0.950000</td>\n",
       "      <td>0.91</td>\n",
       "      <td>1.01</td>\n",
       "      <td>0.89</td>\n",
       "      <td>0.95</td>\n",
       "      <td>1.013985</td>\n",
       "      <td>1.00</td>\n",
       "      <td>0.95</td>\n",
       "      <td>0.97</td>\n",
       "      <td>32</td>\n",
       "    </tr>\n",
       "  </tbody>\n",
       "</table>\n",
       "<p>5 rows × 36 columns</p>\n",
       "</div>"
      ],
      "text/plain": [
       "               Plant Name, Unit Number NRC Reactor Unit Web Page   \\\n",
       "0         Arkansas Nuclear One, Unit 1                      ANO 1   \n",
       "1         Arkansas Nuclear One, Unit 2                      ANO 2   \n",
       "2  Beaver Valley Power Station, Unit 1            Beaver Valley 1   \n",
       "3  Beaver Valley Power Station, Unit 2            Beaver Valley 2   \n",
       "4            Braidwood Station, Unit 1                Braidwood 1   \n",
       "\n",
       "  Docket  Number License Number  \\\n",
       "0       05000313         DPR-51   \n",
       "1       05000368          NPF-6   \n",
       "2       05000334         DPR-66   \n",
       "3       05000412         NPF-73   \n",
       "4       05000456         NPF-72   \n",
       "\n",
       "                                        Location  NRC Region  \\\n",
       "0     London, AR (6 MI WNW of Russellville,  AR)           4   \n",
       "1     London, AR (6 MI WNW of Russellville,  AR)           4   \n",
       "2   Shippingport, PA(17 MI W of McCandless,  PA)           1   \n",
       "3  Shippingport, PA (17 MI W of McCandless,  PA)           1   \n",
       "4      Braceville, IL (20 MI SSW of Joliet,  IL)           3   \n",
       "\n",
       "                            Licensee            Parent Company Utility Name  \\\n",
       "0           Entergy Operations, Inc.       Entergy Nuclear Operations, Inc.   \n",
       "1           Entergy Operations, Inc.       Entergy Nuclear Operations, Inc.   \n",
       "2  FirstEnergy Nuclear Operating Co.  FirstEnergy Nuclear Operating Company   \n",
       "3  FirstEnergy Nuclear Operating Co.  FirstEnergy Nuclear Operating Company   \n",
       "4         Exelon Generation Co., LLC                Exelon Corporation, LLC   \n",
       "\n",
       "    Parent Company Website Parent Company Notes  ...  \\\n",
       "0  www.entergy-nuclear.com                  NaN  ...   \n",
       "1  www.entergy-nuclear.com                  NaN  ...   \n",
       "2  www.firstenergycorp.com                  NaN  ...   \n",
       "3  www.firstenergycorp.com                  NaN  ...   \n",
       "4       www.exeloncorp.com                  NaN  ...   \n",
       "\n",
       "  2013 Capacity Factor (Percent) 2012 Capacity Factor (Percent)  \\\n",
       "0                       0.560015                           1.02   \n",
       "1                       0.909777                           0.93   \n",
       "2                       0.860891                           0.92   \n",
       "3                       0.966991                           0.91   \n",
       "4                       0.950000                           0.91   \n",
       "\n",
       "  2011 Capacity Factor (Percent) 2010 Capacity Factor (Percent)  \\\n",
       "0                           0.87                           0.90   \n",
       "1                           0.90                           0.97   \n",
       "2                           1.01                           0.91   \n",
       "3                           1.02                           0.84   \n",
       "4                           1.01                           0.89   \n",
       "\n",
       "  2009 Capacity Factor (Percent) 2008 Capacity Factor (Percent)  \\\n",
       "0                           0.99                       0.830000   \n",
       "1                           0.90                       0.911003   \n",
       "2                           0.92                       1.014076   \n",
       "3                           0.87                       1.030000   \n",
       "4                           0.95                       1.013985   \n",
       "\n",
       "  2005 Capacity Factor (Percent) 2004 Capacity Factor (Percent)  \\\n",
       "0                           0.78                           0.92   \n",
       "1                           0.91                           0.99   \n",
       "2                           1.01                           0.93   \n",
       "3                           0.93                           1.00   \n",
       "4                           1.00                           0.95   \n",
       "\n",
       "  2003 Capacity Factor (Percent)  Years of Operation through 12/31/2019  \n",
       "0                           0.92                                     45  \n",
       "1                           0.90                                     41  \n",
       "2                           0.83                                     43  \n",
       "3                           0.91                                     32  \n",
       "4                           0.97                                     32  \n",
       "\n",
       "[5 rows x 36 columns]"
      ]
     },
     "execution_count": 3,
     "metadata": {},
     "output_type": "execute_result"
    }
   ],
   "source": [
    "headers = [s.replace(\"\\n\", \" \") for s in list(df)] # Get headers and replace \\n\n",
    "df = df.rename(columns=dict(zip(list(df), headers))) # Rename headers in df\n",
    "del_col = [s for s in list(df) if \"Unnamed\" in s] # Find headers with \"Unnamed\" in name\n",
    "df = df.drop(del_col, axis=1) # Remove headers in del_col\n",
    "df.head()"
   ]
  },
  {
   "cell_type": "markdown",
   "metadata": {},
   "source": [
    "Because the `Parent Company Notes` column contains NaN values for most entries and non-numeric values for the rest, it is safe to drop. In addition, the `Parent Company Website` is redundant information given the `Parent Company Utility Name` column, so it is also safe to drop."
   ]
  },
  {
   "cell_type": "code",
   "execution_count": 4,
   "metadata": {},
   "outputs": [],
   "source": [
    "df = df.drop([\"Parent Company Notes\", \"Parent Company Website\"], axis=1)"
   ]
  },
  {
   "cell_type": "markdown",
   "metadata": {},
   "source": [
    "#### 2.2 Converting date formats"
   ]
  },
  {
   "cell_type": "markdown",
   "metadata": {},
   "source": [
    "In order to convert the dates in the data into interval form, we calculate date as the number of days since Jan. 1, 1900. This allows the date to be represented as an integer and possibly inputted into models as is."
   ]
  },
  {
   "cell_type": "code",
   "execution_count": 5,
   "metadata": {},
   "outputs": [],
   "source": [
    "date_cols = [\"Construction Permit Issued\", \"Operating License Issued\", \"Commercial Operation\", \"Renewed Operating License Issued\", \"Operating License Expires\"]\n",
    "for dc in date_cols:\n",
    "    repl = []\n",
    "    for elem in df[dc]:\n",
    "        try:\n",
    "            repl.append((pd.Timestamp(elem) - np.datetime64('1900-01-01')).days)\n",
    "        except:\n",
    "            repl.append(np.nan)\n",
    "    df[dc] = repl"
   ]
  },
  {
   "cell_type": "markdown",
   "metadata": {},
   "source": [
    "### 3. Linear Regression Model for \"Licensed MWt\" vs. \"Commercial Operation\""
   ]
  },
  {
   "cell_type": "code",
   "execution_count": 6,
   "metadata": {},
   "outputs": [
    {
     "name": "stdout",
     "output_type": "stream",
     "text": [
      "Coef: [0.140262] Intercept: [-986.20125827]\n"
     ]
    },
    {
     "name": "stderr",
     "output_type": "stream",
     "text": [
      "/Library/Frameworks/Python.framework/Versions/3.7/lib/python3.7/site-packages/sklearn/linear_model/base.py:503: RuntimeWarning: internal gelsd driver lwork query error, required iwork dimension not returned. This is likely the result of LAPACK bug 0038, fixed in LAPACK 3.2.2 (released July 21, 2010). Falling back to 'gelss' driver.\n",
      "  linalg.lstsq(X, y)\n"
     ]
    }
   ],
   "source": [
    "model = linear_model.LinearRegression()\n",
    "x = np.array(df[\"Commercial Operation\"]).reshape(-1, 1)\n",
    "y = np.array(df[\"Licensed MWt\"]).reshape(-1, 1)\n",
    "model.fit(X=x, y=y)\n",
    "print(\"Coef:\", model.coef_[0], \"Intercept:\", model.intercept_)"
   ]
  },
  {
   "cell_type": "code",
   "execution_count": 7,
   "metadata": {},
   "outputs": [
    {
     "data": {
      "image/png": "[encoded data removed]",
      "text/plain": [
       "<Figure size 432x288 with 1 Axes>"
      ]
     },
     "metadata": {
      "needs_background": "light"
     },
     "output_type": "display_data"
    }
   ],
   "source": [
    "# Taken from the LinearRegression notebook from class\n",
    "def plot_best_fit_line(model, x, y):\n",
    "    # create the figure\n",
    "    fig = plt.figure(1)\n",
    "    fig.suptitle('Data and Best-Fit Line')\n",
    "    plt.xlabel('Days after 1900 Jan 1')\n",
    "    plt.ylabel('Licensed MWt')\n",
    "\n",
    "    # put the generated dataset points on the graph\n",
    "    plt.scatter(x, y)\n",
    "    \n",
    "    # Now we actually want to plot the best-fit line.\n",
    "    # To simulate that, we'll simply generate all the\n",
    "    # inputs on the graph and plot that.\n",
    "    # predict for inputs along the graph to find the best-fit line\n",
    "    X = np.linspace(min(x)-10, max(x)+10) # generates all the possible values of x\n",
    "    Y = model.predict(list(zip(X)))\n",
    "    plt.plot(X, Y)\n",
    "\n",
    "plot_best_fit_line(model, x, y)"
   ]
  },
  {
   "cell_type": "markdown",
   "metadata": {},
   "source": [
    "We can find the `R^2` value for the line produced:"
   ]
  },
  {
   "cell_type": "code",
   "execution_count": 8,
   "metadata": {},
   "outputs": [
    {
     "data": {
      "text/plain": [
       "-132.03220255677556"
      ]
     },
     "execution_count": 8,
     "metadata": {},
     "output_type": "execute_result"
    }
   ],
   "source": [
    "def r_squared(model, x, y):\n",
    "    y_pred = np.array([model.predict([t]) for t in x])\n",
    "    y_avg = np.average(y)\n",
    "    return 1 - np.sum((y_pred-y)**2)/np.sum((y_avg-y)**2)\n",
    "\n",
    "r_squared(model, x, y)"
   ]
  },
  {
   "cell_type": "markdown",
   "metadata": {},
   "source": [
    "We can remove the outlier at x ~ 42500 and retry."
   ]
  },
  {
   "cell_type": "code",
   "execution_count": 9,
   "metadata": {},
   "outputs": [
    {
     "name": "stdout",
     "output_type": "stream",
     "text": [
      "Coef: [0.17991646] Intercept: [-2137.87084775]\n"
     ]
    }
   ],
   "source": [
    "df2 = df.drop(df[df[\"Commercial Operation\"] > 42500].index)\n",
    "no_model = linear_model.LinearRegression()\n",
    "no_x = np.array(df2[\"Commercial Operation\"]).reshape(-1, 1)\n",
    "no_y = np.array(df2[\"Licensed MWt\"]).reshape(-1, 1)\n",
    "no_model.fit(X=no_x, y=no_y)\n",
    "print(\"Coef:\", no_model.coef_[0], \"Intercept:\", no_model.intercept_)"
   ]
  },
  {
   "cell_type": "code",
   "execution_count": 11,
   "metadata": {},
   "outputs": [
    {
     "data": {
      "text/plain": [
       "-121.99418627465911"
      ]
     },
     "execution_count": 11,
     "metadata": {},
     "output_type": "execute_result"
    },
    {
     "data": {
      "image/png": "[encoded data removed]",
      "text/plain": [
       "<Figure size 432x288 with 1 Axes>"
      ]
     },
     "metadata": {
      "needs_background": "light"
     },
     "output_type": "display_data"
    }
   ],
   "source": [
    "plot_best_fit_line(model, no_x, no_y)\n",
    "r_squared(model, no_x, no_y)"
   ]
  },
  {
   "cell_type": "markdown",
   "metadata": {},
   "source": [
    "In this case, a polynomial model may fit the data better due to the curved nature of the scatterplot."
   ]
  },
  {
   "cell_type": "code",
   "execution_count": null,
   "metadata": {},
   "outputs": [],
   "source": []
  }
 ],
 "metadata": {
  "kernelspec": {
   "display_name": "Python 3",
   "language": "python",
   "name": "python3"
  },
  "language_info": {
   "codemirror_mode": {
    "name": "ipython",
    "version": 3
   },
   "file_extension": ".py",
   "mimetype": "text/x-python",
   "name": "python",
   "nbconvert_exporter": "python",
   "pygments_lexer": "ipython3",
   "version": "3.7.4"
  }
 },
 "nbformat": 4,
 "nbformat_minor": 2
}

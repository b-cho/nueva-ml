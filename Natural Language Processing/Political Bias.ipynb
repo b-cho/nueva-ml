{
 "cells": [
  {
   "cell_type": "markdown",
   "metadata": {},
   "source": [
    "# Using NLP to Evaluate and Quantify Political Bias in Tweets\n",
    "\n",
    "In this notebook, we attempt to use natural language processing techniques to quantify political bias on the traditional left-right scale found in American politics.\n",
    "\n",
    "Data taken from https://archive.org/details/archiveteam-twitter-stream-2021-01. Each file was unzipped using the `bzip2` command."
   ]
  },
  {
   "cell_type": "code",
   "execution_count": null,
   "metadata": {},
   "outputs": [],
   "source": []
  }
 ],
 "metadata": {
  "kernelspec": {
   "display_name": "Python 3",
   "language": "python",
   "name": "python3"
  },
  "language_info": {
   "codemirror_mode": {
    "name": "ipython",
    "version": 3
   },
   "file_extension": ".py",
   "mimetype": "text/x-python",
   "name": "python",
   "nbconvert_exporter": "python",
   "pygments_lexer": "ipython3",
   "version": "3.5.4"
  }
 },
 "nbformat": 4,
 "nbformat_minor": 2
}

{
 "cells": [
  {
   "cell_type": "markdown",
   "metadata": {},
   "source": [
    "# Semantic analysis of Twitch livestream chat terms using word vectors\n",
    "\n",
    "**DISCLAIMER**: I am not responsible in any way for the content of the dataset itself, which includes offensive and/or derogatory language. A copy of the dataset can be obtained from https://osf.io/39ev7."
   ]
  },
  {
   "cell_type": "code",
   "execution_count": 2,
   "metadata": {},
   "outputs": [],
   "source": [
    "import pandas as pd\n",
    "import numpy as np\n",
    "import nltk\n",
    "import gensim\n",
    "from gensim.models import word2vec, fasttext\n",
    "import glob\n",
    "from tqdm import tqdm\n",
    "import matplotlib\n",
    "import matplotlib.pyplot as plt\n",
    "\n",
    "from sklearn.manifold import TSNE\n",
    "from sklearn.cluster import DBSCAN, KMeans"
   ]
  },
  {
   "cell_type": "markdown",
   "metadata": {},
   "source": [
    "## 1. Preprocessing and Examining the Dataset\n",
    "\n",
    "The dataset consists of a series of CSV files with anonymized user ID and message data."
   ]
  },
  {
   "cell_type": "code",
   "execution_count": 3,
   "metadata": {},
   "outputs": [],
   "source": [
    "csv_files = [file for file in glob.glob('./data_set/data/*.csv')]"
   ]
  },
  {
   "cell_type": "code",
   "execution_count": 4,
   "metadata": {},
   "outputs": [
    {
     "data": {
      "text/html": [
       "<div>\n",
       "<style scoped>\n",
       "    .dataframe tbody tr th:only-of-type {\n",
       "        vertical-align: middle;\n",
       "    }\n",
       "\n",
       "    .dataframe tbody tr th {\n",
       "        vertical-align: top;\n",
       "    }\n",
       "\n",
       "    .dataframe thead th {\n",
       "        text-align: right;\n",
       "    }\n",
       "</style>\n",
       "<table border=\"1\" class=\"dataframe\">\n",
       "  <thead>\n",
       "    <tr style=\"text-align: right;\">\n",
       "      <th></th>\n",
       "      <th>Time</th>\n",
       "      <th>User</th>\n",
       "      <th>Message</th>\n",
       "    </tr>\n",
       "  </thead>\n",
       "  <tbody>\n",
       "    <tr>\n",
       "      <th>0</th>\n",
       "      <td>0.0</td>\n",
       "      <td>2478b9f9b54fadbad63b1b4e84331a65d165ddf1</td>\n",
       "      <td>i'd go with filthy plebe</td>\n",
       "    </tr>\n",
       "    <tr>\n",
       "      <th>1</th>\n",
       "      <td>13.0</td>\n",
       "      <td>c156cc17ae18d228f16d662e4e7c5d53601bcdf8</td>\n",
       "      <td>little above casual</td>\n",
       "    </tr>\n",
       "    <tr>\n",
       "      <th>2</th>\n",
       "      <td>51.0</td>\n",
       "      <td>cef31dad87dd5ea1659c8602621de7922ca91b56</td>\n",
       "      <td>4/6 is like addicting school boy</td>\n",
       "    </tr>\n",
       "    <tr>\n",
       "      <th>3</th>\n",
       "      <td>84.0</td>\n",
       "      <td>aebfb843f2b1e3b7f3cf72b573321f9b0fd1dd63</td>\n",
       "      <td>behind you it says you're in queue</td>\n",
       "    </tr>\n",
       "    <tr>\n",
       "      <th>4</th>\n",
       "      <td>87.0</td>\n",
       "      <td>a10cf07c115e046f1165fa75345c563ca6e2ff67</td>\n",
       "      <td>you not on ferlina</td>\n",
       "    </tr>\n",
       "    <tr>\n",
       "      <th>...</th>\n",
       "      <td>...</td>\n",
       "      <td>...</td>\n",
       "      <td>...</td>\n",
       "    </tr>\n",
       "    <tr>\n",
       "      <th>95</th>\n",
       "      <td>3075.0</td>\n",
       "      <td>dd3ac56dba170017de2b3bf2846b7ed8d288ccbb</td>\n",
       "      <td>we didn't get a chance to xd</td>\n",
       "    </tr>\n",
       "    <tr>\n",
       "      <th>96</th>\n",
       "      <td>3089.0</td>\n",
       "      <td>4beb92fa20ff6ffff86f724bc8265c8508819260</td>\n",
       "      <td>no</td>\n",
       "    </tr>\n",
       "    <tr>\n",
       "      <th>97</th>\n",
       "      <td>3094.0</td>\n",
       "      <td>5aea5a285545be5dc31353b84b5f93a5213abf46</td>\n",
       "      <td>i was sending ammosploshin after awhile didn't...</td>\n",
       "    </tr>\n",
       "    <tr>\n",
       "      <th>98</th>\n",
       "      <td>3129.0</td>\n",
       "      <td>d2d38c15edc1225819d9fe02d9ec66f9a0eb0377</td>\n",
       "      <td>they should totally give better loot after all...</td>\n",
       "    </tr>\n",
       "    <tr>\n",
       "      <th>99</th>\n",
       "      <td>3133.0</td>\n",
       "      <td>dd3ac56dba170017de2b3bf2846b7ed8d288ccbb</td>\n",
       "      <td>so anyway when are you gonna be back and ready...</td>\n",
       "    </tr>\n",
       "  </tbody>\n",
       "</table>\n",
       "<p>100 rows × 3 columns</p>\n",
       "</div>"
      ],
      "text/plain": [
       "      Time                                      User  \\\n",
       "0      0.0  2478b9f9b54fadbad63b1b4e84331a65d165ddf1   \n",
       "1     13.0  c156cc17ae18d228f16d662e4e7c5d53601bcdf8   \n",
       "2     51.0  cef31dad87dd5ea1659c8602621de7922ca91b56   \n",
       "3     84.0  aebfb843f2b1e3b7f3cf72b573321f9b0fd1dd63   \n",
       "4     87.0  a10cf07c115e046f1165fa75345c563ca6e2ff67   \n",
       "..     ...                                       ...   \n",
       "95  3075.0  dd3ac56dba170017de2b3bf2846b7ed8d288ccbb   \n",
       "96  3089.0  4beb92fa20ff6ffff86f724bc8265c8508819260   \n",
       "97  3094.0  5aea5a285545be5dc31353b84b5f93a5213abf46   \n",
       "98  3129.0  d2d38c15edc1225819d9fe02d9ec66f9a0eb0377   \n",
       "99  3133.0  dd3ac56dba170017de2b3bf2846b7ed8d288ccbb   \n",
       "\n",
       "                                              Message  \n",
       "0                           i'd go with filthy plebe   \n",
       "1                                little above casual   \n",
       "2                   4/6 is like addicting school boy   \n",
       "3                 behind you it says you're in queue   \n",
       "4                                 you not on ferlina   \n",
       "..                                                ...  \n",
       "95                      we didn't get a chance to xd   \n",
       "96                                                no   \n",
       "97  i was sending ammosploshin after awhile didn't...  \n",
       "98  they should totally give better loot after all...  \n",
       "99  so anyway when are you gonna be back and ready...  \n",
       "\n",
       "[100 rows x 3 columns]"
      ]
     },
     "execution_count": 4,
     "metadata": {},
     "output_type": "execute_result"
    }
   ],
   "source": [
    "pd.read_csv(csv_files[10]).head(100)"
   ]
  },
  {
   "cell_type": "markdown",
   "metadata": {},
   "source": [
    "As seen above, clearly the data does not consist of complete sentences—in fact, there is misspelling even among Twitch-specific/non-prosaic terms (for example, *poogers* instead of *poggers* in message 18)."
   ]
  },
  {
   "cell_type": "markdown",
   "metadata": {},
   "source": [
    "**Concatenating the CSV file data frames**\n",
    "\n",
    "We proceed to concatenate the CSV files provided into one large data frame, maintaining a unique key for each file."
   ]
  },
  {
   "cell_type": "code",
   "execution_count": 5,
   "metadata": {},
   "outputs": [
    {
     "name": "stderr",
     "output_type": "stream",
     "text": [
      "100%|████████████████████████████████████████████████████████████████████████████████████| 1951/1951 [00:46<00:00, 42.24it/s]\n"
     ]
    }
   ],
   "source": [
    "csv_dfs = [pd.read_csv(file_path) for file_path in tqdm(csv_files)]\n",
    "data = pd.concat(csv_dfs, keys=[i for i in range(len(csv_dfs))]) # Associated key with each original CSV file"
   ]
  },
  {
   "cell_type": "code",
   "execution_count": 6,
   "metadata": {},
   "outputs": [
    {
     "data": {
      "text/html": [
       "<div>\n",
       "<style scoped>\n",
       "    .dataframe tbody tr th:only-of-type {\n",
       "        vertical-align: middle;\n",
       "    }\n",
       "\n",
       "    .dataframe tbody tr th {\n",
       "        vertical-align: top;\n",
       "    }\n",
       "\n",
       "    .dataframe thead th {\n",
       "        text-align: right;\n",
       "    }\n",
       "</style>\n",
       "<table border=\"1\" class=\"dataframe\">\n",
       "  <thead>\n",
       "    <tr style=\"text-align: right;\">\n",
       "      <th></th>\n",
       "      <th></th>\n",
       "      <th>Time</th>\n",
       "      <th>User</th>\n",
       "      <th>Message</th>\n",
       "    </tr>\n",
       "  </thead>\n",
       "  <tbody>\n",
       "    <tr>\n",
       "      <th rowspan=\"5\" valign=\"top\">0</th>\n",
       "      <th>0</th>\n",
       "      <td>0.0</td>\n",
       "      <td>c57408f5ed00cc1bd11a04622cad08a16549f988</td>\n",
       "      <td>this is the problem with d1 rewards no consuma...</td>\n",
       "    </tr>\n",
       "    <tr>\n",
       "      <th>1</th>\n",
       "      <td>19.0</td>\n",
       "      <td>013e821f4abd3315b33607ba2cb49e56f79ab646</td>\n",
       "      <td>imagine doing this on a proper road to glory k...</td>\n",
       "    </tr>\n",
       "    <tr>\n",
       "      <th>2</th>\n",
       "      <td>20.0</td>\n",
       "      <td>8b0b3e7ab08aa054e442e2b541b9ccae3301da60</td>\n",
       "      <td>can someone help me with trading</td>\n",
       "    </tr>\n",
       "    <tr>\n",
       "      <th>3</th>\n",
       "      <td>32.0</td>\n",
       "      <td>5f3e0747f3e4f0220d696078ff84d37431be2682</td>\n",
       "      <td>5110 people in here pogchamp</td>\n",
       "    </tr>\n",
       "    <tr>\n",
       "      <th>4</th>\n",
       "      <td>32.0</td>\n",
       "      <td>c57408f5ed00cc1bd11a04622cad08a16549f988</td>\n",
       "      <td>just chuck a few rare consumable packs in the ...</td>\n",
       "    </tr>\n",
       "    <tr>\n",
       "      <th>...</th>\n",
       "      <th>...</th>\n",
       "      <td>...</td>\n",
       "      <td>...</td>\n",
       "      <td>...</td>\n",
       "    </tr>\n",
       "    <tr>\n",
       "      <th rowspan=\"5\" valign=\"top\">1950</th>\n",
       "      <th>630</th>\n",
       "      <td>3234.0</td>\n",
       "      <td>b616d7bfe22f02a210d4ad732160d006824c6607</td>\n",
       "      <td>sup</td>\n",
       "    </tr>\n",
       "    <tr>\n",
       "      <th>631</th>\n",
       "      <td>3235.0</td>\n",
       "      <td>7e7bf37c9889c635dbb66f8cd4fb926b039ceb07</td>\n",
       "      <td>finicksquad finicksquad finicksquad finicksqua...</td>\n",
       "    </tr>\n",
       "    <tr>\n",
       "      <th>632</th>\n",
       "      <td>3236.0</td>\n",
       "      <td>075b77801ab50ed6f9f30f30510804deaf73e1c7</td>\n",
       "      <td>whats up bruh</td>\n",
       "    </tr>\n",
       "    <tr>\n",
       "      <th>633</th>\n",
       "      <td>3246.0</td>\n",
       "      <td>ba083faf1e4a03ebbc09c1a240b25563365cdea2</td>\n",
       "      <td>im blueee aba dee abadaa abaeee abadaa</td>\n",
       "    </tr>\n",
       "    <tr>\n",
       "      <th>634</th>\n",
       "      <td>3349.0</td>\n",
       "      <td>258eb86ae2c11502d97d748b4aab58ee5a87f1f2</td>\n",
       "      <td>any scrims tonight</td>\n",
       "    </tr>\n",
       "  </tbody>\n",
       "</table>\n",
       "<p>14720748 rows × 3 columns</p>\n",
       "</div>"
      ],
      "text/plain": [
       "            Time                                      User  \\\n",
       "0    0       0.0  c57408f5ed00cc1bd11a04622cad08a16549f988   \n",
       "     1      19.0  013e821f4abd3315b33607ba2cb49e56f79ab646   \n",
       "     2      20.0  8b0b3e7ab08aa054e442e2b541b9ccae3301da60   \n",
       "     3      32.0  5f3e0747f3e4f0220d696078ff84d37431be2682   \n",
       "     4      32.0  c57408f5ed00cc1bd11a04622cad08a16549f988   \n",
       "...          ...                                       ...   \n",
       "1950 630  3234.0  b616d7bfe22f02a210d4ad732160d006824c6607   \n",
       "     631  3235.0  7e7bf37c9889c635dbb66f8cd4fb926b039ceb07   \n",
       "     632  3236.0  075b77801ab50ed6f9f30f30510804deaf73e1c7   \n",
       "     633  3246.0  ba083faf1e4a03ebbc09c1a240b25563365cdea2   \n",
       "     634  3349.0  258eb86ae2c11502d97d748b4aab58ee5a87f1f2   \n",
       "\n",
       "                                                    Message  \n",
       "0    0    this is the problem with d1 rewards no consuma...  \n",
       "     1    imagine doing this on a proper road to glory k...  \n",
       "     2                    can someone help me with trading   \n",
       "     3                        5110 people in here pogchamp   \n",
       "     4    just chuck a few rare consumable packs in the ...  \n",
       "...                                                     ...  \n",
       "1950 630                                               sup   \n",
       "     631  finicksquad finicksquad finicksquad finicksqua...  \n",
       "     632                                     whats up bruh   \n",
       "     633            im blueee aba dee abadaa abaeee abadaa   \n",
       "     634                                any scrims tonight   \n",
       "\n",
       "[14720748 rows x 3 columns]"
      ]
     },
     "execution_count": 6,
     "metadata": {},
     "output_type": "execute_result"
    }
   ],
   "source": [
    "data"
   ]
  },
  {
   "cell_type": "code",
   "execution_count": 7,
   "metadata": {},
   "outputs": [
    {
     "name": "stderr",
     "output_type": "stream",
     "text": [
      "100%|████████████████████████████████████████████████████████████████████████████| 1000000/1000000 [01:54<00:00, 8698.44it/s]\n"
     ]
    },
    {
     "data": {
      "text/plain": [
       "[['this',\n",
       "  'is',\n",
       "  'the',\n",
       "  'problem',\n",
       "  'with',\n",
       "  'd1',\n",
       "  'rewards',\n",
       "  'no',\n",
       "  'consumables'],\n",
       " ['imagine',\n",
       "  'doing',\n",
       "  'this',\n",
       "  'on',\n",
       "  'a',\n",
       "  'proper',\n",
       "  'road',\n",
       "  'to',\n",
       "  'glory',\n",
       "  'kappa'],\n",
       " ['can', 'someone', 'help', 'me', 'with', 'trading'],\n",
       " ['5110', 'people', 'in', 'here', 'pogchamp'],\n",
       " ['just',\n",
       "  'chuck',\n",
       "  'a',\n",
       "  'few',\n",
       "  'rare',\n",
       "  'consumable',\n",
       "  'packs',\n",
       "  'in',\n",
       "  'the',\n",
       "  'rewards',\n",
       "  'you',\n",
       "  'stingy',\n",
       "  'fucks'],\n",
       " ['i', 'have', '50k'],\n",
       " ['league', 'sbccccccccccc'],\n",
       " ['they', 'call', 'me', 'unexpected'],\n",
       " ['2million', 'coins'],\n",
       " ['way', 'tooooo', 'much']]"
      ]
     },
     "execution_count": 7,
     "metadata": {},
     "output_type": "execute_result"
    }
   ],
   "source": [
    "messages = list(data[\"Message\"])[:1000000] # Extracting the message data...\n",
    "tokens = [nltk.word_tokenize(message) for message in tqdm(messages)]\n",
    "tokens[:10]"
   ]
  },
  {
   "cell_type": "code",
   "execution_count": 8,
   "metadata": {},
   "outputs": [],
   "source": [
    "def trim_rule(word, count, min_count): # Trim unnecessary words from vocabulary\n",
    "    if(count < min_count):\n",
    "        return gensim.utils.RULE_DISCARD\n",
    "    if(len(word) > 30): # Probably a UUID or some anonymized Twitch username, or a string of characters that is not common\n",
    "        return gensim.utils.RULE_DISCARD\n",
    "    if(not word.isascii()):\n",
    "        return gensim.utils.RULE_DISCARD\n",
    "    \n",
    "    return gensim.utils.RULE_KEEP"
   ]
  },
  {
   "cell_type": "markdown",
   "metadata": {},
   "source": [
    "# 2. Using word2vec"
   ]
  },
  {
   "cell_type": "code",
   "execution_count": 237,
   "metadata": {},
   "outputs": [
    {
     "data": {
      "text/plain": [
       "(3960934, 4678487)"
      ]
     },
     "execution_count": 237,
     "metadata": {},
     "output_type": "execute_result"
    }
   ],
   "source": [
    "# w2v_model = word2vec.Word2Vec.load('D:\\\\Users\\\\brandon\\\\1billion_word_vectors\\\\1billion_word_vectors') # Use a pretrained model as a baseline, taken from the course notes\n",
    "w2v_model = word2vec.Word2Vec(vector_size=20, window=5, min_count=1, workers=4)\n",
    "# w2v_model.build_vocab(tokens, update=True, trim_rule=trim_rule)\n",
    "w2v_model.build_vocab(tokens, trim_rule=trim_rule)\n",
    "w2v_model.train(tokens, total_examples=len(tokens), epochs=1)"
   ]
  },
  {
   "cell_type": "code",
   "execution_count": 238,
   "metadata": {},
   "outputs": [
    {
     "data": {
      "text/plain": [
       "[('pogu', 0.9150627255439758),\n",
       " ('fifa', 0.9089651107788086),\n",
       " ('btw', 0.9054074287414551),\n",
       " ('pause', 0.9046125411987305),\n",
       " ('top', 0.8997672200202942),\n",
       " ('left', 0.8968061208724976),\n",
       " ('=', 0.8955998420715332),\n",
       " ('wins', 0.8947588205337524),\n",
       " ('old', 0.8933522701263428),\n",
       " ('level', 0.8924893140792847),\n",
       " ('modded', 0.8899898529052734),\n",
       " ('mid', 0.8878172636032104),\n",
       " ('ads', 0.8876227140426636),\n",
       " ('second', 0.8859102725982666),\n",
       " ('epic', 0.885235071182251),\n",
       " ('fortnite', 0.8847652077674866),\n",
       " ('silver', 0.8846436738967896),\n",
       " ('class', 0.884204089641571),\n",
       " ('ranked', 0.8840152621269226),\n",
       " ('late', 0.883034348487854)]"
      ]
     },
     "execution_count": 238,
     "metadata": {},
     "output_type": "execute_result"
    }
   ],
   "source": [
    "w2v_model.wv.most_similar('pog', topn=20)"
   ]
  },
  {
   "cell_type": "code",
   "execution_count": 239,
   "metadata": {},
   "outputs": [
    {
     "data": {
      "text/plain": [
       "0.82267976"
      ]
     },
     "execution_count": 239,
     "metadata": {},
     "output_type": "execute_result"
    }
   ],
   "source": [
    "w2v_model.wv.n_similarity(['pogu'], ['kekw'])"
   ]
  },
  {
   "cell_type": "code",
   "execution_count": 241,
   "metadata": {},
   "outputs": [
    {
     "data": {
      "text/html": [
       "<div>\n",
       "<style scoped>\n",
       "    .dataframe tbody tr th:only-of-type {\n",
       "        vertical-align: middle;\n",
       "    }\n",
       "\n",
       "    .dataframe tbody tr th {\n",
       "        vertical-align: top;\n",
       "    }\n",
       "\n",
       "    .dataframe thead th {\n",
       "        text-align: right;\n",
       "    }\n",
       "</style>\n",
       "<table border=\"1\" class=\"dataframe\">\n",
       "  <thead>\n",
       "    <tr style=\"text-align: right;\">\n",
       "      <th></th>\n",
       "      <th>0</th>\n",
       "      <th>1</th>\n",
       "      <th>2</th>\n",
       "      <th>3</th>\n",
       "      <th>4</th>\n",
       "      <th>5</th>\n",
       "      <th>6</th>\n",
       "      <th>7</th>\n",
       "      <th>8</th>\n",
       "      <th>9</th>\n",
       "      <th>10</th>\n",
       "      <th>11</th>\n",
       "      <th>12</th>\n",
       "      <th>13</th>\n",
       "      <th>14</th>\n",
       "      <th>15</th>\n",
       "      <th>16</th>\n",
       "      <th>17</th>\n",
       "      <th>18</th>\n",
       "      <th>19</th>\n",
       "    </tr>\n",
       "  </thead>\n",
       "  <tbody>\n",
       "    <tr>\n",
       "      <th>:</th>\n",
       "      <td>-5.898767</td>\n",
       "      <td>1.790141</td>\n",
       "      <td>1.894941</td>\n",
       "      <td>0.590928</td>\n",
       "      <td>-0.584151</td>\n",
       "      <td>2.961014</td>\n",
       "      <td>5.639725</td>\n",
       "      <td>2.734805</td>\n",
       "      <td>-8.504214</td>\n",
       "      <td>3.115817</td>\n",
       "      <td>0.354433</td>\n",
       "      <td>3.437492</td>\n",
       "      <td>-1.861162</td>\n",
       "      <td>-2.019985</td>\n",
       "      <td>1.720827</td>\n",
       "      <td>3.988377</td>\n",
       "      <td>5.013791</td>\n",
       "      <td>-1.742144</td>\n",
       "      <td>-2.428453</td>\n",
       "      <td>-3.670329</td>\n",
       "    </tr>\n",
       "    <tr>\n",
       "      <th>the</th>\n",
       "      <td>1.792987</td>\n",
       "      <td>0.335471</td>\n",
       "      <td>3.177991</td>\n",
       "      <td>-1.180351</td>\n",
       "      <td>1.096502</td>\n",
       "      <td>-0.931921</td>\n",
       "      <td>2.484601</td>\n",
       "      <td>1.680119</td>\n",
       "      <td>-6.991838</td>\n",
       "      <td>0.168348</td>\n",
       "      <td>-0.415763</td>\n",
       "      <td>3.566008</td>\n",
       "      <td>-1.188283</td>\n",
       "      <td>-5.184697</td>\n",
       "      <td>2.345800</td>\n",
       "      <td>-1.766726</td>\n",
       "      <td>2.482180</td>\n",
       "      <td>1.178284</td>\n",
       "      <td>-4.816190</td>\n",
       "      <td>3.395973</td>\n",
       "    </tr>\n",
       "    <tr>\n",
       "      <th>i</th>\n",
       "      <td>-3.421280</td>\n",
       "      <td>2.141171</td>\n",
       "      <td>0.020641</td>\n",
       "      <td>-2.189766</td>\n",
       "      <td>-0.211287</td>\n",
       "      <td>-1.741036</td>\n",
       "      <td>-0.765626</td>\n",
       "      <td>3.032750</td>\n",
       "      <td>-4.957201</td>\n",
       "      <td>1.651537</td>\n",
       "      <td>2.063392</td>\n",
       "      <td>4.894318</td>\n",
       "      <td>-5.470958</td>\n",
       "      <td>-0.491739</td>\n",
       "      <td>3.749327</td>\n",
       "      <td>-5.703406</td>\n",
       "      <td>4.149880</td>\n",
       "      <td>-0.494115</td>\n",
       "      <td>-5.451690</td>\n",
       "      <td>4.078672</td>\n",
       "    </tr>\n",
       "  </tbody>\n",
       "</table>\n",
       "</div>"
      ],
      "text/plain": [
       "           0         1         2         3         4         5         6   \\\n",
       ":   -5.898767  1.790141  1.894941  0.590928 -0.584151  2.961014  5.639725   \n",
       "the  1.792987  0.335471  3.177991 -1.180351  1.096502 -0.931921  2.484601   \n",
       "i   -3.421280  2.141171  0.020641 -2.189766 -0.211287 -1.741036 -0.765626   \n",
       "\n",
       "           7         8         9         10        11        12        13  \\\n",
       ":    2.734805 -8.504214  3.115817  0.354433  3.437492 -1.861162 -2.019985   \n",
       "the  1.680119 -6.991838  0.168348 -0.415763  3.566008 -1.188283 -5.184697   \n",
       "i    3.032750 -4.957201  1.651537  2.063392  4.894318 -5.470958 -0.491739   \n",
       "\n",
       "           14        15        16        17        18        19  \n",
       ":    1.720827  3.988377  5.013791 -1.742144 -2.428453 -3.670329  \n",
       "the  2.345800 -1.766726  2.482180  1.178284 -4.816190  3.395973  \n",
       "i    3.749327 -5.703406  4.149880 -0.494115 -5.451690  4.078672  "
      ]
     },
     "execution_count": 241,
     "metadata": {},
     "output_type": "execute_result"
    }
   ],
   "source": [
    "# words = list(w2v_model.wv.index_to_key[-15984:])\n",
    "words = list(w2v_model.wv.index_to_key)\n",
    "# Zip the words together with their vector representations\n",
    "word_vec_zip = zip(words, w2v_model.wv[words])\n",
    "# Cast to a dict so we can turn it into a DataFrame\n",
    "word_vec_dict = dict(word_vec_zip)\n",
    "vector_df = pd.DataFrame.from_dict(word_vec_dict, orient='index')\n",
    "vector_df.head(3)"
   ]
  },
  {
   "cell_type": "code",
   "execution_count": 245,
   "metadata": {},
   "outputs": [],
   "source": [
    "# selected_words = ['pog', 'good', 'amazing', 'kekw', 'terrible', 'omegalul', 'lulw', 'trash', 'op', 'broken', 'bad', 'busted', 'start'] + words[-50:]\n",
    "# selected_vectors = vector_df.loc[selected_words,:]\n",
    "\n",
    "tsne = TSNE(n_components=2, init='random', perplexity=30)\n",
    "tsne_df = tsne.fit_transform(vector_df[1900:2000])\n",
    "tsne_df = np.transpose(tsne_df)"
   ]
  },
  {
   "cell_type": "code",
   "execution_count": 246,
   "metadata": {},
   "outputs": [],
   "source": [
    "clustering = KMeans(n_clusters=3).fit(vector_df)"
   ]
  },
  {
   "cell_type": "code",
   "execution_count": 247,
   "metadata": {},
   "outputs": [
    {
     "data": {
      "image/png": "[encoded data removed]",
      "text/plain": [
       "<Figure size 1440x720 with 1 Axes>"
      ]
     },
     "metadata": {
      "needs_background": "light"
     },
     "output_type": "display_data"
    }
   ],
   "source": [
    "# Append words to list and plot in 2D using t-SNE (dimensionality reduction)\n",
    "matplotlib.rcParams.update({'font.size': 9})\n",
    "plt.figure(figsize=(20,10))\n",
    "\n",
    "plt.scatter(tsne_df[0], tsne_df[1], c=clustering.labels_[1900:2000])\n",
    "\n",
    "for i, txt in enumerate(words[1900:2000]):\n",
    "    plt.annotate(txt, (tsne_df[0][i], tsne_df[1][i]))\n",
    "\n",
    "plt.show()"
   ]
  },
  {
   "cell_type": "code",
   "execution_count": 255,
   "metadata": {},
   "outputs": [
    {
     "data": {
      "text/plain": [
       "array([1, 0])"
      ]
     },
     "execution_count": 255,
     "metadata": {},
     "output_type": "execute_result"
    }
   ],
   "source": [
    "pred_words = ['amazing', 'excellent']\n",
    "clustering.predict([w2v_model.wv[w] for w in pred_words])"
   ]
  },
  {
   "cell_type": "markdown",
   "metadata": {},
   "source": [
    "# Using FastText"
   ]
  },
  {
   "cell_type": "code",
   "execution_count": 22,
   "metadata": {},
   "outputs": [
    {
     "name": "stdout",
     "output_type": "stream",
     "text": [
      "beginning model load\n",
      "loaded model\n",
      "built vocab\n",
      "trained model\n"
     ]
    }
   ],
   "source": [
    "# fasttext_model = FastText(vector_size=50, window=3, min_count=150)\n",
    "fasttext_model = fasttext.load_facebook_model('D:\\\\Users\\\\brandon\\\\cc.en.300.bin') # Retrieved from fasttext.cc"
   ]
  },
  {
   "cell_type": "code",
   "execution_count": null,
   "metadata": {},
   "outputs": [],
   "source": [
    "fasttext_model.build_vocab(tokens, update=True, trim_rule=trim_rule)\n",
    "print(\"built vocab\")\n",
    "fasttext_model.train(tokens, total_examples=len(tokens), epochs=1)\n",
    "print(\"trained model\")"
   ]
  },
  {
   "cell_type": "code",
   "execution_count": 96,
   "metadata": {},
   "outputs": [
    {
     "data": {
      "text/plain": [
       "[('silverchair', 0.9624369144439697),\n",
       " ('monters', 0.9615705013275146),\n",
       " ('superball', 0.9602491855621338),\n",
       " ('squad-level', 0.9600738883018494),\n",
       " ('deadshot', 0.9596768617630005),\n",
       " ('near-guaranteed', 0.9593937993049622),\n",
       " ('monter', 0.9593442678451538),\n",
       " ('ninjapirate', 0.9593245387077332),\n",
       " ('squarebound', 0.9592991471290588),\n",
       " ('starechamp', 0.9592431783676147)]"
      ]
     },
     "execution_count": 96,
     "metadata": {},
     "output_type": "execute_result"
    }
   ],
   "source": [
    "fasttext_model.wv.most_similar('pog', topn=10)"
   ]
  },
  {
   "cell_type": "code",
   "execution_count": 114,
   "metadata": {},
   "outputs": [
    {
     "data": {
      "text/plain": [
       "0.90681434"
      ]
     },
     "execution_count": 114,
     "metadata": {},
     "output_type": "execute_result"
    }
   ],
   "source": [
    "fasttext_model.wv.n_similarity(['good'], ['pog'])"
   ]
  },
  {
   "cell_type": "code",
   "execution_count": 121,
   "metadata": {
    "scrolled": true
   },
   "outputs": [],
   "source": [
    "fasttext_model.save('D:\\\\Users\\\\brandon\\\\fasttext_model1')"
   ]
  },
  {
   "cell_type": "code",
   "execution_count": 159,
   "metadata": {},
   "outputs": [
    {
     "data": {
      "text/html": [
       "<div>\n",
       "<style scoped>\n",
       "    .dataframe tbody tr th:only-of-type {\n",
       "        vertical-align: middle;\n",
       "    }\n",
       "\n",
       "    .dataframe tbody tr th {\n",
       "        vertical-align: top;\n",
       "    }\n",
       "\n",
       "    .dataframe thead th {\n",
       "        text-align: right;\n",
       "    }\n",
       "</style>\n",
       "<table border=\"1\" class=\"dataframe\">\n",
       "  <thead>\n",
       "    <tr style=\"text-align: right;\">\n",
       "      <th></th>\n",
       "      <th>0</th>\n",
       "      <th>1</th>\n",
       "      <th>2</th>\n",
       "      <th>3</th>\n",
       "      <th>4</th>\n",
       "      <th>5</th>\n",
       "      <th>6</th>\n",
       "      <th>7</th>\n",
       "      <th>8</th>\n",
       "      <th>9</th>\n",
       "      <th>...</th>\n",
       "      <th>290</th>\n",
       "      <th>291</th>\n",
       "      <th>292</th>\n",
       "      <th>293</th>\n",
       "      <th>294</th>\n",
       "      <th>295</th>\n",
       "      <th>296</th>\n",
       "      <th>297</th>\n",
       "      <th>298</th>\n",
       "      <th>299</th>\n",
       "    </tr>\n",
       "  </thead>\n",
       "  <tbody>\n",
       "    <tr>\n",
       "      <th>pogchamp</th>\n",
       "      <td>-0.012531</td>\n",
       "      <td>-0.340513</td>\n",
       "      <td>-0.271611</td>\n",
       "      <td>1.708310</td>\n",
       "      <td>-0.909739</td>\n",
       "      <td>-0.071083</td>\n",
       "      <td>-0.108436</td>\n",
       "      <td>-0.384970</td>\n",
       "      <td>0.214648</td>\n",
       "      <td>0.207118</td>\n",
       "      <td>...</td>\n",
       "      <td>0.643299</td>\n",
       "      <td>0.099016</td>\n",
       "      <td>-2.489070</td>\n",
       "      <td>0.704363</td>\n",
       "      <td>0.089634</td>\n",
       "      <td>0.312270</td>\n",
       "      <td>0.124059</td>\n",
       "      <td>3.101338</td>\n",
       "      <td>-0.444200</td>\n",
       "      <td>-0.580571</td>\n",
       "    </tr>\n",
       "    <tr>\n",
       "      <th>holyyyyyy</th>\n",
       "      <td>0.041951</td>\n",
       "      <td>-0.132417</td>\n",
       "      <td>-0.153180</td>\n",
       "      <td>0.535585</td>\n",
       "      <td>-0.149086</td>\n",
       "      <td>-0.079805</td>\n",
       "      <td>-0.013145</td>\n",
       "      <td>-0.067531</td>\n",
       "      <td>0.072151</td>\n",
       "      <td>0.093055</td>\n",
       "      <td>...</td>\n",
       "      <td>0.150440</td>\n",
       "      <td>0.014183</td>\n",
       "      <td>-0.691591</td>\n",
       "      <td>0.220979</td>\n",
       "      <td>0.045688</td>\n",
       "      <td>0.118637</td>\n",
       "      <td>0.020868</td>\n",
       "      <td>0.838979</td>\n",
       "      <td>-0.111340</td>\n",
       "      <td>-0.241729</td>\n",
       "    </tr>\n",
       "    <tr>\n",
       "      <th>sbcs</th>\n",
       "      <td>-0.012705</td>\n",
       "      <td>-0.076102</td>\n",
       "      <td>-0.088065</td>\n",
       "      <td>0.315629</td>\n",
       "      <td>-0.058851</td>\n",
       "      <td>-0.052593</td>\n",
       "      <td>-0.051269</td>\n",
       "      <td>-0.100153</td>\n",
       "      <td>0.076568</td>\n",
       "      <td>0.055856</td>\n",
       "      <td>...</td>\n",
       "      <td>0.145700</td>\n",
       "      <td>-0.020502</td>\n",
       "      <td>-0.446819</td>\n",
       "      <td>0.164675</td>\n",
       "      <td>0.044131</td>\n",
       "      <td>0.016259</td>\n",
       "      <td>-0.083716</td>\n",
       "      <td>0.556516</td>\n",
       "      <td>0.009164</td>\n",
       "      <td>-0.154468</td>\n",
       "    </tr>\n",
       "  </tbody>\n",
       "</table>\n",
       "<p>3 rows × 300 columns</p>\n",
       "</div>"
      ],
      "text/plain": [
       "                0         1         2         3         4         5    \\\n",
       "pogchamp  -0.012531 -0.340513 -0.271611  1.708310 -0.909739 -0.071083   \n",
       "holyyyyyy  0.041951 -0.132417 -0.153180  0.535585 -0.149086 -0.079805   \n",
       "sbcs      -0.012705 -0.076102 -0.088065  0.315629 -0.058851 -0.052593   \n",
       "\n",
       "                6         7         8         9    ...       290       291  \\\n",
       "pogchamp  -0.108436 -0.384970  0.214648  0.207118  ...  0.643299  0.099016   \n",
       "holyyyyyy -0.013145 -0.067531  0.072151  0.093055  ...  0.150440  0.014183   \n",
       "sbcs      -0.051269 -0.100153  0.076568  0.055856  ...  0.145700 -0.020502   \n",
       "\n",
       "                292       293       294       295       296       297  \\\n",
       "pogchamp  -2.489070  0.704363  0.089634  0.312270  0.124059  3.101338   \n",
       "holyyyyyy -0.691591  0.220979  0.045688  0.118637  0.020868  0.838979   \n",
       "sbcs      -0.446819  0.164675  0.044131  0.016259 -0.083716  0.556516   \n",
       "\n",
       "                298       299  \n",
       "pogchamp  -0.444200 -0.580571  \n",
       "holyyyyyy -0.111340 -0.241729  \n",
       "sbcs       0.009164 -0.154468  \n",
       "\n",
       "[3 rows x 300 columns]"
      ]
     },
     "execution_count": 159,
     "metadata": {},
     "output_type": "execute_result"
    }
   ],
   "source": [
    "ft_words = list(fasttext_model.wv.index_to_key[-12027:])\n",
    "# Zip the words together with their vector representations\n",
    "ft_word_vec_zip = zip(words, fasttext_model.wv[words])\n",
    "# Cast to a dict so we can turn it into a DataFrame\n",
    "ft_word_vec_dict = dict(ft_word_vec_zip)\n",
    "ft_vector_df = pd.DataFrame.from_dict(ft_word_vec_dict, orient='index')\n",
    "ft_vector_df.head(3)"
   ]
  },
  {
   "cell_type": "code",
   "execution_count": 168,
   "metadata": {},
   "outputs": [],
   "source": [
    "ft_clustering = KMeans(n_clusters=3).fit(ft_vector_df)"
   ]
  },
  {
   "cell_type": "code",
   "execution_count": 169,
   "metadata": {},
   "outputs": [],
   "source": [
    "ft_tsne = TSNE(n_components=2, init='random', perplexity=50)\n",
    "ft_tsne_df = tsne.fit_transform(ft_vector_df[:100])\n",
    "ft_tsne_df = np.transpose(ft_tsne_df)"
   ]
  },
  {
   "cell_type": "code",
   "execution_count": 170,
   "metadata": {},
   "outputs": [
    {
     "data": {
      "image/png": "[encoded data removed]",
      "text/plain": [
       "<Figure size 1440x720 with 1 Axes>"
      ]
     },
     "metadata": {
      "needs_background": "light"
     },
     "output_type": "display_data"
    }
   ],
   "source": [
    "# Append words to list and plot in 2D using t-SNE (dimensionality reduction)\n",
    "matplotlib.rcParams.update({'font.size': 9})\n",
    "plt.figure(figsize=(20,10))\n",
    "\n",
    "plt.scatter(ft_tsne_df[0], ft_tsne_df[1], c=ft_clustering.labels_[:100])\n",
    "\n",
    "for i, txt in enumerate(ft_words[:100]):\n",
    "    plt.annotate(txt, (ft_tsne_df[0][i], ft_tsne_df[1][i]))\n",
    "\n",
    "plt.show()"
   ]
  },
  {
   "cell_type": "code",
   "execution_count": 189,
   "metadata": {},
   "outputs": [
    {
     "data": {
      "text/plain": [
       "array([2, 2])"
      ]
     },
     "execution_count": 189,
     "metadata": {},
     "output_type": "execute_result"
    }
   ],
   "source": [
    "pred_words = ['pog', 'trash']\n",
    "ft_clustering.predict([fasttext_model.wv[w] for w in pred_words])"
   ]
  },
  {
   "cell_type": "code",
   "execution_count": null,
   "metadata": {},
   "outputs": [],
   "source": []
  }
 ],
 "metadata": {
  "kernelspec": {
   "display_name": "Python 3",
   "language": "python",
   "name": "python3"
  },
  "language_info": {
   "codemirror_mode": {
    "name": "ipython",
    "version": 3
   },
   "file_extension": ".py",
   "mimetype": "text/x-python",
   "name": "python",
   "nbconvert_exporter": "python",
   "pygments_lexer": "ipython3",
   "version": "3.7.5"
  }
 },
 "nbformat": 4,
 "nbformat_minor": 2
}

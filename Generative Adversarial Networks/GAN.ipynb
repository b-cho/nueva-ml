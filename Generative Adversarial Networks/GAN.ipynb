{
  "nbformat": 4,
  "nbformat_minor": 0,
  "metadata": {
    "kernelspec": {
      "name": "python375jvsc74a57bd057baa5815c940fdaff4d14510622de9616cae602444507ba5d0b6727c008cbd6",
      "display_name": "Python 3.7.5 64-bit"
    },
    "language_info": {
      "codemirror_mode": {
        "name": "ipython",
        "version": 3
      },
      "file_extension": ".py",
      "mimetype": "text/x-python",
      "name": "python",
      "nbconvert_exporter": "python",
      "pygments_lexer": "ipython3",
      "version": "3.7.5"
    },
    "colab": {
      "name": "GAN.ipynb",
      "provenance": [],
      "collapsed_sections": []
    },
    "accelerator": "GPU",
    "metadata": {
      "interpreter": {
        "hash": "57baa5815c940fdaff4d14510622de9616cae602444507ba5d0b6727c008cbd6"
      }
    }
  },
  "cells": [
    {
      "cell_type": "markdown",
      "metadata": {
        "id": "OkR3lGmp10f5",
        "colab_type": "text"
      },
      "source": [
        "Original code from https://github.com/eriklindernoren/Keras-GAN/blob/master/dcgan/dcgan.py under the following license:\n",
        "\n",
        "MIT License\n",
        "\n",
        "Copyright (c) 2017 Erik Linder-Norén\n",
        "\n",
        "Permission is hereby granted, free of charge, to any person obtaining a copy\n",
        "of this software and associated documentation files (the \"Software\"), to deal\n",
        "in the Software without restriction, including without limitation the rights\n",
        "to use, copy, modify, merge, publish, distribute, sublicense, and/or sell\n",
        "copies of the Software, and to permit persons to whom the Software is\n",
        "furnished to do so, subject to the following conditions:\n",
        "\n",
        "The above copyright notice and this permission notice shall be included in all\n",
        "copies or substantial portions of the Software.\n",
        "\n",
        "THE SOFTWARE IS PROVIDED \"AS IS\", WITHOUT WARRANTY OF ANY KIND, EXPRESS OR\n",
        "IMPLIED, INCLUDING BUT NOT LIMITED TO THE WARRANTIES OF MERCHANTABILITY,\n",
        "FITNESS FOR A PARTICULAR PURPOSE AND NONINFRINGEMENT. IN NO EVENT SHALL THE\n",
        "AUTHORS OR COPYRIGHT HOLDERS BE LIABLE FOR ANY CLAIM, DAMAGES OR OTHER\n",
        "LIABILITY, WHETHER IN AN ACTION OF CONTRACT, TORT OR OTHERWISE, ARISING FROM,\n",
        "OUT OF OR IN CONNECTION WITH THE SOFTWARE OR THE USE OR OTHER DEALINGS IN THE\n",
        "SOFTWARE.\n",
        "\n",
        "The author's model was based on the paper here: https://arxiv.org/pdf/1511.06434.pdf\n",
        "\n",
        "# Instructions\n",
        "\n",
        "1. Go to https://colab.research.google.com and choose the \\\"Upload\\\" option to upload this notebook file.\n",
        "1. In the Edit menu, choose \\\"Notebook Settings\\\" and then set the \\\"Hardware Accelerator\\\" dropdown to GPU.\n",
        "1. Read through the code in the following sections:\n",
        "  * [Define functions for model creation and training](#scrollTo=v7awMKS210hl)\n",
        "  * [Create model objects](#scrollTo=suz991e610h-)\n",
        "  * [Train model](#scrollTo=_ig7giYA10i0)\n",
        "1. Complete at least one of these exercises\n",
        "  * [Exercise Option #1 - Standard Difficulty](#scrollTo=NfUM0c3_10j4)\n",
        "  * [Exercise Option #2 - Advanced Difficulty](#scrollTo=8DjAvBKR10j6)\n",
        "  * [Exercise Option #3 - Advanced Difficulty](#scrollTo=uoO-aBOrsHWh)"
      ]
    },
    {
      "cell_type": "code",
      "metadata": {
        "id": "X3Gb5m-W10gI",
        "colab_type": "code",
        "colab": {
          "base_uri": "https://localhost:8080/",
          "height": 34
        },
        "outputId": "601acf67-bffc-45c1-a0ef-e6c8eeaf178d"
      },
      "source": [
        "# upgrade tensorflow to tensorflow 2\n",
        "%tensorflow_version 2.x\n",
        "# display matplotlib plots\n",
        "%matplotlib inline"
      ],
      "execution_count": 68,
      "outputs": [
        {
          "output_type": "stream",
          "name": "stderr",
          "text": [
            "UsageError: Line magic function `%tensorflow_version` not found.\n"
          ]
        }
      ]
    },
    {
      "cell_type": "code",
      "metadata": {
        "id": "XRa7lBO810g1",
        "colab_type": "code",
        "colab": {}
      },
      "source": [
        "from tensorflow.keras.datasets import mnist\n",
        "from tensorflow.keras.layers import Input, Dense, Reshape, Flatten, Dropout\n",
        "from tensorflow.keras.layers import BatchNormalization, Activation, ZeroPadding2D\n",
        "from tensorflow.keras.layers import UpSampling2D, Conv2D, LeakyReLU\n",
        "from tensorflow.keras.models import Sequential, Model\n",
        "from tensorflow.keras.optimizers import Adam\n",
        "from tensorflow import test\n",
        "from tensorflow import device\n",
        "\n",
        "import matplotlib.pyplot as plt\n",
        "from IPython.display import Image\n",
        "\n",
        "import sys\n",
        "\n",
        "import numpy as np\n",
        "\n",
        "import random"
      ],
      "execution_count": 143,
      "outputs": []
    },
    {
      "cell_type": "code",
      "metadata": {
        "id": "-qf6LRTd10hM",
        "colab_type": "code",
        "colab": {}
      },
      "source": [
        "# Global Constants\n",
        "images_dir = \"dcgan_images\"\n",
        "img_rows = 28 \n",
        "img_cols = 28\n",
        "channels = 1\n",
        "noise_len = 100\n",
        "\n",
        "CLASSES = 2"
      ],
      "execution_count": 144,
      "outputs": []
    },
    {
      "cell_type": "markdown",
      "metadata": {
        "id": "v7awMKS210hl",
        "colab_type": "text"
      },
      "source": [
        "# Define functions for model creation and training"
      ]
    },
    {
      "cell_type": "code",
      "metadata": {
        "id": "-yWulxWk10hu",
        "colab_type": "code",
        "colab": {}
      },
      "source": [
        "def build_discriminator():\n",
        "    '''\n",
        "    Put together a CNN that will return a single confidence output.\n",
        "    \n",
        "    returns: the model object\n",
        "    '''\n",
        "\n",
        "    img_shape = (img_rows, img_cols, channels)\n",
        "\n",
        "    model = Sequential()\n",
        "\n",
        "    model.add(Conv2D(8, kernel_size=3, strides=2, input_shape=img_shape, padding=\"same\"))\n",
        "    model.add(LeakyReLU(alpha=0.2))\n",
        "    model.add(Dropout(0.25))\n",
        "    model.add(Conv2D(16, kernel_size=3, strides=2, padding=\"same\"))\n",
        "    model.add(ZeroPadding2D(padding=((0,1),(0,1))))\n",
        "    model.add(BatchNormalization(momentum=0.8))\n",
        "    model.add(LeakyReLU(alpha=0.2))\n",
        "    model.add(Dropout(0.25))\n",
        "    # model.add(Conv2D(128, kernel_size=3, strides=2, padding=\"same\"))\n",
        "    # model.add(BatchNormalization(momentum=0.8))\n",
        "    # model.add(LeakyReLU(alpha=0.2))\n",
        "    # model.add(Dropout(0.25))\n",
        "    # model.add(Conv2D(256, kernel_size=3, strides=1, padding=\"same\"))\n",
        "    # model.add(BatchNormalization(momentum=0.8))\n",
        "    # model.add(LeakyReLU(alpha=0.2))\n",
        "    # model.add(Dropout(0.25))\n",
        "\n",
        "    model.add(Flatten())\n",
        "    model.add(Dense(CLASSES + 1, activation='softmax'))\n",
        "\n",
        "    return model\n",
        "\n",
        "def build_generator():\n",
        "    '''\n",
        "    Put together a model that takes in one-dimensional noise and outputs two-dimensional\n",
        "    data representing a black and white image, with -1 for black and 1 for white.\n",
        "    \n",
        "    returns: the model object\n",
        "    '''\n",
        "\n",
        "    noise_shape = (noise_len + CLASSES,)\n",
        "\n",
        "    model = Sequential()\n",
        "\n",
        "    model.add(Dense(128 * 7 * 7, activation=\"relu\", input_shape=noise_shape))\n",
        "    model.add(Reshape((7, 7, 128)))\n",
        "    model.add(UpSampling2D(interpolation=\"bilinear\"))\n",
        "    model.add(Conv2D(128, kernel_size=3, padding=\"same\"))\n",
        "    model.add(Activation(\"tanh\"))\n",
        "    model.add(BatchNormalization(momentum=0.8)) \n",
        "    model.add(LeakyReLU(alpha=0.2))\n",
        "    model.add(UpSampling2D(interpolation=\"bilinear\"))\n",
        "    model.add(Conv2D(64, kernel_size=3, padding=\"same\"))\n",
        "    model.add(Activation(\"tanh\"))\n",
        "    model.add(BatchNormalization(momentum=0.8))\n",
        "    model.add(LeakyReLU(alpha=0.2))\n",
        "    model.add(Conv2D(1, kernel_size=3, padding=\"same\"))\n",
        "    model.add(Activation(\"tanh\"))\n",
        "\n",
        "    return model\n",
        "\n",
        "def build_combined():\n",
        "    '''\n",
        "    Puts together a model that combines the discriminator and generator models.\n",
        "    \n",
        "    returns: the generator, discriminator, and combined model objects\n",
        "    '''\n",
        "    \n",
        "    optimizer = Adam(0.0002, 0.5)\n",
        "\n",
        "    # Build and compile the discriminator\n",
        "    discriminator = build_discriminator()\n",
        "    discriminator.compile(loss='binary_crossentropy', \n",
        "                          optimizer=optimizer,\n",
        "                          metrics=['accuracy'])\n",
        "\n",
        "\n",
        "    # Build and compile the generator\n",
        "    generator = build_generator()\n",
        "\n",
        "    # The generator takes noise as input and generates images\n",
        "    noise = Input(shape=(noise_len + CLASSES,))\n",
        "    img = generator(noise)\n",
        "    \n",
        "    # For the combined model we will only train the generator\n",
        "    discriminator.trainable = False\n",
        "\n",
        "    # The discriminator takes generated images as input and determines validity\n",
        "    valid = discriminator(img)\n",
        "\n",
        "    # The combined model  (stacked generator and discriminator) takes\n",
        "    # noise as input => generates images => determines validity \n",
        "    combined = Model(inputs=noise, outputs=valid)\n",
        "    combined.compile(loss='binary_crossentropy', optimizer=optimizer)\n",
        "    return generator, discriminator, combined\n",
        "\n",
        "def save_imgs(generator, iteration):\n",
        "    '''\n",
        "    Has the generator create images and saves the images in a single file that includes\n",
        "    the number of iterations in the filename.\n",
        "    \n",
        "    inputs:\n",
        "        generator: the generator model object returned by build_combined\n",
        "        iteration: the iteration number (but can be anything that can be represented as a string)\n",
        "    \n",
        "    returns: None\n",
        "    '''\n",
        "    r, c = 5, 5\n",
        "    noise = np.random.normal(0, 1, (r * c, noise_len))\n",
        "    labels = [n % 2 for n in range(0, r * c)]\n",
        "    one_hots = np.eye(CLASSES)[labels]\n",
        "    combined_noise = np.array([np.concatenate([n, o]) for n, o in zip(noise, one_hots)])\n",
        "    gen_imgs = generator.predict(combined_noise)\n",
        "\n",
        "    fig, axs = plt.subplots(r, c)\n",
        "    cnt = 0\n",
        "    for i in range(r):\n",
        "        for j in range(c):\n",
        "            axs[i,j].imshow(gen_imgs[cnt, :,:,0], cmap='gray', vmin=-1, vmax=1)\n",
        "            axs[i,j].axis('off')\n",
        "            cnt += 1\n",
        "    fig.savefig(os.path.join(images_dir, 'mnist_{}.png'.format(iteration)))\n",
        "    plt.close()\n",
        "\n",
        "def train(generator, discriminator, combined, iterations, batch_size=128, save_interval=50):\n",
        "    '''\n",
        "    Trains all model objects\n",
        "    \n",
        "    generator: the generator model object returned by build_combined\n",
        "    discriminator: the discriminator model object returned by build_combined\n",
        "    combined: the combined model object returned by build_combined\n",
        "    iterations: integer, the number of iterations to train for\n",
        "    batch_size: integer, the number of training samples to use at a time\n",
        "    save_interval: integer, will generate and save images when the current iteration_num % save_interval is 0\n",
        "    \n",
        "    returns: None\n",
        "    '''\n",
        "\n",
        "    # Load the dataset\n",
        "    train_data, test_data = mnist.load_data()\n",
        "    selected_train_data = [t for t in zip(*train_data) if t[1] < CLASSES]\n",
        "    X_train, Y_train = zip(*selected_train_data)\n",
        "    X_train, Y_train = np.array(X_train), np.array(Y_train)\n",
        "\n",
        "    # Rescale -1 to 1\n",
        "    X_train = (X_train.astype(np.float32) - 127.5) / 127.5\n",
        "    X_train = np.expand_dims(X_train, axis=3)\n",
        "\n",
        "    half_batch = int(batch_size / 2)\n",
        "\n",
        "    for iteration in range(iterations):\n",
        "\n",
        "        # ---------------------\n",
        "        #  Train Discriminator\n",
        "        # ---------------------\n",
        "\n",
        "        # Select a random half batch of images\n",
        "        idx = np.random.randint(0, X_train.shape[0], half_batch)\n",
        "        imgs = X_train[idx]\n",
        "        labels = np.eye(CLASSES + 1)[Y_train[idx].reshape(-1)]\n",
        "\n",
        "        # Sample noise and generate a half batch of new images\n",
        "        gen_ids = [random.randint(0, 1) for i in range(half_batch)]\n",
        "        gen_labels = np.eye(2)[gen_ids]\n",
        "        noise = np.random.normal(0, 1, (half_batch, noise_len))\n",
        "        combined_noise = np.array([np.concatenate([x, y]) for x, y in zip(noise, gen_labels)])\n",
        "        gen_imgs = generator.predict(combined_noise)\n",
        "\n",
        "        # Train the discriminator (real images classified as ones and generated images as zeros)\n",
        "        # # Use noisy labels: about 10% of the time, swap the labels\n",
        "        # # (see https://github.com/soumith/ganhacks)\n",
        "        # if np.random.randint(0, 10) < 1:\n",
        "        #   real = 0\n",
        "        #   fake = 1\n",
        "        d_loss_real = discriminator.train_on_batch(imgs, labels)\n",
        "        d_loss_fake = discriminator.train_on_batch(gen_imgs, np.eye(CLASSES + 1)[np.repeat(CLASSES, half_batch)])\n",
        "\n",
        "        # ---------------------\n",
        "        #  Train Generator\n",
        "        # ---------------------\n",
        "\n",
        "        gen_ids = [random.randint(0, 1) for i in range(batch_size)]\n",
        "        gen_labels = np.eye(2)[gen_ids]\n",
        "        noise = np.random.normal(0, 1, (batch_size, noise_len))\n",
        "\n",
        "        # Train the generator (wants discriminator to mistake images as real)\n",
        "        # Generate trained labels randomly\n",
        "        g_labels = np.eye(CLASSES + 1)[gen_ids]\n",
        "        # g_labels = np.tile([0.5, 0.5, 0], (batch_size, 1))\n",
        "        g_loss = combined.train_on_batch(np.array([np.concatenate([x, y]) for x, y in zip(noise, gen_labels)]), g_labels)\n",
        "\n",
        "        # If at save interval => save generated image samples and plot progress\n",
        "        if iteration % save_interval == 0:\n",
        "            # Plot the progress\n",
        "            d_loss = 0.5 * np.add(d_loss_real, d_loss_fake)\n",
        "            print (\"{} [D loss: {}, acc.: {:.2%}] [G loss: {}]\".format(iteration, d_loss[0], d_loss[1], g_loss))\n",
        "            save_imgs(generator, iteration)\n",
        "            \n",
        "def show_new_image(generator, number):\n",
        "    '''\n",
        "    Generates and displays a new image\n",
        "    \n",
        "    inputs: generator object model returned from build_combined\n",
        "    \n",
        "    returns: generated image\n",
        "    '''\n",
        "    \n",
        "    noise = np.random.normal(0, 1, (noise_len, ))\n",
        "    label = np.zeros(CLASSES)\n",
        "    label[number] = 1\n",
        "\n",
        "    combined_noise = np.concatenate([noise, label])\n",
        "\n",
        "    gen_img = generator.predict([combined_noise])[0][:,:,0]\n",
        "    \n",
        "    return plt.imshow(gen_img, cmap='gray', vmin=-1, vmax=1)"
      ],
      "execution_count": 242,
      "outputs": []
    },
    {
      "cell_type": "markdown",
      "metadata": {
        "id": "suz991e610h-",
        "colab_type": "text"
      },
      "source": [
        "# Create model objects"
      ]
    },
    {
      "cell_type": "code",
      "metadata": {
        "id": "dOIvTgzk10iB",
        "colab_type": "code",
        "colab": {}
      },
      "source": [
        "# set up directories to hold the images that are saved during training checkpoints.\n",
        "import os\n",
        "\n",
        "if (not os.path.isdir(images_dir)):\n",
        "    os.mkdir(images_dir)"
      ],
      "execution_count": 230,
      "outputs": []
    },
    {
      "cell_type": "code",
      "metadata": {
        "id": "GH2DElzk10iL",
        "colab_type": "code",
        "colab": {}
      },
      "source": [
        "generator, discriminator, combined = build_combined()"
      ],
      "execution_count": 231,
      "outputs": []
    },
    {
      "cell_type": "markdown",
      "metadata": {
        "id": "IC_YSE7n10iR",
        "colab_type": "text"
      },
      "source": [
        "We can take a look at what each of the models look like."
      ]
    },
    {
      "cell_type": "code",
      "metadata": {
        "id": "AMI1SESd10iW",
        "colab_type": "code",
        "colab": {
          "base_uri": "https://localhost:8080/",
          "height": 573
        },
        "outputId": "f5a73066-be27-4fa1-9adf-ee73e9ce006f"
      },
      "source": [
        "generator.summary()"
      ],
      "execution_count": 232,
      "outputs": [
        {
          "output_type": "stream",
          "name": "stdout",
          "text": [
            "Model: \"sequential_63\"\n_________________________________________________________________\nLayer (type)                 Output Shape              Param #   \n=================================================================\ndense_63 (Dense)             (None, 6272)              646016    \n_________________________________________________________________\nreshape_31 (Reshape)         (None, 7, 7, 128)         0         \n_________________________________________________________________\nup_sampling2d_62 (UpSampling (None, 14, 14, 128)       0         \n_________________________________________________________________\nconv2d_180 (Conv2D)          (None, 14, 14, 128)       147584    \n_________________________________________________________________\nactivation_63 (Activation)   (None, 14, 14, 128)       0         \n_________________________________________________________________\nbatch_normalization_117 (Bat (None, 14, 14, 128)       512       \n_________________________________________________________________\nleaky_re_lu_149 (LeakyReLU)  (None, 14, 14, 128)       0         \n_________________________________________________________________\nup_sampling2d_63 (UpSampling (None, 28, 28, 128)       0         \n_________________________________________________________________\nconv2d_181 (Conv2D)          (None, 28, 28, 64)        73792     \n_________________________________________________________________\nactivation_64 (Activation)   (None, 28, 28, 64)        0         \n_________________________________________________________________\nbatch_normalization_118 (Bat (None, 28, 28, 64)        256       \n_________________________________________________________________\nleaky_re_lu_150 (LeakyReLU)  (None, 28, 28, 64)        0         \n_________________________________________________________________\nconv2d_182 (Conv2D)          (None, 28, 28, 1)         577       \n_________________________________________________________________\nactivation_65 (Activation)   (None, 28, 28, 1)         0         \n=================================================================\nTotal params: 868,737\nTrainable params: 868,353\nNon-trainable params: 384\n_________________________________________________________________\n"
          ]
        }
      ]
    },
    {
      "cell_type": "code",
      "metadata": {
        "id": "vTIoq8Tr10ii",
        "colab_type": "code",
        "colab": {
          "base_uri": "https://localhost:8080/",
          "height": 819
        },
        "outputId": "376ed683-1e7a-4efc-cea4-7799c131c2b2"
      },
      "source": [
        "# Note that we get a warning here about weights being trainable.\n",
        "# When we are training the discriminator, we want its weights to be trainable.\n",
        "# When we are training the generator, we want the discriminator weights to be fixed.\n",
        "# This is surprising to Keras, so it is warning us to check that this is really what we want (it is!)\n",
        "discriminator.summary()"
      ],
      "execution_count": 233,
      "outputs": [
        {
          "output_type": "stream",
          "name": "stdout",
          "text": [
            "Model: \"sequential_62\"\n_________________________________________________________________\nLayer (type)                 Output Shape              Param #   \n=================================================================\nconv2d_178 (Conv2D)          (None, 14, 14, 8)         80        \n_________________________________________________________________\nleaky_re_lu_147 (LeakyReLU)  (None, 14, 14, 8)         0         \n_________________________________________________________________\ndropout_85 (Dropout)         (None, 14, 14, 8)         0         \n_________________________________________________________________\nconv2d_179 (Conv2D)          (None, 7, 7, 16)          1168      \n_________________________________________________________________\nzero_padding2d_30 (ZeroPaddi (None, 8, 8, 16)          0         \n_________________________________________________________________\nbatch_normalization_116 (Bat (None, 8, 8, 16)          64        \n_________________________________________________________________\nleaky_re_lu_148 (LeakyReLU)  (None, 8, 8, 16)          0         \n_________________________________________________________________\ndropout_86 (Dropout)         (None, 8, 8, 16)          0         \n_________________________________________________________________\nflatten_31 (Flatten)         (None, 1024)              0         \n_________________________________________________________________\ndense_62 (Dense)             (None, 3)                 3075      \n=================================================================\nTotal params: 4,387\nTrainable params: 0\nNon-trainable params: 4,387\n_________________________________________________________________\n"
          ]
        }
      ]
    },
    {
      "cell_type": "code",
      "metadata": {
        "id": "sszWLl-s10iq",
        "colab_type": "code",
        "colab": {
          "base_uri": "https://localhost:8080/",
          "height": 260
        },
        "outputId": "ab69e76f-6749-459e-8343-0578e9351faa"
      },
      "source": [
        "combined.summary()"
      ],
      "execution_count": 234,
      "outputs": [
        {
          "output_type": "stream",
          "name": "stdout",
          "text": [
            "Model: \"model_27\"\n_________________________________________________________________\nLayer (type)                 Output Shape              Param #   \n=================================================================\ninput_32 (InputLayer)        [(None, 102)]             0         \n_________________________________________________________________\nsequential_63 (Sequential)   (None, 28, 28, 1)         868737    \n_________________________________________________________________\nsequential_62 (Sequential)   (None, 3)                 4387      \n=================================================================\nTotal params: 873,124\nTrainable params: 868,353\nNon-trainable params: 4,771\n_________________________________________________________________\n"
          ]
        }
      ]
    },
    {
      "cell_type": "markdown",
      "metadata": {
        "id": "_ig7giYA10i0",
        "colab_type": "text"
      },
      "source": [
        "# Train model"
      ]
    },
    {
      "cell_type": "code",
      "metadata": {
        "id": "gd5cvE0D10i3",
        "colab_type": "code",
        "colab": {
          "base_uri": "https://localhost:8080/",
          "height": 764
        },
        "outputId": "ba2dcfa0-171e-4be6-f8a5-8370c48b39a6"
      },
      "source": [
        "# Train using GPU acceleration\n",
        "# (see https://colab.research.google.com/notebooks/gpu.ipynb#scrollTo=Y04m-jvKRDsJ)\n",
        "device_name = test.gpu_device_name()\n",
        "if device_name != '/device:GPU:0':\n",
        "  print(\n",
        "      '\\n\\nThis error most likely means that this notebook is not '\n",
        "      'configured to use a GPU.  Change this in Notebook Settings via the '\n",
        "      'command palette (cmd/ctrl-shift-P) or the Edit menu.\\n\\n')\n",
        "  raise SystemError('GPU device not found')\n",
        "\n",
        "# Lower the number of iterations when you start debugging! You want a short testing cycle until you are confident\n",
        "# that the code is working. Also, since the exercises involve models with less complicated patterns, you will\n",
        "# likely not need as many iterations to train well.\n",
        "with device('/device:GPU:0'):\n",
        "  train(generator, discriminator, combined, iterations=2001, batch_size=32, save_interval=50)"
      ],
      "execution_count": 235,
      "outputs": [
        {
          "output_type": "stream",
          "name": "stdout",
          "text": [
            "0 [D loss: 0.7786340713500977, acc.: 34.38%] [G loss: 0.6862999796867371]\n",
            "50 [D loss: 0.4941847622394562, acc.: 62.50%] [G loss: 0.5351579189300537]\n",
            "100 [D loss: 0.4880288392305374, acc.: 65.62%] [G loss: 0.5259191989898682]\n",
            "150 [D loss: 0.5998433530330658, acc.: 46.88%] [G loss: 0.501882791519165]\n",
            "200 [D loss: 0.5884627997875214, acc.: 40.62%] [G loss: 0.5146375298500061]\n",
            "250 [D loss: 0.47510042786598206, acc.: 56.25%] [G loss: 0.5273312926292419]\n",
            "300 [D loss: 0.5908147096633911, acc.: 28.12%] [G loss: 0.5095458030700684]\n",
            "350 [D loss: 0.5106184482574463, acc.: 43.75%] [G loss: 0.5432719588279724]\n",
            "400 [D loss: 0.5143083930015564, acc.: 43.75%] [G loss: 0.5349742770195007]\n",
            "450 [D loss: 0.44955916702747345, acc.: 68.75%] [G loss: 0.49615681171417236]\n",
            "500 [D loss: 0.49166232347488403, acc.: 56.25%] [G loss: 0.5406143665313721]\n",
            "550 [D loss: 0.4701519012451172, acc.: 65.62%] [G loss: 0.5107088088989258]\n",
            "600 [D loss: 0.4378834664821625, acc.: 65.62%] [G loss: 0.5483148097991943]\n",
            "650 [D loss: 0.4879155158996582, acc.: 46.88%] [G loss: 0.5272642374038696]\n",
            "700 [D loss: 0.48728564381599426, acc.: 50.00%] [G loss: 0.49459028244018555]\n",
            "750 [D loss: 0.48197734355926514, acc.: 59.38%] [G loss: 0.5518391132354736]\n",
            "800 [D loss: 0.4594264030456543, acc.: 62.50%] [G loss: 0.4985640347003937]\n",
            "850 [D loss: 0.615375280380249, acc.: 34.38%] [G loss: 0.513018012046814]\n",
            "900 [D loss: 0.5010062754154205, acc.: 53.12%] [G loss: 0.47699084877967834]\n",
            "950 [D loss: 0.5391482710838318, acc.: 34.38%] [G loss: 0.4881824851036072]\n",
            "1000 [D loss: 0.4799978584051132, acc.: 53.12%] [G loss: 0.5185941457748413]\n",
            "1050 [D loss: 0.6029765903949738, acc.: 21.88%] [G loss: 0.4344167113304138]\n",
            "1100 [D loss: 0.40531495213508606, acc.: 81.25%] [G loss: 0.4728204011917114]\n",
            "1150 [D loss: 0.4207146465778351, acc.: 68.75%] [G loss: 0.5018952488899231]\n",
            "1200 [D loss: 0.36698414385318756, acc.: 84.38%] [G loss: 0.47911369800567627]\n",
            "1250 [D loss: 0.4553864151239395, acc.: 59.38%] [G loss: 0.5330211520195007]\n",
            "1300 [D loss: 0.5336502343416214, acc.: 25.00%] [G loss: 0.4907785952091217]\n",
            "1350 [D loss: 0.6225609332323074, acc.: 37.50%] [G loss: 0.5517158508300781]\n",
            "1400 [D loss: 0.49119555950164795, acc.: 53.12%] [G loss: 0.5122452974319458]\n",
            "1450 [D loss: 0.5071636438369751, acc.: 46.88%] [G loss: 0.5064693689346313]\n",
            "1500 [D loss: 0.37165340781211853, acc.: 75.00%] [G loss: 0.5907488465309143]\n",
            "1550 [D loss: 0.40501971542835236, acc.: 71.88%] [G loss: 0.5085132718086243]\n",
            "1600 [D loss: 0.4166856110095978, acc.: 71.88%] [G loss: 0.5407871007919312]\n",
            "1650 [D loss: 0.49120737612247467, acc.: 50.00%] [G loss: 0.4038887619972229]\n",
            "1700 [D loss: 0.43900683522224426, acc.: 68.75%] [G loss: 0.49451807141304016]\n",
            "1750 [D loss: 0.38072502613067627, acc.: 87.50%] [G loss: 0.4804265797138214]\n",
            "1800 [D loss: 0.5172985792160034, acc.: 46.88%] [G loss: 0.5327874422073364]\n",
            "1850 [D loss: 0.5089611709117889, acc.: 46.88%] [G loss: 0.5414496660232544]\n",
            "1900 [D loss: 0.36065003275871277, acc.: 96.88%] [G loss: 0.45681852102279663]\n",
            "1950 [D loss: 0.3421885818243027, acc.: 84.38%] [G loss: 0.519712507724762]\n",
            "2000 [D loss: 0.24553420394659042, acc.: 93.75%] [G loss: 0.5279197692871094]\n"
          ]
        }
      ]
    },
    {
      "cell_type": "markdown",
      "metadata": {
        "id": "bx37Xn_D10i-",
        "colab_type": "text"
      },
      "source": [
        "You can look at the saved files to see what the model output looks like after a certain number of iterations:"
      ]
    },
    {
      "cell_type": "code",
      "metadata": {
        "id": "Gbi2Ypii10jB",
        "colab_type": "code",
        "colab": {
          "base_uri": "https://localhost:8080/",
          "height": 305
        },
        "outputId": "4a05f535-5290-4eba-975b-c6f5a46a422f"
      },
      "source": [
        "Image(filename=os.path.join(images_dir, 'mnist_0.png'))"
      ],
      "execution_count": null,
      "outputs": []
    },
    {
      "cell_type": "code",
      "metadata": {
        "id": "Ax2Xw2Ii10jJ",
        "colab_type": "code",
        "colab": {
          "base_uri": "https://localhost:8080/",
          "height": 305
        },
        "outputId": "95b27da2-42bd-42ae-ae10-ae1d0e9807b9"
      },
      "source": [
        "Image(filename=os.path.join(images_dir, 'mnist_500.png'))"
      ],
      "execution_count": null,
      "outputs": []
    },
    {
      "cell_type": "code",
      "execution_count": null,
      "metadata": {},
      "outputs": [],
      "source": [
        "Image(filename=os.path.join(images_dir, 'mnist_1200.png'))"
      ]
    },
    {
      "cell_type": "code",
      "metadata": {
        "id": "42B8ovyc10jR",
        "colab_type": "code",
        "colab": {
          "base_uri": "https://localhost:8080/",
          "height": 305
        },
        "outputId": "158c6847-3fc2-4d15-9771-e277db3c09f8"
      },
      "source": [
        "Image(filename=os.path.join(images_dir, 'mnist_2000.png'))"
      ],
      "execution_count": null,
      "outputs": []
    },
    {
      "cell_type": "markdown",
      "metadata": {
        "id": "uEXczEQE10jZ",
        "colab_type": "text"
      },
      "source": [
        "Let's have the trained model generate some images for us."
      ]
    },
    {
      "cell_type": "code",
      "metadata": {
        "id": "4DufmdPx10jh",
        "colab_type": "code",
        "colab": {
          "base_uri": "https://localhost:8080/",
          "height": 282
        },
        "outputId": "aec2391a-3705-4724-b3f2-74f6e8708bb2"
      },
      "source": [
        "show_new_image(generator)"
      ],
      "execution_count": 16,
      "outputs": [
        {
          "output_type": "execute_result",
          "data": {
            "text/plain": [
              "<matplotlib.image.AxesImage at 0x23712525fc8>"
            ]
          },
          "metadata": {},
          "execution_count": 16
        },
        {
          "output_type": "display_data",
          "data": {
            "text/plain": "<Figure size 432x288 with 1 Axes>",
            "image/svg+xml": "<?xml version=\"1.0\" encoding=\"utf-8\" standalone=\"no\"?>\r\n<!DOCTYPE svg PUBLIC \"-//W3C//DTD SVG 1.1//EN\"\r\n  \"http://www.w3.org/Graphics/SVG/1.1/DTD/svg11.dtd\">\r\n<!-- Created with matplotlib (https://matplotlib.org/) -->\r\n<svg height=\"248.518125pt\" version=\"1.1\" viewBox=\"0 0 251.565 248.518125\" width=\"251.565pt\" xmlns=\"http://www.w3.org/2000/svg\" xmlns:xlink=\"http://www.w3.org/1999/xlink\">\r\n <metadata>\r\n  <rdf:RDF xmlns:cc=\"http://creativecommons.org/ns#\" xmlns:dc=\"http://purl.org/dc/elements/1.1/\" xmlns:rdf=\"http://www.w3.org/1999/02/22-rdf-syntax-ns#\">\r\n   <cc:Work>\r\n    <dc:type rdf:resource=\"http://purl.org/dc/dcmitype/StillImage\"/>\r\n    <dc:date>2021-05-12T13:01:33.542718</dc:date>\r\n    <dc:format>image/svg+xml</dc:format>\r\n    <dc:creator>\r\n     <cc:Agent>\r\n      <dc:title>Matplotlib v3.3.4, https://matplotlib.org/</dc:title>\r\n     </cc:Agent>\r\n    </dc:creator>\r\n   </cc:Work>\r\n  </rdf:RDF>\r\n </metadata>\r\n <defs>\r\n  <style type=\"text/css\">*{stroke-linecap:butt;stroke-linejoin:round;}</style>\r\n </defs>\r\n <g id=\"figure_1\">\r\n  <g id=\"patch_1\">\r\n   <path d=\"M 0 248.518125 \r\nL 251.565 248.518125 \r\nL 251.565 0 \r\nL 0 0 \r\nz\r\n\" style=\"fill:none;\"/>\r\n  </g>\r\n  <g id=\"axes_1\">\r\n   <g id=\"patch_2\">\r\n    <path d=\"M 26.925 224.64 \r\nL 244.365 224.64 \r\nL 244.365 7.2 \r\nL 26.925 7.2 \r\nz\r\n\" style=\"fill:#ffffff;\"/>\r\n   </g>\r\n   <g clip-path=\"url(#p0dd0659701)\">\r\n    <image height=\"218\" id=\"image29eaa00179\" transform=\"scale(1 -1)translate(0 -218)\" width=\"218\" x=\"26.925\" xlink:href=\"data:image/png;base64,\r\niVBORw0KGgoAAAANSUhEUgAAANoAAADaCAYAAADAHVzbAAAMOUlEQVR4nO3d32vWZRzG8Xv53dxPZ87ldFYyI003tkSohBAqIQ/SDvQkCATpJDrooH9AojM980gUBOssilA6icJDLUJb+QvbmqWuptbc3E+1+gvu65LdPh8L3q/T67mf59mzXfvC8+G+v3Vbtmz5JwnT09MqTlevXs1mMzMzcu29e/dk7tTV1WWzf/6RP1Zx7pS8t7///lvmbr167VKln4vi3ndpXvK5t7e3y7UTExMyf0ymAB4KigYEoGhAAIoGBKBoQACKBgSgaECAurt378rhgptNfPnll9ns+PHjcq2awaWU0qJFi2Te09OTze7evSvXDg0NyXxsbEzms7OzMlczQjc/vH37dtFru9/ZY4/l/7+6WZN77259VVXZrLW1Va596qmnZL527VqZu+e/ceOGzJWvvvpK5lzRgAAUDQhA0YAAFA0IQNGAABQNCEDRgAB1x48fl4OPkydPyic4dOhQNpufn5dr3b4rZ/HixdnMzXPcnK2We8LULOlhcM+v5mju575//77M3ZxNfS719fVybVtbm8zd78TNJ9Xfa0NDg1zrcEUDAlA0IABFAwJQNCAARQMCUDQgQF1vb6/8TvTatWvyCdRXprU8miylsmPVSo+bK3nt0q/33Xtz24vU67vndl/vl4xs3OfS2Ngo87m5OZm74w/Vz+7em/vMuaIBASgaEICiAQEoGhCAogEBKBoQgKIBAarR0VH5ADe7mJyczGals6rSrSq15OZoS5YsyWbvvfeeXLtq1SqZHz58WOa//fabzNVWFjcnU1tsUirbZlNyTF5KDzDLKnjvpT83VzQgAEUDAlA0IABFAwJQNCAARQMCUDQggN0Y1dnZKfM///wzm7mZjJublM7hasnNbF5//fVs9v7778u16hi9lFLq7u6WuZuzXbhwIZupuWhK/jg59zt3x/wpbr9Z6d9byR5DO39c8DMDeGAUDQhA0YAAFA0IQNGAABQNCEDRgABVc3OzfEBra6t+AnHend2jY/b4lJ4xWEtunvTTTz9lsytXrsi1TzzxhMzPnz8v846ODpn39vZms19++UWuHR8fl/mdO3dkrm6N5H6fj3L/YunMlisaEICiAQEoGhCAogEBKBoQgKIBASgaEKDq6emRD+jr65O5un/arVu35NrS/WhqblLrvWru+S9fvpzN9u3bJ9du27ZN5mfOnJH5ihUrZL5u3bps1tLSItdevHhR5m7P2PT0dDar9Tmebg9hyf3RONcR+A+gaEAAigYEoGhAAIoGBKBoQIBq/fr18gHt7e0LfnL3lWcptc3mUd/ySW35OHXqlFzr3rs7sq2rq0vmGzduzGbueMH6+nqZu+PqXK48yq/33c+ttv+kxBUNCEHRgAAUDQhA0YAAFA0IQNGAABQNCFC5LRXueDE1Fyk9PqxkblJyC54HeW33/Gpm47aSjIyMyHzp0qUyn5iYkPmqVauy2erVq+VadZuulFIaHByUuZp9lh4/WJqr129oaJBrp6am9HPLFMBDQdGAABQNCEDRgAAUDQhA0YAAFA0IULm5yOzsrMzVTKjWc7RaztlK5mQp6X18ixcvlmu7u7tlrm67lFJKAwMDMn/yySezmTtO7sSJEzJ3t6RS+7ZK9xCW7ldTr1/6t8wVDQhA0YAAFA0IQNGAABQNCEDRgAAUDQhQubmH2/uk5ge1npOVzE3c3ifH3cZn+fLl2ay1tVWudWcr7ty5U+Zr166VeVtbWzY7d+6cXPvDDz/I3O21U7+z0tmm49arWZk7t5E5GvAfQNGAABQNCEDRgAAUDQhA0YAA1eXLl+UD3G2dSm7N9Ci/vndbVdytkdzP3dTUlM2am5vl2tHRUZn//PPPMn/uuedkrm5B5P4eZmZmZO7GHu72R4r7e7h3757M3e98enp6wa/tcEUDAlA0IABFAwJQNCAARQMCUDQgAEUDAtjj5kqP2aolte2hpaVFrt27d6/Mjx49KnN3mx51HN3zzz8v13733Xcy/+yzz2S+YcMGmW/evDmbbdy4Ua51x+y5OZnKS7axPAj3/Go2yhwN+B+gaEAAigYEoGhAAIoGBKBoQACKBgSo3GzCzaPUXMTt2SrZy+Y8/fTTMv/www9l7vajHTp0SOYjIyPZbPfu3XJtX1+fzD/55BOZ79ixQ+anT5/OZi+88IJcu2nTJpmPj4/L3B1Hp7i9cG7W1djYKPPJyclsVno8IVc0IABFAwJQNCAARQMCUDQgAEUDAlA0IEDlzrpTt/hJSZ9f6M7Zc3O0kr1ws7Ozcq2bqXzwwQcyd/vVbt++nc2+/vprufatt96S+aeffirzmzdvynzXrl3Z7KOPPpJrDxw4IPOTJ0/K/PPPP89m7nfm/p7ceZnqbzWllG7dupXN3DzZvXeuaEAAigYEoGhAAIoGBKBoQACKBgSgaECAqqurSz6gvb19wbm631RKfk5Wco7f8PCwzAcHB2W+cuVKma9Zs0bm6j5j33//vVz7yiuvyNy9N3dW548//pjNjh07Jtfu379f5m+88YbML126lM3ceZZuj6A7t3F+fl7maq7LfjTgf4CiAQEoGhCAogEBKBoQgKIBASr3VbHbTqK4bTC1vOWTe+3XXntN5u+++67M3e2Nrl+/ns3cz/3NN9/I3G2Dcc+vtpucOnVKrnVfka9YsULm6ri68+fPy7VubOG+3n+UtxjjigYEoGhAAIoGBKBoQACKBgSgaEAAigYEqBoaGuQD3BFf6lg1t9bNNWo5F5mYmJD5xx9/LHN3e6M333wzm7lbSq1bt07mBw8elPnU1JTM1RGDmzdvlmvdtin3O7tx40Y2Gx0dlWvd76yqKpm7rS5q9uo+Uze35YoGBKBoQACKBgSgaEAAigYEoGhAAIoGBKjUrWpS8kfGzc3NLfjFS4/wUrOL0hndH3/8IXO3b2vPnj3Z7NVXX5Vr3ZxNzaJSSumZZ56R+csvv5zNtm7dKte62xf99ddfMj9x4kQ2Gxsbk2vdcXOLFi2SeX19vcxLbgPmcEUDAlA0IABFAwJQNCAARQMCUDQgAEUDAtQ9++yzcuDU2dkpn+D06dPZzM2y3NzDUXM0NydramqSuZsPup9t6dKlC17r9l25sxXdz75jx45sduTIEbn28ccfl/m1a9dk3t/fn83U3saU/J4vNydzZ5ROTk5mM7fXze295IoGBKBoQACKBgSgaEAAigYEoGhAAIoGBKjcPpsLFy7I3M0PFLcfTZ0/mFJKzc3NNXttN0e7f/++zNVMyO2rcvMix83pvvjii2z2zjvvyLXbt2+Xecmer9L7l7n1pZ9rCa5oQACKBgSgaEAAigYEoGhAAIoGBKjc1gG3daGE+zq2ra1N5j09Pdns999/l2tdXstbTrlbZZUebeao96620KSU0rfffivz4eFhmauv/0tvIea2XbmRjNteVIIrGhCAogEBKBoQgKIBASgaEICiAQEoGhCg6urqkg9wt+Ep4WZR7ki4gYGBbHb27Fm59vr16zIv3bKhtuEsW7ZMrnW30pqZmVnQe3oQbtbktsm4vyc1K3Nr3XzRHQnntiepz91t/3FbcLiiAQEoGhCAogEBKBoQgKIBASgaEICiAQGqjo4O+QB3LJvaw+NmUS4vmRe5vWzuKDu398nNTdTn4vYA9vX1yfzSpUsyd7d9Up+725M1Pj4uczerUvMo97ksWbJE5m6O5mZh6u/NzXQdrmhAAIoGBKBoQACKBgSgaEAAigYEoGhAgGrNmjXyAYODgzK/efNmNnOzJncOn5t7qLlLf3+/XFt67uPU1JTMW1tbs5mbXW7atEnmb7/9tszv3Lkjc3X2ortNl5t1OWqG52a2bkbn3tvq1atl7vbiKe69cUUDAlA0IABFAwJQNCAARQMCUDQgQDU0NCQf0N3dLfNff/01m5Xc2iillObn52U+NjaWzTZs2CDXvvTSSzI/c+aMzEdGRmSuviq+evWqXKtGJimldPHiRZm/+OKLMl+/fn02cyMX99puLDI5OZnN3DYXt7VJjVRS8n9vapuM27Llxj1c0YAAFA0IQNGAABQNCEDRgAAUDQhA0YAAdY2NjXLYNTc3V7sXN3MNN9NRc5OWlha51s3opqenZe7mKm6LkFI6fyx9/v8qt43GbatauXLlgl/b/T7dbJQrGhCAogEBKBoQgKIBASgaEICiAQEoGhDgX0uykDkHxJFFAAAAAElFTkSuQmCC\" y=\"-6.64\"/>\r\n   </g>\r\n   <g id=\"matplotlib.axis_1\">\r\n    <g id=\"xtick_1\">\r\n     <g id=\"line2d_1\">\r\n      <defs>\r\n       <path d=\"M 0 0 \r\nL 0 3.5 \r\n\" id=\"m7c4e737cef\" style=\"stroke:#000000;stroke-width:0.8;\"/>\r\n      </defs>\r\n      <g>\r\n       <use style=\"stroke:#000000;stroke-width:0.8;\" x=\"30.807857\" xlink:href=\"#m7c4e737cef\" y=\"224.64\"/>\r\n      </g>\r\n     </g>\r\n     <g id=\"text_1\">\r\n      <!-- 0 -->\r\n      <g transform=\"translate(27.626607 239.238437)scale(0.1 -0.1)\">\r\n       <defs>\r\n        <path d=\"M 31.78125 66.40625 \r\nQ 24.171875 66.40625 20.328125 58.90625 \r\nQ 16.5 51.421875 16.5 36.375 \r\nQ 16.5 21.390625 20.328125 13.890625 \r\nQ 24.171875 6.390625 31.78125 6.390625 \r\nQ 39.453125 6.390625 43.28125 13.890625 \r\nQ 47.125 21.390625 47.125 36.375 \r\nQ 47.125 51.421875 43.28125 58.90625 \r\nQ 39.453125 66.40625 31.78125 66.40625 \r\nz\r\nM 31.78125 74.21875 \r\nQ 44.046875 74.21875 50.515625 64.515625 \r\nQ 56.984375 54.828125 56.984375 36.375 \r\nQ 56.984375 17.96875 50.515625 8.265625 \r\nQ 44.046875 -1.421875 31.78125 -1.421875 \r\nQ 19.53125 -1.421875 13.0625 8.265625 \r\nQ 6.59375 17.96875 6.59375 36.375 \r\nQ 6.59375 54.828125 13.0625 64.515625 \r\nQ 19.53125 74.21875 31.78125 74.21875 \r\nz\r\n\" id=\"DejaVuSans-48\"/>\r\n       </defs>\r\n       <use xlink:href=\"#DejaVuSans-48\"/>\r\n      </g>\r\n     </g>\r\n    </g>\r\n    <g id=\"xtick_2\">\r\n     <g id=\"line2d_2\">\r\n      <g>\r\n       <use style=\"stroke:#000000;stroke-width:0.8;\" x=\"69.636429\" xlink:href=\"#m7c4e737cef\" y=\"224.64\"/>\r\n      </g>\r\n     </g>\r\n     <g id=\"text_2\">\r\n      <!-- 5 -->\r\n      <g transform=\"translate(66.455179 239.238437)scale(0.1 -0.1)\">\r\n       <defs>\r\n        <path d=\"M 10.796875 72.90625 \r\nL 49.515625 72.90625 \r\nL 49.515625 64.59375 \r\nL 19.828125 64.59375 \r\nL 19.828125 46.734375 \r\nQ 21.96875 47.46875 24.109375 47.828125 \r\nQ 26.265625 48.1875 28.421875 48.1875 \r\nQ 40.625 48.1875 47.75 41.5 \r\nQ 54.890625 34.8125 54.890625 23.390625 \r\nQ 54.890625 11.625 47.5625 5.09375 \r\nQ 40.234375 -1.421875 26.90625 -1.421875 \r\nQ 22.3125 -1.421875 17.546875 -0.640625 \r\nQ 12.796875 0.140625 7.71875 1.703125 \r\nL 7.71875 11.625 \r\nQ 12.109375 9.234375 16.796875 8.0625 \r\nQ 21.484375 6.890625 26.703125 6.890625 \r\nQ 35.15625 6.890625 40.078125 11.328125 \r\nQ 45.015625 15.765625 45.015625 23.390625 \r\nQ 45.015625 31 40.078125 35.4375 \r\nQ 35.15625 39.890625 26.703125 39.890625 \r\nQ 22.75 39.890625 18.8125 39.015625 \r\nQ 14.890625 38.140625 10.796875 36.28125 \r\nz\r\n\" id=\"DejaVuSans-53\"/>\r\n       </defs>\r\n       <use xlink:href=\"#DejaVuSans-53\"/>\r\n      </g>\r\n     </g>\r\n    </g>\r\n    <g id=\"xtick_3\">\r\n     <g id=\"line2d_3\">\r\n      <g>\r\n       <use style=\"stroke:#000000;stroke-width:0.8;\" x=\"108.465\" xlink:href=\"#m7c4e737cef\" y=\"224.64\"/>\r\n      </g>\r\n     </g>\r\n     <g id=\"text_3\">\r\n      <!-- 10 -->\r\n      <g transform=\"translate(102.1025 239.238437)scale(0.1 -0.1)\">\r\n       <defs>\r\n        <path d=\"M 12.40625 8.296875 \r\nL 28.515625 8.296875 \r\nL 28.515625 63.921875 \r\nL 10.984375 60.40625 \r\nL 10.984375 69.390625 \r\nL 28.421875 72.90625 \r\nL 38.28125 72.90625 \r\nL 38.28125 8.296875 \r\nL 54.390625 8.296875 \r\nL 54.390625 0 \r\nL 12.40625 0 \r\nz\r\n\" id=\"DejaVuSans-49\"/>\r\n       </defs>\r\n       <use xlink:href=\"#DejaVuSans-49\"/>\r\n       <use x=\"63.623047\" xlink:href=\"#DejaVuSans-48\"/>\r\n      </g>\r\n     </g>\r\n    </g>\r\n    <g id=\"xtick_4\">\r\n     <g id=\"line2d_4\">\r\n      <g>\r\n       <use style=\"stroke:#000000;stroke-width:0.8;\" x=\"147.293571\" xlink:href=\"#m7c4e737cef\" y=\"224.64\"/>\r\n      </g>\r\n     </g>\r\n     <g id=\"text_4\">\r\n      <!-- 15 -->\r\n      <g transform=\"translate(140.931071 239.238437)scale(0.1 -0.1)\">\r\n       <use xlink:href=\"#DejaVuSans-49\"/>\r\n       <use x=\"63.623047\" xlink:href=\"#DejaVuSans-53\"/>\r\n      </g>\r\n     </g>\r\n    </g>\r\n    <g id=\"xtick_5\">\r\n     <g id=\"line2d_5\">\r\n      <g>\r\n       <use style=\"stroke:#000000;stroke-width:0.8;\" x=\"186.122143\" xlink:href=\"#m7c4e737cef\" y=\"224.64\"/>\r\n      </g>\r\n     </g>\r\n     <g id=\"text_5\">\r\n      <!-- 20 -->\r\n      <g transform=\"translate(179.759643 239.238437)scale(0.1 -0.1)\">\r\n       <defs>\r\n        <path d=\"M 19.1875 8.296875 \r\nL 53.609375 8.296875 \r\nL 53.609375 0 \r\nL 7.328125 0 \r\nL 7.328125 8.296875 \r\nQ 12.9375 14.109375 22.625 23.890625 \r\nQ 32.328125 33.6875 34.8125 36.53125 \r\nQ 39.546875 41.84375 41.421875 45.53125 \r\nQ 43.3125 49.21875 43.3125 52.78125 \r\nQ 43.3125 58.59375 39.234375 62.25 \r\nQ 35.15625 65.921875 28.609375 65.921875 \r\nQ 23.96875 65.921875 18.8125 64.3125 \r\nQ 13.671875 62.703125 7.8125 59.421875 \r\nL 7.8125 69.390625 \r\nQ 13.765625 71.78125 18.9375 73 \r\nQ 24.125 74.21875 28.421875 74.21875 \r\nQ 39.75 74.21875 46.484375 68.546875 \r\nQ 53.21875 62.890625 53.21875 53.421875 \r\nQ 53.21875 48.921875 51.53125 44.890625 \r\nQ 49.859375 40.875 45.40625 35.40625 \r\nQ 44.1875 33.984375 37.640625 27.21875 \r\nQ 31.109375 20.453125 19.1875 8.296875 \r\nz\r\n\" id=\"DejaVuSans-50\"/>\r\n       </defs>\r\n       <use xlink:href=\"#DejaVuSans-50\"/>\r\n       <use x=\"63.623047\" xlink:href=\"#DejaVuSans-48\"/>\r\n      </g>\r\n     </g>\r\n    </g>\r\n    <g id=\"xtick_6\">\r\n     <g id=\"line2d_6\">\r\n      <g>\r\n       <use style=\"stroke:#000000;stroke-width:0.8;\" x=\"224.950714\" xlink:href=\"#m7c4e737cef\" y=\"224.64\"/>\r\n      </g>\r\n     </g>\r\n     <g id=\"text_6\">\r\n      <!-- 25 -->\r\n      <g transform=\"translate(218.588214 239.238437)scale(0.1 -0.1)\">\r\n       <use xlink:href=\"#DejaVuSans-50\"/>\r\n       <use x=\"63.623047\" xlink:href=\"#DejaVuSans-53\"/>\r\n      </g>\r\n     </g>\r\n    </g>\r\n   </g>\r\n   <g id=\"matplotlib.axis_2\">\r\n    <g id=\"ytick_1\">\r\n     <g id=\"line2d_7\">\r\n      <defs>\r\n       <path d=\"M 0 0 \r\nL -3.5 0 \r\n\" id=\"m2515301e3b\" style=\"stroke:#000000;stroke-width:0.8;\"/>\r\n      </defs>\r\n      <g>\r\n       <use style=\"stroke:#000000;stroke-width:0.8;\" x=\"26.925\" xlink:href=\"#m2515301e3b\" y=\"11.082857\"/>\r\n      </g>\r\n     </g>\r\n     <g id=\"text_7\">\r\n      <!-- 0 -->\r\n      <g transform=\"translate(13.5625 14.882076)scale(0.1 -0.1)\">\r\n       <use xlink:href=\"#DejaVuSans-48\"/>\r\n      </g>\r\n     </g>\r\n    </g>\r\n    <g id=\"ytick_2\">\r\n     <g id=\"line2d_8\">\r\n      <g>\r\n       <use style=\"stroke:#000000;stroke-width:0.8;\" x=\"26.925\" xlink:href=\"#m2515301e3b\" y=\"49.911429\"/>\r\n      </g>\r\n     </g>\r\n     <g id=\"text_8\">\r\n      <!-- 5 -->\r\n      <g transform=\"translate(13.5625 53.710647)scale(0.1 -0.1)\">\r\n       <use xlink:href=\"#DejaVuSans-53\"/>\r\n      </g>\r\n     </g>\r\n    </g>\r\n    <g id=\"ytick_3\">\r\n     <g id=\"line2d_9\">\r\n      <g>\r\n       <use style=\"stroke:#000000;stroke-width:0.8;\" x=\"26.925\" xlink:href=\"#m2515301e3b\" y=\"88.74\"/>\r\n      </g>\r\n     </g>\r\n     <g id=\"text_9\">\r\n      <!-- 10 -->\r\n      <g transform=\"translate(7.2 92.539219)scale(0.1 -0.1)\">\r\n       <use xlink:href=\"#DejaVuSans-49\"/>\r\n       <use x=\"63.623047\" xlink:href=\"#DejaVuSans-48\"/>\r\n      </g>\r\n     </g>\r\n    </g>\r\n    <g id=\"ytick_4\">\r\n     <g id=\"line2d_10\">\r\n      <g>\r\n       <use style=\"stroke:#000000;stroke-width:0.8;\" x=\"26.925\" xlink:href=\"#m2515301e3b\" y=\"127.568571\"/>\r\n      </g>\r\n     </g>\r\n     <g id=\"text_10\">\r\n      <!-- 15 -->\r\n      <g transform=\"translate(7.2 131.36779)scale(0.1 -0.1)\">\r\n       <use xlink:href=\"#DejaVuSans-49\"/>\r\n       <use x=\"63.623047\" xlink:href=\"#DejaVuSans-53\"/>\r\n      </g>\r\n     </g>\r\n    </g>\r\n    <g id=\"ytick_5\">\r\n     <g id=\"line2d_11\">\r\n      <g>\r\n       <use style=\"stroke:#000000;stroke-width:0.8;\" x=\"26.925\" xlink:href=\"#m2515301e3b\" y=\"166.397143\"/>\r\n      </g>\r\n     </g>\r\n     <g id=\"text_11\">\r\n      <!-- 20 -->\r\n      <g transform=\"translate(7.2 170.196362)scale(0.1 -0.1)\">\r\n       <use xlink:href=\"#DejaVuSans-50\"/>\r\n       <use x=\"63.623047\" xlink:href=\"#DejaVuSans-48\"/>\r\n      </g>\r\n     </g>\r\n    </g>\r\n    <g id=\"ytick_6\">\r\n     <g id=\"line2d_12\">\r\n      <g>\r\n       <use style=\"stroke:#000000;stroke-width:0.8;\" x=\"26.925\" xlink:href=\"#m2515301e3b\" y=\"205.225714\"/>\r\n      </g>\r\n     </g>\r\n     <g id=\"text_12\">\r\n      <!-- 25 -->\r\n      <g transform=\"translate(7.2 209.024933)scale(0.1 -0.1)\">\r\n       <use xlink:href=\"#DejaVuSans-50\"/>\r\n       <use x=\"63.623047\" xlink:href=\"#DejaVuSans-53\"/>\r\n      </g>\r\n     </g>\r\n    </g>\r\n   </g>\r\n   <g id=\"patch_3\">\r\n    <path d=\"M 26.925 224.64 \r\nL 26.925 7.2 \r\n\" style=\"fill:none;stroke:#000000;stroke-linecap:square;stroke-linejoin:miter;stroke-width:0.8;\"/>\r\n   </g>\r\n   <g id=\"patch_4\">\r\n    <path d=\"M 244.365 224.64 \r\nL 244.365 7.2 \r\n\" style=\"fill:none;stroke:#000000;stroke-linecap:square;stroke-linejoin:miter;stroke-width:0.8;\"/>\r\n   </g>\r\n   <g id=\"patch_5\">\r\n    <path d=\"M 26.925 224.64 \r\nL 244.365 224.64 \r\n\" style=\"fill:none;stroke:#000000;stroke-linecap:square;stroke-linejoin:miter;stroke-width:0.8;\"/>\r\n   </g>\r\n   <g id=\"patch_6\">\r\n    <path d=\"M 26.925 7.2 \r\nL 244.365 7.2 \r\n\" style=\"fill:none;stroke:#000000;stroke-linecap:square;stroke-linejoin:miter;stroke-width:0.8;\"/>\r\n   </g>\r\n  </g>\r\n </g>\r\n <defs>\r\n  <clipPath id=\"p0dd0659701\">\r\n   <rect height=\"217.44\" width=\"217.44\" x=\"26.925\" y=\"7.2\"/>\r\n  </clipPath>\r\n </defs>\r\n</svg>\r\n",
            "image/png": "[encoded data removed]"
          },
          "metadata": {
            "needs_background": "light"
          }
        }
      ]
    },
    {
      "cell_type": "code",
      "metadata": {
        "id": "yXO4RJ-W10jp",
        "colab_type": "code",
        "colab": {
          "base_uri": "https://localhost:8080/",
          "height": 282
        },
        "outputId": "7a723e72-34d5-4f15-fa7c-2b4737ffe4c1"
      },
      "source": [
        "show_new_image(generator)"
      ],
      "execution_count": 17,
      "outputs": [
        {
          "output_type": "execute_result",
          "data": {
            "text/plain": [
              "<matplotlib.image.AxesImage at 0x236ce3b9548>"
            ]
          },
          "metadata": {},
          "execution_count": 17
        },
        {
          "output_type": "display_data",
          "data": {
            "text/plain": "<Figure size 432x288 with 1 Axes>",
            "image/svg+xml": "<?xml version=\"1.0\" encoding=\"utf-8\" standalone=\"no\"?>\r\n<!DOCTYPE svg PUBLIC \"-//W3C//DTD SVG 1.1//EN\"\r\n  \"http://www.w3.org/Graphics/SVG/1.1/DTD/svg11.dtd\">\r\n<!-- Created with matplotlib (https://matplotlib.org/) -->\r\n<svg height=\"248.518125pt\" version=\"1.1\" viewBox=\"0 0 251.565 248.518125\" width=\"251.565pt\" xmlns=\"http://www.w3.org/2000/svg\" xmlns:xlink=\"http://www.w3.org/1999/xlink\">\r\n <metadata>\r\n  <rdf:RDF xmlns:cc=\"http://creativecommons.org/ns#\" xmlns:dc=\"http://purl.org/dc/elements/1.1/\" xmlns:rdf=\"http://www.w3.org/1999/02/22-rdf-syntax-ns#\">\r\n   <cc:Work>\r\n    <dc:type rdf:resource=\"http://purl.org/dc/dcmitype/StillImage\"/>\r\n    <dc:date>2021-05-12T13:01:36.000995</dc:date>\r\n    <dc:format>image/svg+xml</dc:format>\r\n    <dc:creator>\r\n     <cc:Agent>\r\n      <dc:title>Matplotlib v3.3.4, https://matplotlib.org/</dc:title>\r\n     </cc:Agent>\r\n    </dc:creator>\r\n   </cc:Work>\r\n  </rdf:RDF>\r\n </metadata>\r\n <defs>\r\n  <style type=\"text/css\">*{stroke-linecap:butt;stroke-linejoin:round;}</style>\r\n </defs>\r\n <g id=\"figure_1\">\r\n  <g id=\"patch_1\">\r\n   <path d=\"M 0 248.518125 \r\nL 251.565 248.518125 \r\nL 251.565 0 \r\nL 0 0 \r\nz\r\n\" style=\"fill:none;\"/>\r\n  </g>\r\n  <g id=\"axes_1\">\r\n   <g id=\"patch_2\">\r\n    <path d=\"M 26.925 224.64 \r\nL 244.365 224.64 \r\nL 244.365 7.2 \r\nL 26.925 7.2 \r\nz\r\n\" style=\"fill:#ffffff;\"/>\r\n   </g>\r\n   <g clip-path=\"url(#p46bed0dfae)\">\r\n    <image height=\"218\" id=\"image02c765f294\" transform=\"scale(1 -1)translate(0 -218)\" width=\"218\" x=\"26.925\" xlink:href=\"data:image/png;base64,\r\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\" y=\"-6.64\"/>\r\n   </g>\r\n   <g id=\"matplotlib.axis_1\">\r\n    <g id=\"xtick_1\">\r\n     <g id=\"line2d_1\">\r\n      <defs>\r\n       <path d=\"M 0 0 \r\nL 0 3.5 \r\n\" id=\"m3094c233f5\" style=\"stroke:#000000;stroke-width:0.8;\"/>\r\n      </defs>\r\n      <g>\r\n       <use style=\"stroke:#000000;stroke-width:0.8;\" x=\"30.807857\" xlink:href=\"#m3094c233f5\" y=\"224.64\"/>\r\n      </g>\r\n     </g>\r\n     <g id=\"text_1\">\r\n      <!-- 0 -->\r\n      <g transform=\"translate(27.626607 239.238437)scale(0.1 -0.1)\">\r\n       <defs>\r\n        <path d=\"M 31.78125 66.40625 \r\nQ 24.171875 66.40625 20.328125 58.90625 \r\nQ 16.5 51.421875 16.5 36.375 \r\nQ 16.5 21.390625 20.328125 13.890625 \r\nQ 24.171875 6.390625 31.78125 6.390625 \r\nQ 39.453125 6.390625 43.28125 13.890625 \r\nQ 47.125 21.390625 47.125 36.375 \r\nQ 47.125 51.421875 43.28125 58.90625 \r\nQ 39.453125 66.40625 31.78125 66.40625 \r\nz\r\nM 31.78125 74.21875 \r\nQ 44.046875 74.21875 50.515625 64.515625 \r\nQ 56.984375 54.828125 56.984375 36.375 \r\nQ 56.984375 17.96875 50.515625 8.265625 \r\nQ 44.046875 -1.421875 31.78125 -1.421875 \r\nQ 19.53125 -1.421875 13.0625 8.265625 \r\nQ 6.59375 17.96875 6.59375 36.375 \r\nQ 6.59375 54.828125 13.0625 64.515625 \r\nQ 19.53125 74.21875 31.78125 74.21875 \r\nz\r\n\" id=\"DejaVuSans-48\"/>\r\n       </defs>\r\n       <use xlink:href=\"#DejaVuSans-48\"/>\r\n      </g>\r\n     </g>\r\n    </g>\r\n    <g id=\"xtick_2\">\r\n     <g id=\"line2d_2\">\r\n      <g>\r\n       <use style=\"stroke:#000000;stroke-width:0.8;\" x=\"69.636429\" xlink:href=\"#m3094c233f5\" y=\"224.64\"/>\r\n      </g>\r\n     </g>\r\n     <g id=\"text_2\">\r\n      <!-- 5 -->\r\n      <g transform=\"translate(66.455179 239.238437)scale(0.1 -0.1)\">\r\n       <defs>\r\n        <path d=\"M 10.796875 72.90625 \r\nL 49.515625 72.90625 \r\nL 49.515625 64.59375 \r\nL 19.828125 64.59375 \r\nL 19.828125 46.734375 \r\nQ 21.96875 47.46875 24.109375 47.828125 \r\nQ 26.265625 48.1875 28.421875 48.1875 \r\nQ 40.625 48.1875 47.75 41.5 \r\nQ 54.890625 34.8125 54.890625 23.390625 \r\nQ 54.890625 11.625 47.5625 5.09375 \r\nQ 40.234375 -1.421875 26.90625 -1.421875 \r\nQ 22.3125 -1.421875 17.546875 -0.640625 \r\nQ 12.796875 0.140625 7.71875 1.703125 \r\nL 7.71875 11.625 \r\nQ 12.109375 9.234375 16.796875 8.0625 \r\nQ 21.484375 6.890625 26.703125 6.890625 \r\nQ 35.15625 6.890625 40.078125 11.328125 \r\nQ 45.015625 15.765625 45.015625 23.390625 \r\nQ 45.015625 31 40.078125 35.4375 \r\nQ 35.15625 39.890625 26.703125 39.890625 \r\nQ 22.75 39.890625 18.8125 39.015625 \r\nQ 14.890625 38.140625 10.796875 36.28125 \r\nz\r\n\" id=\"DejaVuSans-53\"/>\r\n       </defs>\r\n       <use xlink:href=\"#DejaVuSans-53\"/>\r\n      </g>\r\n     </g>\r\n    </g>\r\n    <g id=\"xtick_3\">\r\n     <g id=\"line2d_3\">\r\n      <g>\r\n       <use style=\"stroke:#000000;stroke-width:0.8;\" x=\"108.465\" xlink:href=\"#m3094c233f5\" y=\"224.64\"/>\r\n      </g>\r\n     </g>\r\n     <g id=\"text_3\">\r\n      <!-- 10 -->\r\n      <g transform=\"translate(102.1025 239.238437)scale(0.1 -0.1)\">\r\n       <defs>\r\n        <path d=\"M 12.40625 8.296875 \r\nL 28.515625 8.296875 \r\nL 28.515625 63.921875 \r\nL 10.984375 60.40625 \r\nL 10.984375 69.390625 \r\nL 28.421875 72.90625 \r\nL 38.28125 72.90625 \r\nL 38.28125 8.296875 \r\nL 54.390625 8.296875 \r\nL 54.390625 0 \r\nL 12.40625 0 \r\nz\r\n\" id=\"DejaVuSans-49\"/>\r\n       </defs>\r\n       <use xlink:href=\"#DejaVuSans-49\"/>\r\n       <use x=\"63.623047\" xlink:href=\"#DejaVuSans-48\"/>\r\n      </g>\r\n     </g>\r\n    </g>\r\n    <g id=\"xtick_4\">\r\n     <g id=\"line2d_4\">\r\n      <g>\r\n       <use style=\"stroke:#000000;stroke-width:0.8;\" x=\"147.293571\" xlink:href=\"#m3094c233f5\" y=\"224.64\"/>\r\n      </g>\r\n     </g>\r\n     <g id=\"text_4\">\r\n      <!-- 15 -->\r\n      <g transform=\"translate(140.931071 239.238437)scale(0.1 -0.1)\">\r\n       <use xlink:href=\"#DejaVuSans-49\"/>\r\n       <use x=\"63.623047\" xlink:href=\"#DejaVuSans-53\"/>\r\n      </g>\r\n     </g>\r\n    </g>\r\n    <g id=\"xtick_5\">\r\n     <g id=\"line2d_5\">\r\n      <g>\r\n       <use style=\"stroke:#000000;stroke-width:0.8;\" x=\"186.122143\" xlink:href=\"#m3094c233f5\" y=\"224.64\"/>\r\n      </g>\r\n     </g>\r\n     <g id=\"text_5\">\r\n      <!-- 20 -->\r\n      <g transform=\"translate(179.759643 239.238437)scale(0.1 -0.1)\">\r\n       <defs>\r\n        <path d=\"M 19.1875 8.296875 \r\nL 53.609375 8.296875 \r\nL 53.609375 0 \r\nL 7.328125 0 \r\nL 7.328125 8.296875 \r\nQ 12.9375 14.109375 22.625 23.890625 \r\nQ 32.328125 33.6875 34.8125 36.53125 \r\nQ 39.546875 41.84375 41.421875 45.53125 \r\nQ 43.3125 49.21875 43.3125 52.78125 \r\nQ 43.3125 58.59375 39.234375 62.25 \r\nQ 35.15625 65.921875 28.609375 65.921875 \r\nQ 23.96875 65.921875 18.8125 64.3125 \r\nQ 13.671875 62.703125 7.8125 59.421875 \r\nL 7.8125 69.390625 \r\nQ 13.765625 71.78125 18.9375 73 \r\nQ 24.125 74.21875 28.421875 74.21875 \r\nQ 39.75 74.21875 46.484375 68.546875 \r\nQ 53.21875 62.890625 53.21875 53.421875 \r\nQ 53.21875 48.921875 51.53125 44.890625 \r\nQ 49.859375 40.875 45.40625 35.40625 \r\nQ 44.1875 33.984375 37.640625 27.21875 \r\nQ 31.109375 20.453125 19.1875 8.296875 \r\nz\r\n\" id=\"DejaVuSans-50\"/>\r\n       </defs>\r\n       <use xlink:href=\"#DejaVuSans-50\"/>\r\n       <use x=\"63.623047\" xlink:href=\"#DejaVuSans-48\"/>\r\n      </g>\r\n     </g>\r\n    </g>\r\n    <g id=\"xtick_6\">\r\n     <g id=\"line2d_6\">\r\n      <g>\r\n       <use style=\"stroke:#000000;stroke-width:0.8;\" x=\"224.950714\" xlink:href=\"#m3094c233f5\" y=\"224.64\"/>\r\n      </g>\r\n     </g>\r\n     <g id=\"text_6\">\r\n      <!-- 25 -->\r\n      <g transform=\"translate(218.588214 239.238437)scale(0.1 -0.1)\">\r\n       <use xlink:href=\"#DejaVuSans-50\"/>\r\n       <use x=\"63.623047\" xlink:href=\"#DejaVuSans-53\"/>\r\n      </g>\r\n     </g>\r\n    </g>\r\n   </g>\r\n   <g id=\"matplotlib.axis_2\">\r\n    <g id=\"ytick_1\">\r\n     <g id=\"line2d_7\">\r\n      <defs>\r\n       <path d=\"M 0 0 \r\nL -3.5 0 \r\n\" id=\"ma14cbc6f7a\" style=\"stroke:#000000;stroke-width:0.8;\"/>\r\n      </defs>\r\n      <g>\r\n       <use style=\"stroke:#000000;stroke-width:0.8;\" x=\"26.925\" xlink:href=\"#ma14cbc6f7a\" y=\"11.082857\"/>\r\n      </g>\r\n     </g>\r\n     <g id=\"text_7\">\r\n      <!-- 0 -->\r\n      <g transform=\"translate(13.5625 14.882076)scale(0.1 -0.1)\">\r\n       <use xlink:href=\"#DejaVuSans-48\"/>\r\n      </g>\r\n     </g>\r\n    </g>\r\n    <g id=\"ytick_2\">\r\n     <g id=\"line2d_8\">\r\n      <g>\r\n       <use style=\"stroke:#000000;stroke-width:0.8;\" x=\"26.925\" xlink:href=\"#ma14cbc6f7a\" y=\"49.911429\"/>\r\n      </g>\r\n     </g>\r\n     <g id=\"text_8\">\r\n      <!-- 5 -->\r\n      <g transform=\"translate(13.5625 53.710647)scale(0.1 -0.1)\">\r\n       <use xlink:href=\"#DejaVuSans-53\"/>\r\n      </g>\r\n     </g>\r\n    </g>\r\n    <g id=\"ytick_3\">\r\n     <g id=\"line2d_9\">\r\n      <g>\r\n       <use style=\"stroke:#000000;stroke-width:0.8;\" x=\"26.925\" xlink:href=\"#ma14cbc6f7a\" y=\"88.74\"/>\r\n      </g>\r\n     </g>\r\n     <g id=\"text_9\">\r\n      <!-- 10 -->\r\n      <g transform=\"translate(7.2 92.539219)scale(0.1 -0.1)\">\r\n       <use xlink:href=\"#DejaVuSans-49\"/>\r\n       <use x=\"63.623047\" xlink:href=\"#DejaVuSans-48\"/>\r\n      </g>\r\n     </g>\r\n    </g>\r\n    <g id=\"ytick_4\">\r\n     <g id=\"line2d_10\">\r\n      <g>\r\n       <use style=\"stroke:#000000;stroke-width:0.8;\" x=\"26.925\" xlink:href=\"#ma14cbc6f7a\" y=\"127.568571\"/>\r\n      </g>\r\n     </g>\r\n     <g id=\"text_10\">\r\n      <!-- 15 -->\r\n      <g transform=\"translate(7.2 131.36779)scale(0.1 -0.1)\">\r\n       <use xlink:href=\"#DejaVuSans-49\"/>\r\n       <use x=\"63.623047\" xlink:href=\"#DejaVuSans-53\"/>\r\n      </g>\r\n     </g>\r\n    </g>\r\n    <g id=\"ytick_5\">\r\n     <g id=\"line2d_11\">\r\n      <g>\r\n       <use style=\"stroke:#000000;stroke-width:0.8;\" x=\"26.925\" xlink:href=\"#ma14cbc6f7a\" y=\"166.397143\"/>\r\n      </g>\r\n     </g>\r\n     <g id=\"text_11\">\r\n      <!-- 20 -->\r\n      <g transform=\"translate(7.2 170.196362)scale(0.1 -0.1)\">\r\n       <use xlink:href=\"#DejaVuSans-50\"/>\r\n       <use x=\"63.623047\" xlink:href=\"#DejaVuSans-48\"/>\r\n      </g>\r\n     </g>\r\n    </g>\r\n    <g id=\"ytick_6\">\r\n     <g id=\"line2d_12\">\r\n      <g>\r\n       <use style=\"stroke:#000000;stroke-width:0.8;\" x=\"26.925\" xlink:href=\"#ma14cbc6f7a\" y=\"205.225714\"/>\r\n      </g>\r\n     </g>\r\n     <g id=\"text_12\">\r\n      <!-- 25 -->\r\n      <g transform=\"translate(7.2 209.024933)scale(0.1 -0.1)\">\r\n       <use xlink:href=\"#DejaVuSans-50\"/>\r\n       <use x=\"63.623047\" xlink:href=\"#DejaVuSans-53\"/>\r\n      </g>\r\n     </g>\r\n    </g>\r\n   </g>\r\n   <g id=\"patch_3\">\r\n    <path d=\"M 26.925 224.64 \r\nL 26.925 7.2 \r\n\" style=\"fill:none;stroke:#000000;stroke-linecap:square;stroke-linejoin:miter;stroke-width:0.8;\"/>\r\n   </g>\r\n   <g id=\"patch_4\">\r\n    <path d=\"M 244.365 224.64 \r\nL 244.365 7.2 \r\n\" style=\"fill:none;stroke:#000000;stroke-linecap:square;stroke-linejoin:miter;stroke-width:0.8;\"/>\r\n   </g>\r\n   <g id=\"patch_5\">\r\n    <path d=\"M 26.925 224.64 \r\nL 244.365 224.64 \r\n\" style=\"fill:none;stroke:#000000;stroke-linecap:square;stroke-linejoin:miter;stroke-width:0.8;\"/>\r\n   </g>\r\n   <g id=\"patch_6\">\r\n    <path d=\"M 26.925 7.2 \r\nL 244.365 7.2 \r\n\" style=\"fill:none;stroke:#000000;stroke-linecap:square;stroke-linejoin:miter;stroke-width:0.8;\"/>\r\n   </g>\r\n  </g>\r\n </g>\r\n <defs>\r\n  <clipPath id=\"p46bed0dfae\">\r\n   <rect height=\"217.44\" width=\"217.44\" x=\"26.925\" y=\"7.2\"/>\r\n  </clipPath>\r\n </defs>\r\n</svg>\r\n",
            "image/png": "[encoded data removed]"
          },
          "metadata": {
            "needs_background": "light"
          }
        }
      ]
    },
    {
      "cell_type": "code",
      "metadata": {
        "id": "quw7i5_d10jw",
        "colab_type": "code",
        "colab": {
          "base_uri": "https://localhost:8080/",
          "height": 282
        },
        "outputId": "d2bad442-b689-47ee-e1f6-21e0fb025db4"
      },
      "source": [
        "show_new_image(generator)"
      ],
      "execution_count": 18,
      "outputs": [
        {
          "output_type": "execute_result",
          "data": {
            "text/plain": [
              "<matplotlib.image.AxesImage at 0x236ce418208>"
            ]
          },
          "metadata": {},
          "execution_count": 18
        },
        {
          "output_type": "display_data",
          "data": {
            "text/plain": "<Figure size 432x288 with 1 Axes>",
            "image/svg+xml": "<?xml version=\"1.0\" encoding=\"utf-8\" standalone=\"no\"?>\r\n<!DOCTYPE svg PUBLIC \"-//W3C//DTD SVG 1.1//EN\"\r\n  \"http://www.w3.org/Graphics/SVG/1.1/DTD/svg11.dtd\">\r\n<!-- Created with matplotlib (https://matplotlib.org/) -->\r\n<svg height=\"248.518125pt\" version=\"1.1\" viewBox=\"0 0 251.565 248.518125\" width=\"251.565pt\" xmlns=\"http://www.w3.org/2000/svg\" xmlns:xlink=\"http://www.w3.org/1999/xlink\">\r\n <metadata>\r\n  <rdf:RDF xmlns:cc=\"http://creativecommons.org/ns#\" xmlns:dc=\"http://purl.org/dc/elements/1.1/\" xmlns:rdf=\"http://www.w3.org/1999/02/22-rdf-syntax-ns#\">\r\n   <cc:Work>\r\n    <dc:type rdf:resource=\"http://purl.org/dc/dcmitype/StillImage\"/>\r\n    <dc:date>2021-05-12T13:01:38.484504</dc:date>\r\n    <dc:format>image/svg+xml</dc:format>\r\n    <dc:creator>\r\n     <cc:Agent>\r\n      <dc:title>Matplotlib v3.3.4, https://matplotlib.org/</dc:title>\r\n     </cc:Agent>\r\n    </dc:creator>\r\n   </cc:Work>\r\n  </rdf:RDF>\r\n </metadata>\r\n <defs>\r\n  <style type=\"text/css\">*{stroke-linecap:butt;stroke-linejoin:round;}</style>\r\n </defs>\r\n <g id=\"figure_1\">\r\n  <g id=\"patch_1\">\r\n   <path d=\"M 0 248.518125 \r\nL 251.565 248.518125 \r\nL 251.565 0 \r\nL 0 0 \r\nz\r\n\" style=\"fill:none;\"/>\r\n  </g>\r\n  <g id=\"axes_1\">\r\n   <g id=\"patch_2\">\r\n    <path d=\"M 26.925 224.64 \r\nL 244.365 224.64 \r\nL 244.365 7.2 \r\nL 26.925 7.2 \r\nz\r\n\" style=\"fill:#ffffff;\"/>\r\n   </g>\r\n   <g clip-path=\"url(#pa4a6e2ff7c)\">\r\n    <image height=\"218\" id=\"image40f9b276e2\" transform=\"scale(1 -1)translate(0 -218)\" width=\"218\" x=\"26.925\" xlink:href=\"data:image/png;base64,\r\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\" y=\"-6.64\"/>\r\n   </g>\r\n   <g id=\"matplotlib.axis_1\">\r\n    <g id=\"xtick_1\">\r\n     <g id=\"line2d_1\">\r\n      <defs>\r\n       <path d=\"M 0 0 \r\nL 0 3.5 \r\n\" id=\"m48c555a2c2\" style=\"stroke:#000000;stroke-width:0.8;\"/>\r\n      </defs>\r\n      <g>\r\n       <use style=\"stroke:#000000;stroke-width:0.8;\" x=\"30.807857\" xlink:href=\"#m48c555a2c2\" y=\"224.64\"/>\r\n      </g>\r\n     </g>\r\n     <g id=\"text_1\">\r\n      <!-- 0 -->\r\n      <g transform=\"translate(27.626607 239.238437)scale(0.1 -0.1)\">\r\n       <defs>\r\n        <path d=\"M 31.78125 66.40625 \r\nQ 24.171875 66.40625 20.328125 58.90625 \r\nQ 16.5 51.421875 16.5 36.375 \r\nQ 16.5 21.390625 20.328125 13.890625 \r\nQ 24.171875 6.390625 31.78125 6.390625 \r\nQ 39.453125 6.390625 43.28125 13.890625 \r\nQ 47.125 21.390625 47.125 36.375 \r\nQ 47.125 51.421875 43.28125 58.90625 \r\nQ 39.453125 66.40625 31.78125 66.40625 \r\nz\r\nM 31.78125 74.21875 \r\nQ 44.046875 74.21875 50.515625 64.515625 \r\nQ 56.984375 54.828125 56.984375 36.375 \r\nQ 56.984375 17.96875 50.515625 8.265625 \r\nQ 44.046875 -1.421875 31.78125 -1.421875 \r\nQ 19.53125 -1.421875 13.0625 8.265625 \r\nQ 6.59375 17.96875 6.59375 36.375 \r\nQ 6.59375 54.828125 13.0625 64.515625 \r\nQ 19.53125 74.21875 31.78125 74.21875 \r\nz\r\n\" id=\"DejaVuSans-48\"/>\r\n       </defs>\r\n       <use xlink:href=\"#DejaVuSans-48\"/>\r\n      </g>\r\n     </g>\r\n    </g>\r\n    <g id=\"xtick_2\">\r\n     <g id=\"line2d_2\">\r\n      <g>\r\n       <use style=\"stroke:#000000;stroke-width:0.8;\" x=\"69.636429\" xlink:href=\"#m48c555a2c2\" y=\"224.64\"/>\r\n      </g>\r\n     </g>\r\n     <g id=\"text_2\">\r\n      <!-- 5 -->\r\n      <g transform=\"translate(66.455179 239.238437)scale(0.1 -0.1)\">\r\n       <defs>\r\n        <path d=\"M 10.796875 72.90625 \r\nL 49.515625 72.90625 \r\nL 49.515625 64.59375 \r\nL 19.828125 64.59375 \r\nL 19.828125 46.734375 \r\nQ 21.96875 47.46875 24.109375 47.828125 \r\nQ 26.265625 48.1875 28.421875 48.1875 \r\nQ 40.625 48.1875 47.75 41.5 \r\nQ 54.890625 34.8125 54.890625 23.390625 \r\nQ 54.890625 11.625 47.5625 5.09375 \r\nQ 40.234375 -1.421875 26.90625 -1.421875 \r\nQ 22.3125 -1.421875 17.546875 -0.640625 \r\nQ 12.796875 0.140625 7.71875 1.703125 \r\nL 7.71875 11.625 \r\nQ 12.109375 9.234375 16.796875 8.0625 \r\nQ 21.484375 6.890625 26.703125 6.890625 \r\nQ 35.15625 6.890625 40.078125 11.328125 \r\nQ 45.015625 15.765625 45.015625 23.390625 \r\nQ 45.015625 31 40.078125 35.4375 \r\nQ 35.15625 39.890625 26.703125 39.890625 \r\nQ 22.75 39.890625 18.8125 39.015625 \r\nQ 14.890625 38.140625 10.796875 36.28125 \r\nz\r\n\" id=\"DejaVuSans-53\"/>\r\n       </defs>\r\n       <use xlink:href=\"#DejaVuSans-53\"/>\r\n      </g>\r\n     </g>\r\n    </g>\r\n    <g id=\"xtick_3\">\r\n     <g id=\"line2d_3\">\r\n      <g>\r\n       <use style=\"stroke:#000000;stroke-width:0.8;\" x=\"108.465\" xlink:href=\"#m48c555a2c2\" y=\"224.64\"/>\r\n      </g>\r\n     </g>\r\n     <g id=\"text_3\">\r\n      <!-- 10 -->\r\n      <g transform=\"translate(102.1025 239.238437)scale(0.1 -0.1)\">\r\n       <defs>\r\n        <path d=\"M 12.40625 8.296875 \r\nL 28.515625 8.296875 \r\nL 28.515625 63.921875 \r\nL 10.984375 60.40625 \r\nL 10.984375 69.390625 \r\nL 28.421875 72.90625 \r\nL 38.28125 72.90625 \r\nL 38.28125 8.296875 \r\nL 54.390625 8.296875 \r\nL 54.390625 0 \r\nL 12.40625 0 \r\nz\r\n\" id=\"DejaVuSans-49\"/>\r\n       </defs>\r\n       <use xlink:href=\"#DejaVuSans-49\"/>\r\n       <use x=\"63.623047\" xlink:href=\"#DejaVuSans-48\"/>\r\n      </g>\r\n     </g>\r\n    </g>\r\n    <g id=\"xtick_4\">\r\n     <g id=\"line2d_4\">\r\n      <g>\r\n       <use style=\"stroke:#000000;stroke-width:0.8;\" x=\"147.293571\" xlink:href=\"#m48c555a2c2\" y=\"224.64\"/>\r\n      </g>\r\n     </g>\r\n     <g id=\"text_4\">\r\n      <!-- 15 -->\r\n      <g transform=\"translate(140.931071 239.238437)scale(0.1 -0.1)\">\r\n       <use xlink:href=\"#DejaVuSans-49\"/>\r\n       <use x=\"63.623047\" xlink:href=\"#DejaVuSans-53\"/>\r\n      </g>\r\n     </g>\r\n    </g>\r\n    <g id=\"xtick_5\">\r\n     <g id=\"line2d_5\">\r\n      <g>\r\n       <use style=\"stroke:#000000;stroke-width:0.8;\" x=\"186.122143\" xlink:href=\"#m48c555a2c2\" y=\"224.64\"/>\r\n      </g>\r\n     </g>\r\n     <g id=\"text_5\">\r\n      <!-- 20 -->\r\n      <g transform=\"translate(179.759643 239.238437)scale(0.1 -0.1)\">\r\n       <defs>\r\n        <path d=\"M 19.1875 8.296875 \r\nL 53.609375 8.296875 \r\nL 53.609375 0 \r\nL 7.328125 0 \r\nL 7.328125 8.296875 \r\nQ 12.9375 14.109375 22.625 23.890625 \r\nQ 32.328125 33.6875 34.8125 36.53125 \r\nQ 39.546875 41.84375 41.421875 45.53125 \r\nQ 43.3125 49.21875 43.3125 52.78125 \r\nQ 43.3125 58.59375 39.234375 62.25 \r\nQ 35.15625 65.921875 28.609375 65.921875 \r\nQ 23.96875 65.921875 18.8125 64.3125 \r\nQ 13.671875 62.703125 7.8125 59.421875 \r\nL 7.8125 69.390625 \r\nQ 13.765625 71.78125 18.9375 73 \r\nQ 24.125 74.21875 28.421875 74.21875 \r\nQ 39.75 74.21875 46.484375 68.546875 \r\nQ 53.21875 62.890625 53.21875 53.421875 \r\nQ 53.21875 48.921875 51.53125 44.890625 \r\nQ 49.859375 40.875 45.40625 35.40625 \r\nQ 44.1875 33.984375 37.640625 27.21875 \r\nQ 31.109375 20.453125 19.1875 8.296875 \r\nz\r\n\" id=\"DejaVuSans-50\"/>\r\n       </defs>\r\n       <use xlink:href=\"#DejaVuSans-50\"/>\r\n       <use x=\"63.623047\" xlink:href=\"#DejaVuSans-48\"/>\r\n      </g>\r\n     </g>\r\n    </g>\r\n    <g id=\"xtick_6\">\r\n     <g id=\"line2d_6\">\r\n      <g>\r\n       <use style=\"stroke:#000000;stroke-width:0.8;\" x=\"224.950714\" xlink:href=\"#m48c555a2c2\" y=\"224.64\"/>\r\n      </g>\r\n     </g>\r\n     <g id=\"text_6\">\r\n      <!-- 25 -->\r\n      <g transform=\"translate(218.588214 239.238437)scale(0.1 -0.1)\">\r\n       <use xlink:href=\"#DejaVuSans-50\"/>\r\n       <use x=\"63.623047\" xlink:href=\"#DejaVuSans-53\"/>\r\n      </g>\r\n     </g>\r\n    </g>\r\n   </g>\r\n   <g id=\"matplotlib.axis_2\">\r\n    <g id=\"ytick_1\">\r\n     <g id=\"line2d_7\">\r\n      <defs>\r\n       <path d=\"M 0 0 \r\nL -3.5 0 \r\n\" id=\"mf85a475384\" style=\"stroke:#000000;stroke-width:0.8;\"/>\r\n      </defs>\r\n      <g>\r\n       <use style=\"stroke:#000000;stroke-width:0.8;\" x=\"26.925\" xlink:href=\"#mf85a475384\" y=\"11.082857\"/>\r\n      </g>\r\n     </g>\r\n     <g id=\"text_7\">\r\n      <!-- 0 -->\r\n      <g transform=\"translate(13.5625 14.882076)scale(0.1 -0.1)\">\r\n       <use xlink:href=\"#DejaVuSans-48\"/>\r\n      </g>\r\n     </g>\r\n    </g>\r\n    <g id=\"ytick_2\">\r\n     <g id=\"line2d_8\">\r\n      <g>\r\n       <use style=\"stroke:#000000;stroke-width:0.8;\" x=\"26.925\" xlink:href=\"#mf85a475384\" y=\"49.911429\"/>\r\n      </g>\r\n     </g>\r\n     <g id=\"text_8\">\r\n      <!-- 5 -->\r\n      <g transform=\"translate(13.5625 53.710647)scale(0.1 -0.1)\">\r\n       <use xlink:href=\"#DejaVuSans-53\"/>\r\n      </g>\r\n     </g>\r\n    </g>\r\n    <g id=\"ytick_3\">\r\n     <g id=\"line2d_9\">\r\n      <g>\r\n       <use style=\"stroke:#000000;stroke-width:0.8;\" x=\"26.925\" xlink:href=\"#mf85a475384\" y=\"88.74\"/>\r\n      </g>\r\n     </g>\r\n     <g id=\"text_9\">\r\n      <!-- 10 -->\r\n      <g transform=\"translate(7.2 92.539219)scale(0.1 -0.1)\">\r\n       <use xlink:href=\"#DejaVuSans-49\"/>\r\n       <use x=\"63.623047\" xlink:href=\"#DejaVuSans-48\"/>\r\n      </g>\r\n     </g>\r\n    </g>\r\n    <g id=\"ytick_4\">\r\n     <g id=\"line2d_10\">\r\n      <g>\r\n       <use style=\"stroke:#000000;stroke-width:0.8;\" x=\"26.925\" xlink:href=\"#mf85a475384\" y=\"127.568571\"/>\r\n      </g>\r\n     </g>\r\n     <g id=\"text_10\">\r\n      <!-- 15 -->\r\n      <g transform=\"translate(7.2 131.36779)scale(0.1 -0.1)\">\r\n       <use xlink:href=\"#DejaVuSans-49\"/>\r\n       <use x=\"63.623047\" xlink:href=\"#DejaVuSans-53\"/>\r\n      </g>\r\n     </g>\r\n    </g>\r\n    <g id=\"ytick_5\">\r\n     <g id=\"line2d_11\">\r\n      <g>\r\n       <use style=\"stroke:#000000;stroke-width:0.8;\" x=\"26.925\" xlink:href=\"#mf85a475384\" y=\"166.397143\"/>\r\n      </g>\r\n     </g>\r\n     <g id=\"text_11\">\r\n      <!-- 20 -->\r\n      <g transform=\"translate(7.2 170.196362)scale(0.1 -0.1)\">\r\n       <use xlink:href=\"#DejaVuSans-50\"/>\r\n       <use x=\"63.623047\" xlink:href=\"#DejaVuSans-48\"/>\r\n      </g>\r\n     </g>\r\n    </g>\r\n    <g id=\"ytick_6\">\r\n     <g id=\"line2d_12\">\r\n      <g>\r\n       <use style=\"stroke:#000000;stroke-width:0.8;\" x=\"26.925\" xlink:href=\"#mf85a475384\" y=\"205.225714\"/>\r\n      </g>\r\n     </g>\r\n     <g id=\"text_12\">\r\n      <!-- 25 -->\r\n      <g transform=\"translate(7.2 209.024933)scale(0.1 -0.1)\">\r\n       <use xlink:href=\"#DejaVuSans-50\"/>\r\n       <use x=\"63.623047\" xlink:href=\"#DejaVuSans-53\"/>\r\n      </g>\r\n     </g>\r\n    </g>\r\n   </g>\r\n   <g id=\"patch_3\">\r\n    <path d=\"M 26.925 224.64 \r\nL 26.925 7.2 \r\n\" style=\"fill:none;stroke:#000000;stroke-linecap:square;stroke-linejoin:miter;stroke-width:0.8;\"/>\r\n   </g>\r\n   <g id=\"patch_4\">\r\n    <path d=\"M 244.365 224.64 \r\nL 244.365 7.2 \r\n\" style=\"fill:none;stroke:#000000;stroke-linecap:square;stroke-linejoin:miter;stroke-width:0.8;\"/>\r\n   </g>\r\n   <g id=\"patch_5\">\r\n    <path d=\"M 26.925 224.64 \r\nL 244.365 224.64 \r\n\" style=\"fill:none;stroke:#000000;stroke-linecap:square;stroke-linejoin:miter;stroke-width:0.8;\"/>\r\n   </g>\r\n   <g id=\"patch_6\">\r\n    <path d=\"M 26.925 7.2 \r\nL 244.365 7.2 \r\n\" style=\"fill:none;stroke:#000000;stroke-linecap:square;stroke-linejoin:miter;stroke-width:0.8;\"/>\r\n   </g>\r\n  </g>\r\n </g>\r\n <defs>\r\n  <clipPath id=\"pa4a6e2ff7c\">\r\n   <rect height=\"217.44\" width=\"217.44\" x=\"26.925\" y=\"7.2\"/>\r\n  </clipPath>\r\n </defs>\r\n</svg>\r\n",
            "image/png": "[encoded data removed]"
          },
          "metadata": {
            "needs_background": "light"
          }
        }
      ]
    },
    {
      "cell_type": "markdown",
      "metadata": {
        "id": "NfUM0c3_10j4",
        "colab_type": "text"
      },
      "source": [
        "# Exercise Option #1 - Standard Difficulty\n",
        "Change the model so that it learns to produce 9x9 images of some simple pattern, for instance horizontal lines."
      ]
    },
    {
      "cell_type": "markdown",
      "metadata": {
        "id": "8DjAvBKR10j6",
        "colab_type": "text"
      },
      "source": [
        "# Exercise Option #2 - Advanced Difficulty\n",
        "Change the model so that you can select which number you get an image of rather than always getting a random one. I highly recommend that you limit your model to only learning two or three numbers, so that you can get decent results with less training time.\n",
        "\n",
        "## Changes made\n",
        "- Change the discriminator output format to three neurons with a softmax layer.\n",
        "    - **Justification**: In order to have control over which digit is generated, we need to have the discriminator classify the incoming images into three classes: `0`, `1`, and `fake`. Simply using a single neuron as a binary output would work only if we were only trying to generate one digit at a time.\n",
        "- Decrease the complexity of the discriminator, removing two convolutional layers and decreasing the number of filters in the remaining two layers to `8` and `16`.\n",
        "    - **Justification**: If the discriminator is too complex or is able to determine whether or not the provided image is real or fake with extremely high accuracy (and low loss), then it is difficult for the generator to learn how to update its outputs to better fool the discriminator. Consequently, it is likely that the discriminator fails to produce digit-like outputs.\n",
        "- Add another `2` neurons as input to the generator (concatenated to the noise).\n",
        "    - This allows us to specify to the generator which digit we want outputted and provide \"target labels\" for the discriminator to output when training the generator's weights.\n",
        "        - Initially, discriminator \"target label\" specification was set as a uniform distribution among all non-`fake` outputs, but this caused the model to generate \"hybrid\"-like characters (i.e., a character looking both like a zero and a one). Specifying random non-`fake` labels was also tested, but this prevented the generator's loss from decreasing as it did not know *which* digit to generate an image for.\n",
        "- Updated the `save_imgs` function to generate both `0`s and `1`s in a specific pattern to demonstrate the ability to select for specific generator outputs.\n",
        "    "
      ]
    },
    {
      "cell_type": "markdown",
      "metadata": {
        "id": "uoO-aBOrsHWh",
        "colab_type": "text"
      },
      "source": [
        "# Exercise Option #3 - Advanced Difficulty\n",
        "You may notice the current GAN with 2000 iterations only gives so-so output. Unfortunately, if you keep training past this point, the output just gets worse. I haven't yet been able to figure out how to change the model to get better results. Can you?"
      ]
    },
    {
      "cell_type": "code",
      "metadata": {
        "id": "Ufi0IeBv10j8",
        "colab_type": "code",
        "colab": {}
      },
      "source": [],
      "execution_count": null,
      "outputs": []
    }
  ]
}